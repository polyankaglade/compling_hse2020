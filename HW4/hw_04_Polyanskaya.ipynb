{
 "cells": [
  {
   "cell_type": "markdown",
   "metadata": {
    "id": "XB_LxRzSbrBl"
   },
   "source": [
    "## Домашнее задание №4\n",
    "\n",
    "В качестве домашнего задания предлагаются следующие задачи:\n",
    "\n",
    "1) Реализовать метод аугментации текстовых данных на основе дистрибутивных векторных представлений, который можно применить в перечисленных ниже задачах (на выбор) и проанализировать итоговое качество с/без аугментации.\n",
    "\n",
    "2) Решить задачу регрессии с использованием текстовых признаков на англоязычном датасете [Medium Stories](https://www.kaggle.com/harrisonjansma/medium-stories).\n",
    "\n",
    "3) Решить задачу детекции парафразов.\n",
    "\n",
    "4) Использовать методы для нахождения оптимальных гиперпараметров модели.\n",
    "\n",
    "5) Использовать кросс-валидацию и/или методы семплирования данных.\n",
    "\n",
    "Это домашнее задание является \"конструктором\": вы можете выполнить интересующие вас блоки или получить больше 10 баллов.\n",
    "\n",
    "Если качество моделей не повысилось, но попытка реализована верно, вы все равно получаете баллы (например, при конструировании собственных текстовых признаков). \n",
    "\n",
    "Дедлайн: **18 октября 23:59**\n"
   ]
  },
  {
   "cell_type": "markdown",
   "metadata": {
    "id": "GJntJKWGe3Ux"
   },
   "source": [
    "### Блок 1: Аугментация с заменой слов на основе ```word2vec``` (2 балла)\n",
    "\n",
    "* Можно использовать библиотеку ```gensim``` и модели [rusvectores](https://rusvectores.org/ru/models/)\n",
    "\n"
   ]
  },
  {
   "cell_type": "code",
   "execution_count": 2,
   "metadata": {
    "colab": {
     "base_uri": "https://localhost:8080/",
     "height": 301
    },
    "id": "mR7tuRTwf_cz",
    "outputId": "29ed11c5-8694-4eab-d38b-c3602fa776a1"
   },
   "outputs": [],
   "source": [
    "# !wget -c http://vectors.nlpl.eu/repository/20/180.zip\n",
    "# !unzip 180.zip"
   ]
  },
  {
   "cell_type": "code",
   "execution_count": 1,
   "metadata": {
    "colab": {
     "base_uri": "https://localhost:8080/",
     "height": 72
    },
    "id": "P64Ge3mLZ4zn",
    "outputId": "0a2756a1-2613-40e1-c09a-f31a940a9a25"
   },
   "outputs": [],
   "source": [
    "import os\n",
    "import gensim\n",
    "\n",
    "model_path = r'C:\\Users\\User\\Documents\\embeddings\\ruscorpora_upos_cbow_300_20_2019'\n",
    "\n",
    "model = gensim.models.KeyedVectors.load_word2vec_format(os.path.join(model_path, \"model.bin\"), binary=True)\n",
    "model.init_sims(replace=True)"
   ]
  },
  {
   "cell_type": "code",
   "execution_count": 2,
   "metadata": {},
   "outputs": [],
   "source": [
    "import spacy\n",
    "\n",
    "nlp = spacy.load('ru2')"
   ]
  },
  {
   "cell_type": "code",
   "execution_count": 3,
   "metadata": {},
   "outputs": [],
   "source": [
    "def pos_tag(sent):\n",
    "    doc = nlp(sent)\n",
    "    return [(w.text, w.lemma_, w.pos_, w.tag_) for w in doc]"
   ]
  },
  {
   "cell_type": "code",
   "execution_count": 72,
   "metadata": {},
   "outputs": [
    {
     "data": {
      "text/plain": [
       "{'ADJ', 'ADV', 'INTJ', 'NOUN', 'NUM', 'PROPN', 'SYM', 'VERB', 'X'}"
      ]
     },
     "execution_count": 72,
     "metadata": {},
     "output_type": "execute_result"
    }
   ],
   "source": [
    "set([x.split('_')[1] for x in list(model.vocab.keys())])"
   ]
  },
  {
   "cell_type": "markdown",
   "metadata": {
    "id": "kdUdpIiDhpFA"
   },
   "source": [
    "Напишите функцию, которая заменяет слова во входном предложении их ближайшими семантическими ассоциатами (1 балл)."
   ]
  },
  {
   "cell_type": "code",
   "execution_count": 174,
   "metadata": {
    "id": "9PcdwIL0hHBv"
   },
   "outputs": [],
   "source": [
    "def augment_word2vec(sentence, model=model, log=False):\n",
    "    tagged = pos_tag(sentence)\n",
    "    if log:\n",
    "        print(tagged)\n",
    "    result = ''\n",
    "    for token, lemma, tag, _ in tagged:\n",
    "    \n",
    "        if tag == 'PUNCT':\n",
    "            result += token\n",
    "        elif tag in ['X', 'NUM', 'SYM',\n",
    "                     'ADP', 'AUX', 'CCONJ', 'SCONJ',\n",
    "                     'DET', 'PART', 'PRON']:\n",
    "            result += ' ' + token\n",
    "        else:\n",
    "            lemma = lemma.replace('ё', 'е')\n",
    "            raw_token = f'{lemma}_{tag}'\n",
    "            if raw_token in model:\n",
    "                top_sim = model.most_similar(positive=[raw_token], topn=5)\n",
    "                for sim in top_sim:\n",
    "                    new_token = sim[0].split('_')[0]\n",
    "                    if new_token != lemma:\n",
    "                            break\n",
    "                \n",
    "                result += ' ' + new_token\n",
    "                if log:\n",
    "                    print(f'{token} -> {new_token}')\n",
    "            else:\n",
    "                result += ' ' + token\n",
    "    return result.strip()"
   ]
  },
  {
   "cell_type": "code",
   "execution_count": 175,
   "metadata": {
    "colab": {
     "base_uri": "https://localhost:8080/",
     "height": 35
    },
    "id": "L4xscKdqkpPy",
    "outputId": "397f9f7e-9300-482d-f89d-da814263897e"
   },
   "outputs": [
    {
     "name": "stdout",
     "output_type": "stream",
     "text": [
      "[('мама', 'мама', 'NOUN', 'NOUN__Animacy=Anim|Case=Nom|Gender=Fem|Number=Sing'), ('помыла', 'помыла', 'VERB', 'VERB__Aspect=Imp|Gender=Fem|Mood=Ind|Number=Sing|Tense=Past|VerbForm=Fin|Voice=Act'), ('окно', 'окно', 'NOUN', 'NOUN__Animacy=Inan|Case=Acc|Gender=Neut|Number=Sing')]\n",
      "мама -> бабушка\n",
      "окно -> окошко\n"
     ]
    },
    {
     "data": {
      "text/plain": [
       "'бабушка помыла окошко'"
      ]
     },
     "execution_count": 175,
     "metadata": {},
     "output_type": "execute_result"
    }
   ],
   "source": [
    "import warnings\n",
    "warnings.simplefilter(action='ignore', category=FutureWarning)\n",
    "\n",
    "sent = \"мама помыла окно\"\n",
    "\n",
    "# пример работы наивной функции\n",
    "augment_word2vec(sent, model=model, log=True)"
   ]
  },
  {
   "cell_type": "code",
   "execution_count": 6,
   "metadata": {},
   "outputs": [
    {
     "name": "stdout",
     "output_type": "stream",
     "text": [
      "[('моя', 'мой', 'DET', 'DET__Case=Nom|Gender=Fem|Number=Sing'), ('учительница', 'учительница', 'NOUN', 'NOUN__Animacy=Anim|Case=Nom|Gender=Fem|Number=Sing'), ('по', 'по', 'ADP', 'ADP___'), ('музыке', 'музыка', 'NOUN', 'NOUN__Animacy=Inan|Case=Dat|Gender=Fem|Number=Sing'), ('любит', 'любить', 'VERB', 'VERB__Aspect=Imp|Mood=Ind|Number=Sing|Person=3|Tense=Pres|VerbForm=Fin|Voice=Act'), ('кушать', 'кушать', 'VERB', 'VERB__Aspect=Imp|VerbForm=Inf|Voice=Act'), ('бутерброды', 'бутерброд', 'NOUN', 'NOUN__Animacy=Inan|Case=Acc|Gender=Masc|Number=Plur'), ('с', 'с', 'ADP', 'ADP___'), ('юными', 'юный', 'ADJ', 'ADJ__Case=Ins|Degree=Pos|Number=Plur'), ('учениками', 'ученик', 'NOUN', 'NOUN__Animacy=Anim|Case=Ins|Gender=Masc|Number=Plur')]\n",
      "учительница -> училка\n",
      "музыке -> джаз\n",
      "любит -> нравиться\n",
      "кушать -> откушать\n",
      "бутерброды -> котлета\n",
      "юными -> молоденький\n",
      "учениками -> педагог\n"
     ]
    },
    {
     "data": {
      "text/plain": [
       "'моя училка по джаз нравиться откушать котлета с молоденький педагог'"
      ]
     },
     "execution_count": 6,
     "metadata": {},
     "output_type": "execute_result"
    }
   ],
   "source": [
    "augment_word2vec('моя учительница по музыке любит кушать бутерброды с юными учениками', model=model, log=True)"
   ]
  },
  {
   "cell_type": "code",
   "execution_count": 7,
   "metadata": {},
   "outputs": [
    {
     "name": "stdout",
     "output_type": "stream",
     "text": [
      "германия — освящять наша княжество,\n",
      "германия — обожать наша республика.\n",
      "исполинский своеволие, равноапостольный хвала —\n",
      "Твоё сокровищница на все момент!\n",
      "\n",
      "Славься, доблестный наше независимый,\n",
      "-илимский государство организация тысячелетний,\n",
      "пращура данная разум национальный!\n",
      "Славься, республика! Мы восхищаться тобой!\n"
     ]
    }
   ],
   "source": [
    "gimn = '''Россия — священная наша держава,\n",
    "Россия — любимая наша страна.\n",
    "Могучая воля, великая слава —\n",
    "Твоё достоянье на все времена!\n",
    "\n",
    "Славься, Отечество наше свободное,\n",
    "Братских народов союз вековой,\n",
    "Предками данная мудрость народная!\n",
    "Славься, страна! Мы гордимся тобой!'''\n",
    "\n",
    "for stroka in gimn.split('\\n'):\n",
    "    print(augment_word2vec(stroka, model=model))"
   ]
  },
  {
   "cell_type": "markdown",
   "metadata": {
    "id": "WWFKcZshiBDY"
   },
   "source": [
    "Измените функцию так, чтобы заменялись слова, относящиеся к заданному набору пос-тегов (например, ADJ, NOUN), и сохранялась грамматика (1 балл). "
   ]
  },
  {
   "cell_type": "code",
   "execution_count": 8,
   "metadata": {},
   "outputs": [],
   "source": [
    "import re\n",
    "\n",
    "import pymorphy2\n",
    "morph = pymorphy2.MorphAnalyzer()"
   ]
  },
  {
   "cell_type": "code",
   "execution_count": 199,
   "metadata": {
    "id": "AvukGlGgiWnI"
   },
   "outputs": [],
   "source": [
    "def augment_word2vec_pos(sentence, model, log=False):\n",
    "    \n",
    "    allowed_pos = ['NOUN', 'ADJ']\n",
    "    \n",
    "    tagged = pos_tag(sentence)\n",
    "    if log:\n",
    "        print(tagged)\n",
    "    result = ''\n",
    "    for token, lemma, tag, gram in tagged:\n",
    "    \n",
    "        if tag == 'PUNCT':\n",
    "            result += token\n",
    "        else:\n",
    "            if tag in allowed_pos:\n",
    "                lemma = lemma.replace('ё', 'е')\n",
    "                raw_token = f'{lemma}_{tag}'\n",
    "                if raw_token in model:\n",
    "                    top_sim = model.most_similar(positive=[raw_token], topn=10)\n",
    "                    for sim in top_sim:\n",
    "                        new_token = sim[0].split('_')[0]\n",
    "                        if new_token != lemma:\n",
    "                            break\n",
    "                    try:\n",
    "                        number = re.search('Number=(.*?)$', gram).group(1).lower()\n",
    "                        new_token = morph.parse(new_token)[0].inflect({number}).word\n",
    "                    except:\n",
    "                        pass\n",
    "                    \n",
    "                    if log:\n",
    "                        print(f'{token} -> {new_token}')\n",
    "                    token = new_token\n",
    "    \n",
    "            result += ' ' + token\n",
    "    return result.strip()"
   ]
  },
  {
   "cell_type": "code",
   "execution_count": 200,
   "metadata": {},
   "outputs": [
    {
     "name": "stdout",
     "output_type": "stream",
     "text": [
      "[('маленькие', 'маленький', 'ADJ', 'ADJ__Case=Nom|Degree=Pos|Number=Plur'), ('дети', 'ребёнок', 'NOUN', 'NOUN__Animacy=Anim|Case=Nom|Gender=Masc|Number=Plur'), ('любят', 'любить', 'VERB', 'VERB__Aspect=Imp|Mood=Ind|Number=Plur|Person=3|Tense=Pres|VerbForm=Fin|Voice=Act'), ('думать', 'думать', 'VERB', 'VERB__Aspect=Imp|VerbForm=Inf|Voice=Act'), ('о', 'о', 'ADP', 'ADP___'), ('быстрых', 'быстрый', 'ADJ', 'ADJ__Case=Loc|Degree=Pos|Number=Plur'), ('поездах', 'поезд', 'NOUN', 'NOUN__Animacy=Inan|Case=Loc|Gender=Masc|Number=Plur')]\n",
      "маленькие -> крошечные\n",
      "дети -> детишки\n",
      "быстрых -> стремительные\n",
      "поездах -> вагоны\n"
     ]
    },
    {
     "data": {
      "text/plain": [
       "'крошечные детишки любят думать о стремительные вагоны'"
      ]
     },
     "execution_count": 200,
     "metadata": {},
     "output_type": "execute_result"
    }
   ],
   "source": [
    "augment_word2vec_pos('маленькие дети любят думать о быстрых поездах', model=model, log=True)"
   ]
  },
  {
   "cell_type": "code",
   "execution_count": 201,
   "metadata": {},
   "outputs": [
    {
     "name": "stdout",
     "output_type": "stream",
     "text": [
      "[('маленькие', 'маленький', 'ADJ', 'ADJ__Case=Nom|Degree=Pos|Number=Plur'), ('дети', 'ребёнок', 'NOUN', 'NOUN__Animacy=Anim|Case=Nom|Gender=Masc|Number=Plur'), ('любят', 'любить', 'VERB', 'VERB__Aspect=Imp|Mood=Ind|Number=Plur|Person=3|Tense=Pres|VerbForm=Fin|Voice=Act'), ('думать', 'думать', 'VERB', 'VERB__Aspect=Imp|VerbForm=Inf|Voice=Act'), ('о', 'о', 'ADP', 'ADP___'), ('быстрых', 'быстрый', 'ADJ', 'ADJ__Case=Loc|Degree=Pos|Number=Plur'), ('поездах', 'поезд', 'NOUN', 'NOUN__Animacy=Inan|Case=Loc|Gender=Masc|Number=Plur')]\n",
      "маленькие -> крошечный\n",
      "дети -> детишки\n",
      "любят -> обожать\n",
      "думать -> подумать\n",
      "быстрых -> стремительный\n",
      "поездах -> вагон\n"
     ]
    },
    {
     "data": {
      "text/plain": [
       "'крошечный детишки обожать подумать о стремительный вагон'"
      ]
     },
     "execution_count": 201,
     "metadata": {},
     "output_type": "execute_result"
    }
   ],
   "source": [
    "augment_word2vec('маленькие дети любят думать о быстрых поездах', model=model, log=True)"
   ]
  },
  {
   "cell_type": "markdown",
   "metadata": {
    "id": "m9SrNOmbEf_p"
   },
   "source": [
    "### Блок 3: Paraphrase Detection (до 8 баллов)\n",
    "\n",
    "\n",
    "* [Статья по русскоязычному корпусу парафразов](https://www.aclweb.org/anthology/2020.ngt-1.6/)\n",
    "* [Еще статья](http://www.dialog-21.ru/media/3928/loukachevitchnvetal.pdf)\n",
    "* [Сайт корпуса](http://paraphraser.ru/)\n",
    "\n",
    "Отформатированные данные можно скачать [здесь](https://yadi.sk/d/OIgbnRA6OVJ4VQ)\n",
    "\n",
    "\n",
    "1. [X]  Эксплоративный анализ данных (1 балл)\n",
    "2. [X]  Поиск гиперпараметров, минимизация переобучения (2 балла)\n",
    "3. [X]  Аугментация данных (1 балл)\n",
    "4. [X]  Сравнение качества моделей, выбор наилучшей (1 балл)\n",
    "5. [X]  Конструирование текстовых признаков (2 балла)\n",
    "6. [X]  Анализ ошибок (1 балл)\n",
    "\n",
    "__NB: уже готовые датафреймы можно загрузить из файлов `para.tsv` и `augmented_para.tsv` и пропустить все шаги до собственно [этапа обучения моделей](#Данные)__"
   ]
  },
  {
   "cell_type": "code",
   "execution_count": 12,
   "metadata": {},
   "outputs": [],
   "source": [
    "import pandas as pd\n",
    "\n",
    "from tqdm.auto import tqdm\n",
    "tqdm.pandas()"
   ]
  },
  {
   "cell_type": "code",
   "execution_count": 13,
   "metadata": {
    "colab": {
     "base_uri": "https://localhost:8080/",
     "height": 197
    },
    "id": "iDXYQu_uWSGm",
    "outputId": "5c0937bf-6fcf-47a6-cb26-a87d4a44dbe1"
   },
   "outputs": [
    {
     "data": {
      "text/html": [
       "<div>\n",
       "<style scoped>\n",
       "    .dataframe tbody tr th:only-of-type {\n",
       "        vertical-align: middle;\n",
       "    }\n",
       "\n",
       "    .dataframe tbody tr th {\n",
       "        vertical-align: top;\n",
       "    }\n",
       "\n",
       "    .dataframe thead th {\n",
       "        text-align: right;\n",
       "    }\n",
       "</style>\n",
       "<table border=\"1\" class=\"dataframe\">\n",
       "  <thead>\n",
       "    <tr style=\"text-align: right;\">\n",
       "      <th></th>\n",
       "      <th>text_1</th>\n",
       "      <th>text_2</th>\n",
       "      <th>class</th>\n",
       "    </tr>\n",
       "  </thead>\n",
       "  <tbody>\n",
       "    <tr>\n",
       "      <th>0</th>\n",
       "      <td>Совет юстиции Бразилии легализовал однополые б...</td>\n",
       "      <td>Совет юстиции Бразилии разрешил однополые браки.</td>\n",
       "      <td>1</td>\n",
       "    </tr>\n",
       "    <tr>\n",
       "      <th>1</th>\n",
       "      <td>\"Магнит\" поручится перед \"Абсолют Банком\" за к...</td>\n",
       "      <td>Выпуск сигарет в России упал из-за антитабачно...</td>\n",
       "      <td>-1</td>\n",
       "    </tr>\n",
       "    <tr>\n",
       "      <th>2</th>\n",
       "      <td>ЕС призвал США не бомбить Сирию до публикации ...</td>\n",
       "      <td>Евросоюз призвал США дождаться доклада ООН по ...</td>\n",
       "      <td>-1</td>\n",
       "    </tr>\n",
       "    <tr>\n",
       "      <th>3</th>\n",
       "      <td>Депо Московского метрополитена впервые перейде...</td>\n",
       "      <td>Частной компании впервые отдадут депо в москов...</td>\n",
       "      <td>1</td>\n",
       "    </tr>\n",
       "    <tr>\n",
       "      <th>4</th>\n",
       "      <td>Два человека погибли в столкновениях между кур...</td>\n",
       "      <td>Один человек погиб при столкновении судов у бе...</td>\n",
       "      <td>-1</td>\n",
       "    </tr>\n",
       "  </tbody>\n",
       "</table>\n",
       "</div>"
      ],
      "text/plain": [
       "                                              text_1  \\\n",
       "0  Совет юстиции Бразилии легализовал однополые б...   \n",
       "1  \"Магнит\" поручится перед \"Абсолют Банком\" за к...   \n",
       "2  ЕС призвал США не бомбить Сирию до публикации ...   \n",
       "3  Депо Московского метрополитена впервые перейде...   \n",
       "4  Два человека погибли в столкновениях между кур...   \n",
       "\n",
       "                                              text_2  class  \n",
       "0   Совет юстиции Бразилии разрешил однополые браки.      1  \n",
       "1  Выпуск сигарет в России упал из-за антитабачно...     -1  \n",
       "2  Евросоюз призвал США дождаться доклада ООН по ...     -1  \n",
       "3  Частной компании впервые отдадут депо в москов...      1  \n",
       "4  Один человек погиб при столкновении судов у бе...     -1  "
      ]
     },
     "execution_count": 13,
     "metadata": {},
     "output_type": "execute_result"
    }
   ],
   "source": [
    "para = pd.read_csv(\"paraphrases.tsv\", sep=\"\\t\")\n",
    "para.head()"
   ]
  },
  {
   "cell_type": "code",
   "execution_count": 14,
   "metadata": {},
   "outputs": [
    {
     "data": {
      "text/plain": [
       "-1    5164\n",
       " 1    3376\n",
       "Name: class, dtype: int64"
      ]
     },
     "execution_count": 14,
     "metadata": {},
     "output_type": "execute_result"
    }
   ],
   "source": [
    "para['class'].value_counts()"
   ]
  },
  {
   "cell_type": "code",
   "execution_count": 15,
   "metadata": {},
   "outputs": [],
   "source": [
    "def recode_class(i):\n",
    "    if i == -1:\n",
    "        i = 0\n",
    "    return i"
   ]
  },
  {
   "cell_type": "code",
   "execution_count": 16,
   "metadata": {},
   "outputs": [
    {
     "data": {
      "text/html": [
       "<div>\n",
       "<style scoped>\n",
       "    .dataframe tbody tr th:only-of-type {\n",
       "        vertical-align: middle;\n",
       "    }\n",
       "\n",
       "    .dataframe tbody tr th {\n",
       "        vertical-align: top;\n",
       "    }\n",
       "\n",
       "    .dataframe thead th {\n",
       "        text-align: right;\n",
       "    }\n",
       "</style>\n",
       "<table border=\"1\" class=\"dataframe\">\n",
       "  <thead>\n",
       "    <tr style=\"text-align: right;\">\n",
       "      <th></th>\n",
       "      <th>text_1</th>\n",
       "      <th>text_2</th>\n",
       "      <th>class</th>\n",
       "    </tr>\n",
       "  </thead>\n",
       "  <tbody>\n",
       "    <tr>\n",
       "      <th>0</th>\n",
       "      <td>Совет юстиции Бразилии легализовал однополые б...</td>\n",
       "      <td>Совет юстиции Бразилии разрешил однополые браки.</td>\n",
       "      <td>1</td>\n",
       "    </tr>\n",
       "    <tr>\n",
       "      <th>1</th>\n",
       "      <td>\"Магнит\" поручится перед \"Абсолют Банком\" за к...</td>\n",
       "      <td>Выпуск сигарет в России упал из-за антитабачно...</td>\n",
       "      <td>0</td>\n",
       "    </tr>\n",
       "    <tr>\n",
       "      <th>2</th>\n",
       "      <td>ЕС призвал США не бомбить Сирию до публикации ...</td>\n",
       "      <td>Евросоюз призвал США дождаться доклада ООН по ...</td>\n",
       "      <td>0</td>\n",
       "    </tr>\n",
       "    <tr>\n",
       "      <th>3</th>\n",
       "      <td>Депо Московского метрополитена впервые перейде...</td>\n",
       "      <td>Частной компании впервые отдадут депо в москов...</td>\n",
       "      <td>1</td>\n",
       "    </tr>\n",
       "    <tr>\n",
       "      <th>4</th>\n",
       "      <td>Два человека погибли в столкновениях между кур...</td>\n",
       "      <td>Один человек погиб при столкновении судов у бе...</td>\n",
       "      <td>0</td>\n",
       "    </tr>\n",
       "  </tbody>\n",
       "</table>\n",
       "</div>"
      ],
      "text/plain": [
       "                                              text_1  \\\n",
       "0  Совет юстиции Бразилии легализовал однополые б...   \n",
       "1  \"Магнит\" поручится перед \"Абсолют Банком\" за к...   \n",
       "2  ЕС призвал США не бомбить Сирию до публикации ...   \n",
       "3  Депо Московского метрополитена впервые перейде...   \n",
       "4  Два человека погибли в столкновениях между кур...   \n",
       "\n",
       "                                              text_2  class  \n",
       "0   Совет юстиции Бразилии разрешил однополые браки.      1  \n",
       "1  Выпуск сигарет в России упал из-за антитабачно...      0  \n",
       "2  Евросоюз призвал США дождаться доклада ООН по ...      0  \n",
       "3  Частной компании впервые отдадут депо в москов...      1  \n",
       "4  Один человек погиб при столкновении судов у бе...      0  "
      ]
     },
     "execution_count": 16,
     "metadata": {},
     "output_type": "execute_result"
    }
   ],
   "source": [
    "para['class'] = para['class'].apply(recode_class)\n",
    "para.head()"
   ]
  },
  {
   "cell_type": "code",
   "execution_count": 17,
   "metadata": {},
   "outputs": [
    {
     "name": "stdout",
     "output_type": "stream",
     "text": [
      "<class 'pandas.core.frame.DataFrame'>\n",
      "Int64Index: 4257 entries, 0 to 8495\n",
      "Data columns (total 3 columns):\n",
      "text_1    4257 non-null object\n",
      "text_2    4257 non-null object\n",
      "class     4257 non-null int64\n",
      "dtypes: int64(1), object(2)\n",
      "memory usage: 133.0+ KB\n"
     ]
    }
   ],
   "source": [
    "para.drop_duplicates(inplace=True)\n",
    "para.info()"
   ]
  },
  {
   "cell_type": "markdown",
   "metadata": {},
   "source": [
    "## Текстовые признаки"
   ]
  },
  {
   "cell_type": "code",
   "execution_count": 24,
   "metadata": {},
   "outputs": [],
   "source": [
    "import numpy as np\n",
    "import seaborn as sns\n",
    "import matplotlib.pyplot as plt"
   ]
  },
  {
   "cell_type": "markdown",
   "metadata": {},
   "source": [
    "### Длины"
   ]
  },
  {
   "cell_type": "code",
   "execution_count": 18,
   "metadata": {},
   "outputs": [],
   "source": [
    "import re\n",
    "from razdel import tokenize\n",
    "from nltk.corpus import stopwords\n",
    "stops = stopwords.words(\"russian\")\n",
    "\n",
    "from pymorphy2 import MorphAnalyzer\n",
    "morph = MorphAnalyzer()\n",
    "\n",
    "def tokenizer(text_data):\n",
    "    tokens = [_.text for _ in list(tokenize(str(text_data).lower()))] #if not re.search('[^а-яА-ЯёЁa-zA-z]', _.text)]\n",
    "    return \" \".join(tokens)\n",
    "\n",
    "def get_words(tokens):\n",
    "    words = [token for token in tokens.split() if not re.search('[^а-яА-ЯёЁa-zA-z]', token)]\n",
    "    return \" \".join(words)\n",
    "\n",
    "def count_words(words):\n",
    "    return len(words.split())\n",
    "\n",
    "def av_word_length(words):\n",
    "    l = [len(word) for word in words.split()]\n",
    "    return sum(l)/len(l)\n",
    "\n",
    "def lemmatizer(tokens):\n",
    "    lem_text = []\n",
    "    for word in tokens.split():\n",
    "        lem = morph.parse(word)[0].normal_form\n",
    "        if lem not in stops:\n",
    "            lem_text.append(lem)\n",
    "    return ' '.join(lem_text)"
   ]
  },
  {
   "cell_type": "code",
   "execution_count": 19,
   "metadata": {},
   "outputs": [
    {
     "data": {
      "application/vnd.jupyter.widget-view+json": {
       "model_id": "15302ddd417943c295f1f4e6eddeaf01",
       "version_major": 2,
       "version_minor": 0
      },
      "text/plain": [
       "HBox(children=(IntProgress(value=0, max=4257), HTML(value='')))"
      ]
     },
     "metadata": {},
     "output_type": "display_data"
    },
    {
     "name": "stdout",
     "output_type": "stream",
     "text": [
      "\n"
     ]
    },
    {
     "data": {
      "application/vnd.jupyter.widget-view+json": {
       "model_id": "d73f4bb5a88849ada34725875846bd1d",
       "version_major": 2,
       "version_minor": 0
      },
      "text/plain": [
       "HBox(children=(IntProgress(value=0, max=4257), HTML(value='')))"
      ]
     },
     "metadata": {},
     "output_type": "display_data"
    },
    {
     "name": "stdout",
     "output_type": "stream",
     "text": [
      "\n"
     ]
    },
    {
     "data": {
      "application/vnd.jupyter.widget-view+json": {
       "model_id": "d80e1c08d4854f4d97f671cbbec4fc09",
       "version_major": 2,
       "version_minor": 0
      },
      "text/plain": [
       "HBox(children=(IntProgress(value=0, max=4257), HTML(value='')))"
      ]
     },
     "metadata": {},
     "output_type": "display_data"
    },
    {
     "name": "stdout",
     "output_type": "stream",
     "text": [
      "\n"
     ]
    },
    {
     "data": {
      "application/vnd.jupyter.widget-view+json": {
       "model_id": "bad0ad9a5d284bab9f67a5da7bfc0c94",
       "version_major": 2,
       "version_minor": 0
      },
      "text/plain": [
       "HBox(children=(IntProgress(value=0, max=4257), HTML(value='')))"
      ]
     },
     "metadata": {},
     "output_type": "display_data"
    },
    {
     "name": "stdout",
     "output_type": "stream",
     "text": [
      "\n"
     ]
    },
    {
     "data": {
      "application/vnd.jupyter.widget-view+json": {
       "model_id": "913913b9ef754b5f86066ed2cb93a4fc",
       "version_major": 2,
       "version_minor": 0
      },
      "text/plain": [
       "HBox(children=(IntProgress(value=0, max=4257), HTML(value='')))"
      ]
     },
     "metadata": {},
     "output_type": "display_data"
    },
    {
     "name": "stdout",
     "output_type": "stream",
     "text": [
      "\n"
     ]
    },
    {
     "data": {
      "application/vnd.jupyter.widget-view+json": {
       "model_id": "51627de80e144a4ca252b67f3edbaf3a",
       "version_major": 2,
       "version_minor": 0
      },
      "text/plain": [
       "HBox(children=(IntProgress(value=0, max=4257), HTML(value='')))"
      ]
     },
     "metadata": {},
     "output_type": "display_data"
    },
    {
     "name": "stdout",
     "output_type": "stream",
     "text": [
      "\n"
     ]
    },
    {
     "data": {
      "application/vnd.jupyter.widget-view+json": {
       "model_id": "c71f43135d9142c1931e28e790984f05",
       "version_major": 2,
       "version_minor": 0
      },
      "text/plain": [
       "HBox(children=(IntProgress(value=0, max=4257), HTML(value='')))"
      ]
     },
     "metadata": {},
     "output_type": "display_data"
    },
    {
     "name": "stdout",
     "output_type": "stream",
     "text": [
      "\n"
     ]
    },
    {
     "data": {
      "application/vnd.jupyter.widget-view+json": {
       "model_id": "bef76548843e426cb730017b5f5c6f43",
       "version_major": 2,
       "version_minor": 0
      },
      "text/plain": [
       "HBox(children=(IntProgress(value=0, max=4257), HTML(value='')))"
      ]
     },
     "metadata": {},
     "output_type": "display_data"
    },
    {
     "name": "stdout",
     "output_type": "stream",
     "text": [
      "\n"
     ]
    }
   ],
   "source": [
    "for i in [1, 2]:\n",
    "    para[f'tokens_{i}'] = para[f'text_{i}'].progress_apply(tokenizer)\n",
    "    para[f'words_{i}'] = para[f'tokens_{i}'].progress_apply(get_words)\n",
    "    para[f'n_words_{i}'] = para[f'words_{i}'].progress_apply(count_words)\n",
    "    para[f'av_words_length_{i}'] = para[f'words_{i}'].progress_apply(av_word_length)"
   ]
  },
  {
   "cell_type": "code",
   "execution_count": 25,
   "metadata": {},
   "outputs": [],
   "source": [
    "para['n_words_diff'] = para['n_words_1'] - para['n_words_2']"
   ]
  },
  {
   "cell_type": "markdown",
   "metadata": {},
   "source": [
    "### Частеречные различия"
   ]
  },
  {
   "cell_type": "code",
   "execution_count": 229,
   "metadata": {},
   "outputs": [],
   "source": [
    "tag_list = ['ADJF', 'ADJS', 'ADVB', 'COMP', 'CONJ', 'GRND', 'INFN', 'INTJ', 'NOUN',\n",
    "            'NPRO', 'NUMR', 'None', 'PRCL', 'PRED', 'PREP', 'PRTF', 'PRTS', 'VERB']\n",
    "\n",
    "def count_POS(words):\n",
    "    POS_dict = {'ADJF': 0,\n",
    "                'ADJS': 0,\n",
    "                'ADVB': 0,\n",
    "                'COMP': 0,\n",
    "                'CONJ': 0,\n",
    "                'GRND': 0,\n",
    "                'INFN': 0,\n",
    "                'INTJ': 0,\n",
    "                'NOUN': 0,\n",
    "                'NPRO': 0,\n",
    "                'NUMR': 0,\n",
    "                'None': 0,\n",
    "                'PRCL': 0,\n",
    "                'PRED': 0,\n",
    "                'PREP': 0,\n",
    "                'PRTF': 0,\n",
    "                'PRTS': 0,\n",
    "                'VERB': 0}\n",
    "    \n",
    "    for word in words.split():\n",
    "        p = morph.parse(word)[0]\n",
    "        tag = p.tag.POS\n",
    "        if tag is None:\n",
    "            tag = 'None'\n",
    "        POS_dict[tag] += 1\n",
    "    return list(POS_dict.values())"
   ]
  },
  {
   "cell_type": "code",
   "execution_count": 230,
   "metadata": {},
   "outputs": [
    {
     "data": {
      "application/vnd.jupyter.widget-view+json": {
       "model_id": "0f85d8a82b954e86930c8c40f065b18f",
       "version_major": 2,
       "version_minor": 0
      },
      "text/plain": [
       "HBox(children=(IntProgress(value=0, max=4257), HTML(value='')))"
      ]
     },
     "metadata": {},
     "output_type": "display_data"
    },
    {
     "name": "stdout",
     "output_type": "stream",
     "text": [
      "\n"
     ]
    },
    {
     "data": {
      "application/vnd.jupyter.widget-view+json": {
       "model_id": "bba30b98cf3b42f3a7ce323fed4e3693",
       "version_major": 2,
       "version_minor": 0
      },
      "text/plain": [
       "HBox(children=(IntProgress(value=0, max=4257), HTML(value='')))"
      ]
     },
     "metadata": {},
     "output_type": "display_data"
    },
    {
     "name": "stdout",
     "output_type": "stream",
     "text": [
      "\n"
     ]
    }
   ],
   "source": [
    "for i in [1, 2]:\n",
    "    para[f'pos_vector_{i}'] = para[f'words_{i}'].progress_apply(count_POS)"
   ]
  },
  {
   "cell_type": "code",
   "execution_count": 231,
   "metadata": {},
   "outputs": [],
   "source": [
    "def substract(a, b):\n",
    "    return [a_i - b_i for a_i, b_i in zip(a, b)]"
   ]
  },
  {
   "cell_type": "code",
   "execution_count": 232,
   "metadata": {},
   "outputs": [],
   "source": [
    "para['pos_diff'] = [substract(p1, p2) for p1, p2 in zip(para.pos_vector_1, para.pos_vector_2)]\n",
    "para[ [tag for tag in tag_list] ] = para['pos_diff'].tolist()"
   ]
  },
  {
   "cell_type": "code",
   "execution_count": 233,
   "metadata": {},
   "outputs": [
    {
     "data": {
      "text/html": [
       "<div>\n",
       "<style scoped>\n",
       "    .dataframe tbody tr th:only-of-type {\n",
       "        vertical-align: middle;\n",
       "    }\n",
       "\n",
       "    .dataframe tbody tr th {\n",
       "        vertical-align: top;\n",
       "    }\n",
       "\n",
       "    .dataframe thead th {\n",
       "        text-align: right;\n",
       "    }\n",
       "</style>\n",
       "<table border=\"1\" class=\"dataframe\">\n",
       "  <thead>\n",
       "    <tr style=\"text-align: right;\">\n",
       "      <th></th>\n",
       "      <th>ADJF</th>\n",
       "      <th>ADJS</th>\n",
       "      <th>ADVB</th>\n",
       "      <th>COMP</th>\n",
       "      <th>CONJ</th>\n",
       "      <th>GRND</th>\n",
       "      <th>INFN</th>\n",
       "      <th>INTJ</th>\n",
       "      <th>NOUN</th>\n",
       "      <th>NPRO</th>\n",
       "      <th>NUMR</th>\n",
       "      <th>None</th>\n",
       "      <th>PRCL</th>\n",
       "      <th>PRED</th>\n",
       "      <th>PREP</th>\n",
       "      <th>PRTF</th>\n",
       "      <th>PRTS</th>\n",
       "      <th>VERB</th>\n",
       "    </tr>\n",
       "  </thead>\n",
       "  <tbody>\n",
       "    <tr>\n",
       "      <th>count</th>\n",
       "      <td>4257.000000</td>\n",
       "      <td>4257.000000</td>\n",
       "      <td>4257.000000</td>\n",
       "      <td>4257.000000</td>\n",
       "      <td>4257.000000</td>\n",
       "      <td>4257.000000</td>\n",
       "      <td>4257.000000</td>\n",
       "      <td>4257.000000</td>\n",
       "      <td>4257.000000</td>\n",
       "      <td>4257.000000</td>\n",
       "      <td>4257.000000</td>\n",
       "      <td>4257.000000</td>\n",
       "      <td>4257.000000</td>\n",
       "      <td>4257.000000</td>\n",
       "      <td>4257.000000</td>\n",
       "      <td>4257.000000</td>\n",
       "      <td>4257.000000</td>\n",
       "      <td>4257.000000</td>\n",
       "    </tr>\n",
       "    <tr>\n",
       "      <th>mean</th>\n",
       "      <td>0.023021</td>\n",
       "      <td>-0.009161</td>\n",
       "      <td>0.006108</td>\n",
       "      <td>-0.001409</td>\n",
       "      <td>-0.054264</td>\n",
       "      <td>0.002819</td>\n",
       "      <td>0.017383</td>\n",
       "      <td>0.004933</td>\n",
       "      <td>0.381959</td>\n",
       "      <td>-0.003054</td>\n",
       "      <td>-0.007047</td>\n",
       "      <td>0.023256</td>\n",
       "      <td>-0.014799</td>\n",
       "      <td>0.001409</td>\n",
       "      <td>0.155743</td>\n",
       "      <td>0.009631</td>\n",
       "      <td>0.041579</td>\n",
       "      <td>-0.052619</td>\n",
       "    </tr>\n",
       "    <tr>\n",
       "      <th>std</th>\n",
       "      <td>0.777344</td>\n",
       "      <td>0.267544</td>\n",
       "      <td>0.363334</td>\n",
       "      <td>0.116730</td>\n",
       "      <td>0.550646</td>\n",
       "      <td>0.061249</td>\n",
       "      <td>0.357753</td>\n",
       "      <td>0.087917</td>\n",
       "      <td>1.426697</td>\n",
       "      <td>0.202754</td>\n",
       "      <td>0.240315</td>\n",
       "      <td>0.371284</td>\n",
       "      <td>0.360160</td>\n",
       "      <td>0.124521</td>\n",
       "      <td>0.976190</td>\n",
       "      <td>0.277867</td>\n",
       "      <td>0.343317</td>\n",
       "      <td>0.521667</td>\n",
       "    </tr>\n",
       "    <tr>\n",
       "      <th>min</th>\n",
       "      <td>-4.000000</td>\n",
       "      <td>-2.000000</td>\n",
       "      <td>-3.000000</td>\n",
       "      <td>-2.000000</td>\n",
       "      <td>-3.000000</td>\n",
       "      <td>-1.000000</td>\n",
       "      <td>-2.000000</td>\n",
       "      <td>-1.000000</td>\n",
       "      <td>-7.000000</td>\n",
       "      <td>-3.000000</td>\n",
       "      <td>-1.000000</td>\n",
       "      <td>-5.000000</td>\n",
       "      <td>-3.000000</td>\n",
       "      <td>-2.000000</td>\n",
       "      <td>-3.000000</td>\n",
       "      <td>-2.000000</td>\n",
       "      <td>-1.000000</td>\n",
       "      <td>-3.000000</td>\n",
       "    </tr>\n",
       "    <tr>\n",
       "      <th>25%</th>\n",
       "      <td>0.000000</td>\n",
       "      <td>0.000000</td>\n",
       "      <td>0.000000</td>\n",
       "      <td>0.000000</td>\n",
       "      <td>0.000000</td>\n",
       "      <td>0.000000</td>\n",
       "      <td>0.000000</td>\n",
       "      <td>0.000000</td>\n",
       "      <td>0.000000</td>\n",
       "      <td>0.000000</td>\n",
       "      <td>0.000000</td>\n",
       "      <td>0.000000</td>\n",
       "      <td>0.000000</td>\n",
       "      <td>0.000000</td>\n",
       "      <td>0.000000</td>\n",
       "      <td>0.000000</td>\n",
       "      <td>0.000000</td>\n",
       "      <td>0.000000</td>\n",
       "    </tr>\n",
       "    <tr>\n",
       "      <th>50%</th>\n",
       "      <td>0.000000</td>\n",
       "      <td>0.000000</td>\n",
       "      <td>0.000000</td>\n",
       "      <td>0.000000</td>\n",
       "      <td>0.000000</td>\n",
       "      <td>0.000000</td>\n",
       "      <td>0.000000</td>\n",
       "      <td>0.000000</td>\n",
       "      <td>0.000000</td>\n",
       "      <td>0.000000</td>\n",
       "      <td>0.000000</td>\n",
       "      <td>0.000000</td>\n",
       "      <td>0.000000</td>\n",
       "      <td>0.000000</td>\n",
       "      <td>0.000000</td>\n",
       "      <td>0.000000</td>\n",
       "      <td>0.000000</td>\n",
       "      <td>0.000000</td>\n",
       "    </tr>\n",
       "    <tr>\n",
       "      <th>75%</th>\n",
       "      <td>0.000000</td>\n",
       "      <td>0.000000</td>\n",
       "      <td>0.000000</td>\n",
       "      <td>0.000000</td>\n",
       "      <td>0.000000</td>\n",
       "      <td>0.000000</td>\n",
       "      <td>0.000000</td>\n",
       "      <td>0.000000</td>\n",
       "      <td>1.000000</td>\n",
       "      <td>0.000000</td>\n",
       "      <td>0.000000</td>\n",
       "      <td>0.000000</td>\n",
       "      <td>0.000000</td>\n",
       "      <td>0.000000</td>\n",
       "      <td>1.000000</td>\n",
       "      <td>0.000000</td>\n",
       "      <td>0.000000</td>\n",
       "      <td>0.000000</td>\n",
       "    </tr>\n",
       "    <tr>\n",
       "      <th>max</th>\n",
       "      <td>3.000000</td>\n",
       "      <td>1.000000</td>\n",
       "      <td>2.000000</td>\n",
       "      <td>2.000000</td>\n",
       "      <td>3.000000</td>\n",
       "      <td>1.000000</td>\n",
       "      <td>2.000000</td>\n",
       "      <td>1.000000</td>\n",
       "      <td>6.000000</td>\n",
       "      <td>2.000000</td>\n",
       "      <td>1.000000</td>\n",
       "      <td>4.000000</td>\n",
       "      <td>3.000000</td>\n",
       "      <td>1.000000</td>\n",
       "      <td>5.000000</td>\n",
       "      <td>1.000000</td>\n",
       "      <td>2.000000</td>\n",
       "      <td>2.000000</td>\n",
       "    </tr>\n",
       "  </tbody>\n",
       "</table>\n",
       "</div>"
      ],
      "text/plain": [
       "              ADJF         ADJS         ADVB         COMP         CONJ  \\\n",
       "count  4257.000000  4257.000000  4257.000000  4257.000000  4257.000000   \n",
       "mean      0.023021    -0.009161     0.006108    -0.001409    -0.054264   \n",
       "std       0.777344     0.267544     0.363334     0.116730     0.550646   \n",
       "min      -4.000000    -2.000000    -3.000000    -2.000000    -3.000000   \n",
       "25%       0.000000     0.000000     0.000000     0.000000     0.000000   \n",
       "50%       0.000000     0.000000     0.000000     0.000000     0.000000   \n",
       "75%       0.000000     0.000000     0.000000     0.000000     0.000000   \n",
       "max       3.000000     1.000000     2.000000     2.000000     3.000000   \n",
       "\n",
       "              GRND         INFN         INTJ         NOUN         NPRO  \\\n",
       "count  4257.000000  4257.000000  4257.000000  4257.000000  4257.000000   \n",
       "mean      0.002819     0.017383     0.004933     0.381959    -0.003054   \n",
       "std       0.061249     0.357753     0.087917     1.426697     0.202754   \n",
       "min      -1.000000    -2.000000    -1.000000    -7.000000    -3.000000   \n",
       "25%       0.000000     0.000000     0.000000     0.000000     0.000000   \n",
       "50%       0.000000     0.000000     0.000000     0.000000     0.000000   \n",
       "75%       0.000000     0.000000     0.000000     1.000000     0.000000   \n",
       "max       1.000000     2.000000     1.000000     6.000000     2.000000   \n",
       "\n",
       "              NUMR         None         PRCL         PRED         PREP  \\\n",
       "count  4257.000000  4257.000000  4257.000000  4257.000000  4257.000000   \n",
       "mean     -0.007047     0.023256    -0.014799     0.001409     0.155743   \n",
       "std       0.240315     0.371284     0.360160     0.124521     0.976190   \n",
       "min      -1.000000    -5.000000    -3.000000    -2.000000    -3.000000   \n",
       "25%       0.000000     0.000000     0.000000     0.000000     0.000000   \n",
       "50%       0.000000     0.000000     0.000000     0.000000     0.000000   \n",
       "75%       0.000000     0.000000     0.000000     0.000000     1.000000   \n",
       "max       1.000000     4.000000     3.000000     1.000000     5.000000   \n",
       "\n",
       "              PRTF         PRTS         VERB  \n",
       "count  4257.000000  4257.000000  4257.000000  \n",
       "mean      0.009631     0.041579    -0.052619  \n",
       "std       0.277867     0.343317     0.521667  \n",
       "min      -2.000000    -1.000000    -3.000000  \n",
       "25%       0.000000     0.000000     0.000000  \n",
       "50%       0.000000     0.000000     0.000000  \n",
       "75%       0.000000     0.000000     0.000000  \n",
       "max       1.000000     2.000000     2.000000  "
      ]
     },
     "execution_count": 233,
     "metadata": {},
     "output_type": "execute_result"
    }
   ],
   "source": [
    "para[ [tag for tag in tag_list] ].describe()"
   ]
  },
  {
   "cell_type": "markdown",
   "metadata": {},
   "source": [
    "### Подсчет кол-ва повторяющихся лемм"
   ]
  },
  {
   "cell_type": "code",
   "execution_count": 31,
   "metadata": {},
   "outputs": [],
   "source": [
    "def lemmatizer(words):\n",
    "    lem_text = []\n",
    "    for word in words.split():\n",
    "        lem = morph.parse(word)[0].normal_form\n",
    "#         if lem not in stops:\n",
    "        lem_text.append(lem)\n",
    "    return ' '.join(lem_text)\n",
    "\n",
    "def similar_words(lemm_a, lemm_b):\n",
    "    return list(set(lemm_a.split()) & set(lemm_b.split()))"
   ]
  },
  {
   "cell_type": "code",
   "execution_count": 32,
   "metadata": {},
   "outputs": [
    {
     "data": {
      "application/vnd.jupyter.widget-view+json": {
       "model_id": "848a459239de44049719fd99c1fdc6df",
       "version_major": 2,
       "version_minor": 0
      },
      "text/plain": [
       "HBox(children=(IntProgress(value=0, max=4257), HTML(value='')))"
      ]
     },
     "metadata": {},
     "output_type": "display_data"
    },
    {
     "name": "stdout",
     "output_type": "stream",
     "text": [
      "\n"
     ]
    },
    {
     "data": {
      "application/vnd.jupyter.widget-view+json": {
       "model_id": "e97ad4d6b0c8431788111104610f2987",
       "version_major": 2,
       "version_minor": 0
      },
      "text/plain": [
       "HBox(children=(IntProgress(value=0, max=4257), HTML(value='')))"
      ]
     },
     "metadata": {},
     "output_type": "display_data"
    },
    {
     "name": "stdout",
     "output_type": "stream",
     "text": [
      "\n"
     ]
    }
   ],
   "source": [
    "for i in [1, 2]:\n",
    "    para[f'lemm_{i}'] = para[f'words_{i}'].progress_apply(lemmatizer)"
   ]
  },
  {
   "cell_type": "code",
   "execution_count": 33,
   "metadata": {},
   "outputs": [],
   "source": [
    "para['similar_words'] = para.apply(lambda x: similar_words(x['lemm_1'], x['lemm_2']), axis=1)\n",
    "para['n_similar_words'] = para['similar_words'].apply(len)"
   ]
  },
  {
   "cell_type": "markdown",
   "metadata": {},
   "source": [
    "## Анализ признаков"
   ]
  },
  {
   "cell_type": "code",
   "execution_count": 59,
   "metadata": {},
   "outputs": [
    {
     "data": {
      "text/html": [
       "<div>\n",
       "<style scoped>\n",
       "    .dataframe tbody tr th:only-of-type {\n",
       "        vertical-align: middle;\n",
       "    }\n",
       "\n",
       "    .dataframe tbody tr th {\n",
       "        vertical-align: top;\n",
       "    }\n",
       "\n",
       "    .dataframe thead th {\n",
       "        text-align: right;\n",
       "    }\n",
       "</style>\n",
       "<table border=\"1\" class=\"dataframe\">\n",
       "  <thead>\n",
       "    <tr style=\"text-align: right;\">\n",
       "      <th></th>\n",
       "      <th>n_words_1</th>\n",
       "      <th>av_words_length_1</th>\n",
       "      <th>n_words_2</th>\n",
       "      <th>av_words_length_2</th>\n",
       "      <th>n_words_diff</th>\n",
       "      <th>ADJF</th>\n",
       "      <th>ADJS</th>\n",
       "      <th>ADVB</th>\n",
       "      <th>COMP</th>\n",
       "      <th>CONJ</th>\n",
       "      <th>...</th>\n",
       "      <th>NPRO</th>\n",
       "      <th>NUMR</th>\n",
       "      <th>None</th>\n",
       "      <th>PRCL</th>\n",
       "      <th>PRED</th>\n",
       "      <th>PREP</th>\n",
       "      <th>PRTF</th>\n",
       "      <th>PRTS</th>\n",
       "      <th>VERB</th>\n",
       "      <th>n_similar_words</th>\n",
       "    </tr>\n",
       "    <tr>\n",
       "      <th>class</th>\n",
       "      <th></th>\n",
       "      <th></th>\n",
       "      <th></th>\n",
       "      <th></th>\n",
       "      <th></th>\n",
       "      <th></th>\n",
       "      <th></th>\n",
       "      <th></th>\n",
       "      <th></th>\n",
       "      <th></th>\n",
       "      <th></th>\n",
       "      <th></th>\n",
       "      <th></th>\n",
       "      <th></th>\n",
       "      <th></th>\n",
       "      <th></th>\n",
       "      <th></th>\n",
       "      <th></th>\n",
       "      <th></th>\n",
       "      <th></th>\n",
       "      <th></th>\n",
       "    </tr>\n",
       "  </thead>\n",
       "  <tbody>\n",
       "    <tr>\n",
       "      <th>0</th>\n",
       "      <td>8.163622</td>\n",
       "      <td>6.168893</td>\n",
       "      <td>7.546055</td>\n",
       "      <td>6.208051</td>\n",
       "      <td>0.617567</td>\n",
       "      <td>0.028372</td>\n",
       "      <td>-0.020599</td>\n",
       "      <td>-0.003887</td>\n",
       "      <td>-0.004275</td>\n",
       "      <td>-0.102993</td>\n",
       "      <td>...</td>\n",
       "      <td>-0.005441</td>\n",
       "      <td>0.002332</td>\n",
       "      <td>0.02021</td>\n",
       "      <td>-0.036145</td>\n",
       "      <td>-0.000777</td>\n",
       "      <td>0.235134</td>\n",
       "      <td>0.009328</td>\n",
       "      <td>0.038088</td>\n",
       "      <td>-0.057520</td>\n",
       "      <td>2.571318</td>\n",
       "    </tr>\n",
       "    <tr>\n",
       "      <th>1</th>\n",
       "      <td>7.577791</td>\n",
       "      <td>6.340904</td>\n",
       "      <td>7.192993</td>\n",
       "      <td>6.447741</td>\n",
       "      <td>0.384798</td>\n",
       "      <td>0.014846</td>\n",
       "      <td>0.008314</td>\n",
       "      <td>0.021378</td>\n",
       "      <td>0.002969</td>\n",
       "      <td>0.020190</td>\n",
       "      <td>...</td>\n",
       "      <td>0.000594</td>\n",
       "      <td>-0.021378</td>\n",
       "      <td>0.02791</td>\n",
       "      <td>0.017815</td>\n",
       "      <td>0.004751</td>\n",
       "      <td>0.034442</td>\n",
       "      <td>0.010095</td>\n",
       "      <td>0.046912</td>\n",
       "      <td>-0.045131</td>\n",
       "      <td>5.187055</td>\n",
       "    </tr>\n",
       "  </tbody>\n",
       "</table>\n",
       "<p>2 rows × 24 columns</p>\n",
       "</div>"
      ],
      "text/plain": [
       "       n_words_1  av_words_length_1  n_words_2  av_words_length_2  \\\n",
       "class                                                               \n",
       "0       8.163622           6.168893   7.546055           6.208051   \n",
       "1       7.577791           6.340904   7.192993           6.447741   \n",
       "\n",
       "       n_words_diff      ADJF      ADJS      ADVB      COMP      CONJ  ...  \\\n",
       "class                                                                  ...   \n",
       "0          0.617567  0.028372 -0.020599 -0.003887 -0.004275 -0.102993  ...   \n",
       "1          0.384798  0.014846  0.008314  0.021378  0.002969  0.020190  ...   \n",
       "\n",
       "           NPRO      NUMR     None      PRCL      PRED      PREP      PRTF  \\\n",
       "class                                                                        \n",
       "0     -0.005441  0.002332  0.02021 -0.036145 -0.000777  0.235134  0.009328   \n",
       "1      0.000594 -0.021378  0.02791  0.017815  0.004751  0.034442  0.010095   \n",
       "\n",
       "           PRTS      VERB  n_similar_words  \n",
       "class                                       \n",
       "0      0.038088 -0.057520         2.571318  \n",
       "1      0.046912 -0.045131         5.187055  \n",
       "\n",
       "[2 rows x 24 columns]"
      ]
     },
     "execution_count": 59,
     "metadata": {},
     "output_type": "execute_result"
    }
   ],
   "source": [
    "para.groupby(by='class').mean()"
   ]
  },
  {
   "cell_type": "code",
   "execution_count": 69,
   "metadata": {},
   "outputs": [
    {
     "data": {
      "text/plain": [
       "<matplotlib.axes._subplots.AxesSubplot at 0x24bcb9d9160>"
      ]
     },
     "execution_count": 69,
     "metadata": {},
     "output_type": "execute_result"
    },
    {
     "data": {
      "image/png": "[encoded data removed]",
      "text/plain": [
       "<Figure size 432x288 with 1 Axes>"
      ]
     },
     "metadata": {
      "needs_background": "light"
     },
     "output_type": "display_data"
    }
   ],
   "source": [
    "bw_method=0.3\n",
    "para[para['class'] == 0]['n_words_diff'].plot.kde(bw_method) #blue\n",
    "para[para['class'] == 1]['n_words_diff'].plot.kde(bw_method) #orange"
   ]
  },
  {
   "cell_type": "code",
   "execution_count": 81,
   "metadata": {},
   "outputs": [],
   "source": [
    "features = ['class',\n",
    "            'n_words_1', 'av_words_length_1',\n",
    "            'n_words_2', 'av_words_length_2',\n",
    "            'n_words_diff', \n",
    "            'ADJF','ADJS', 'ADVB', 'COMP', 'CONJ', 'GRND', \n",
    "            'INFN', 'INTJ', 'NOUN','NPRO', 'NUMR', 'None', \n",
    "            'PRCL', 'PRED', 'PREP', 'PRTF', 'PRTS', 'VERB', \n",
    "            'n_similar_words']"
   ]
  },
  {
   "cell_type": "code",
   "execution_count": 82,
   "metadata": {},
   "outputs": [],
   "source": [
    "data = para[features]"
   ]
  },
  {
   "cell_type": "code",
   "execution_count": 83,
   "metadata": {},
   "outputs": [
    {
     "data": {
      "image/png": "[encoded data removed]",
      "text/plain": [
       "<Figure size 792x648 with 2 Axes>"
      ]
     },
     "metadata": {
      "needs_background": "light"
     },
     "output_type": "display_data"
    }
   ],
   "source": [
    "# Compute the correlation matrix\n",
    "corr = data.corr()\n",
    "\n",
    "# Generate a mask for the upper triangle\n",
    "mask = np.triu(np.ones_like(corr, dtype=bool))\n",
    "\n",
    "# Set up the matplotlib figure\n",
    "f, ax = plt.subplots(figsize=(11, 9))\n",
    "\n",
    "# Generate a custom diverging colormap\n",
    "cmap = sns.diverging_palette(230, 20, as_cmap=True)\n",
    "\n",
    "# Draw the heatmap with the mask and correct aspect ratio\n",
    "sns.heatmap(corr, mask=mask, cmap=cmap, vmax=.3, center=0,\n",
    "            square=True, linewidths=.5, cbar_kws={\"shrink\": .5})\n",
    "\n",
    "plt.show()"
   ]
  },
  {
   "cell_type": "markdown",
   "metadata": {},
   "source": [
    "При перифразе кол-во одинаковых (неизмененных слов) больше:"
   ]
  },
  {
   "cell_type": "code",
   "execution_count": 84,
   "metadata": {},
   "outputs": [
    {
     "data": {
      "text/html": [
       "<div>\n",
       "<style scoped>\n",
       "    .dataframe tbody tr th:only-of-type {\n",
       "        vertical-align: middle;\n",
       "    }\n",
       "\n",
       "    .dataframe tbody tr th {\n",
       "        vertical-align: top;\n",
       "    }\n",
       "\n",
       "    .dataframe thead th {\n",
       "        text-align: right;\n",
       "    }\n",
       "</style>\n",
       "<table border=\"1\" class=\"dataframe\">\n",
       "  <thead>\n",
       "    <tr style=\"text-align: right;\">\n",
       "      <th></th>\n",
       "      <th>class</th>\n",
       "      <th>n_similar_words</th>\n",
       "    </tr>\n",
       "  </thead>\n",
       "  <tbody>\n",
       "    <tr>\n",
       "      <th>class</th>\n",
       "      <td>1.00000</td>\n",
       "      <td>0.58123</td>\n",
       "    </tr>\n",
       "    <tr>\n",
       "      <th>n_similar_words</th>\n",
       "      <td>0.58123</td>\n",
       "      <td>1.00000</td>\n",
       "    </tr>\n",
       "  </tbody>\n",
       "</table>\n",
       "</div>"
      ],
      "text/plain": [
       "                   class  n_similar_words\n",
       "class            1.00000          0.58123\n",
       "n_similar_words  0.58123          1.00000"
      ]
     },
     "execution_count": 84,
     "metadata": {},
     "output_type": "execute_result"
    }
   ],
   "source": [
    "para[['class', 'n_similar_words']].corr()"
   ]
  },
  {
   "cell_type": "markdown",
   "metadata": {},
   "source": [
    "Один из сновных способов перифраза - изменение залога: глагол -> краткое причастие"
   ]
  },
  {
   "cell_type": "code",
   "execution_count": 85,
   "metadata": {},
   "outputs": [
    {
     "data": {
      "text/html": [
       "<div>\n",
       "<style scoped>\n",
       "    .dataframe tbody tr th:only-of-type {\n",
       "        vertical-align: middle;\n",
       "    }\n",
       "\n",
       "    .dataframe tbody tr th {\n",
       "        vertical-align: top;\n",
       "    }\n",
       "\n",
       "    .dataframe thead th {\n",
       "        text-align: right;\n",
       "    }\n",
       "</style>\n",
       "<table border=\"1\" class=\"dataframe\">\n",
       "  <thead>\n",
       "    <tr style=\"text-align: right;\">\n",
       "      <th></th>\n",
       "      <th>VERB</th>\n",
       "      <th>PRTS</th>\n",
       "    </tr>\n",
       "  </thead>\n",
       "  <tbody>\n",
       "    <tr>\n",
       "      <th>VERB</th>\n",
       "      <td>1.000000</td>\n",
       "      <td>-0.592579</td>\n",
       "    </tr>\n",
       "    <tr>\n",
       "      <th>PRTS</th>\n",
       "      <td>-0.592579</td>\n",
       "      <td>1.000000</td>\n",
       "    </tr>\n",
       "  </tbody>\n",
       "</table>\n",
       "</div>"
      ],
      "text/plain": [
       "          VERB      PRTS\n",
       "VERB  1.000000 -0.592579\n",
       "PRTS -0.592579  1.000000"
      ]
     },
     "execution_count": 85,
     "metadata": {},
     "output_type": "execute_result"
    }
   ],
   "source": [
    "para[['VERB', 'PRTS']].corr()"
   ]
  },
  {
   "cell_type": "code",
   "execution_count": 86,
   "metadata": {},
   "outputs": [
    {
     "name": "stdout",
     "output_type": "stream",
     "text": [
      "<class 'pandas.core.frame.DataFrame'>\n",
      "Int64Index: 4257 entries, 0 to 8495\n",
      "Data columns (total 38 columns):\n",
      "text_1               4257 non-null object\n",
      "text_2               4257 non-null object\n",
      "class                4257 non-null int64\n",
      "tokens_1             4257 non-null object\n",
      "words_1              4257 non-null object\n",
      "n_words_1            4257 non-null int64\n",
      "av_words_length_1    4257 non-null float64\n",
      "tokens_2             4257 non-null object\n",
      "words_2              4257 non-null object\n",
      "n_words_2            4257 non-null int64\n",
      "av_words_length_2    4257 non-null float64\n",
      "n_words_diff         4257 non-null int64\n",
      "pos_vector_1         4257 non-null object\n",
      "pos_vector_2         4257 non-null object\n",
      "pos_diff             4257 non-null object\n",
      "ADJF                 4257 non-null int64\n",
      "ADJS                 4257 non-null int64\n",
      "ADVB                 4257 non-null int64\n",
      "COMP                 4257 non-null int64\n",
      "CONJ                 4257 non-null int64\n",
      "GRND                 4257 non-null int64\n",
      "INFN                 4257 non-null int64\n",
      "INTJ                 4257 non-null int64\n",
      "NOUN                 4257 non-null int64\n",
      "NPRO                 4257 non-null int64\n",
      "NUMR                 4257 non-null int64\n",
      "None                 4257 non-null int64\n",
      "PRCL                 4257 non-null int64\n",
      "PRED                 4257 non-null int64\n",
      "PREP                 4257 non-null int64\n",
      "PRTF                 4257 non-null int64\n",
      "PRTS                 4257 non-null int64\n",
      "VERB                 4257 non-null int64\n",
      "lemm_1               4257 non-null object\n",
      "lemm_2               4257 non-null object\n",
      "similar_words        4257 non-null object\n",
      "n_similar_words      4257 non-null int64\n",
      "combine              4257 non-null object\n",
      "dtypes: float64(2), int64(23), object(13)\n",
      "memory usage: 1.4+ MB\n"
     ]
    }
   ],
   "source": [
    "para.info()"
   ]
  },
  {
   "cell_type": "markdown",
   "metadata": {},
   "source": [
    "## Векторные признаки"
   ]
  },
  {
   "cell_type": "code",
   "execution_count": 87,
   "metadata": {},
   "outputs": [],
   "source": [
    "from sklearn.feature_extraction.text import TfidfVectorizer"
   ]
  },
  {
   "cell_type": "code",
   "execution_count": 88,
   "metadata": {},
   "outputs": [
    {
     "data": {
      "text/html": [
       "<div>\n",
       "<style scoped>\n",
       "    .dataframe tbody tr th:only-of-type {\n",
       "        vertical-align: middle;\n",
       "    }\n",
       "\n",
       "    .dataframe tbody tr th {\n",
       "        vertical-align: top;\n",
       "    }\n",
       "\n",
       "    .dataframe thead th {\n",
       "        text-align: right;\n",
       "    }\n",
       "</style>\n",
       "<table border=\"1\" class=\"dataframe\">\n",
       "  <thead>\n",
       "    <tr style=\"text-align: right;\">\n",
       "      <th></th>\n",
       "      <th>text_1</th>\n",
       "      <th>text_2</th>\n",
       "      <th>class</th>\n",
       "      <th>tokens_1</th>\n",
       "      <th>words_1</th>\n",
       "      <th>n_words_1</th>\n",
       "      <th>av_words_length_1</th>\n",
       "      <th>tokens_2</th>\n",
       "      <th>words_2</th>\n",
       "      <th>n_words_2</th>\n",
       "      <th>...</th>\n",
       "      <th>PRED</th>\n",
       "      <th>PREP</th>\n",
       "      <th>PRTF</th>\n",
       "      <th>PRTS</th>\n",
       "      <th>VERB</th>\n",
       "      <th>lemm_1</th>\n",
       "      <th>lemm_2</th>\n",
       "      <th>similar_words</th>\n",
       "      <th>n_similar_words</th>\n",
       "      <th>combine</th>\n",
       "    </tr>\n",
       "  </thead>\n",
       "  <tbody>\n",
       "    <tr>\n",
       "      <th>0</th>\n",
       "      <td>Совет юстиции Бразилии легализовал однополые б...</td>\n",
       "      <td>Совет юстиции Бразилии разрешил однополые браки.</td>\n",
       "      <td>1</td>\n",
       "      <td>совет юстиции бразилии легализовал однополые б...</td>\n",
       "      <td>совет юстиции бразилии легализовал однополые б...</td>\n",
       "      <td>6</td>\n",
       "      <td>7.500000</td>\n",
       "      <td>совет юстиции бразилии разрешил однополые браки .</td>\n",
       "      <td>совет юстиции бразилии разрешил однополые браки</td>\n",
       "      <td>6</td>\n",
       "      <td>...</td>\n",
       "      <td>0</td>\n",
       "      <td>0</td>\n",
       "      <td>0</td>\n",
       "      <td>0</td>\n",
       "      <td>0</td>\n",
       "      <td>совет юстиция бразилия легализовать однополый ...</td>\n",
       "      <td>совет юстиция бразилия разрешить однополый брак</td>\n",
       "      <td>[бразилия, совет, брак, юстиция, однополый]</td>\n",
       "      <td>5</td>\n",
       "      <td>совет юстиция бразилия легализовать однополый ...</td>\n",
       "    </tr>\n",
       "    <tr>\n",
       "      <th>1</th>\n",
       "      <td>\"Магнит\" поручится перед \"Абсолют Банком\" за к...</td>\n",
       "      <td>Выпуск сигарет в России упал из-за антитабачно...</td>\n",
       "      <td>0</td>\n",
       "      <td>\" магнит \" поручится перед \" абсолют банком \" ...</td>\n",
       "      <td>магнит поручится перед абсолют банком за креди...</td>\n",
       "      <td>10</td>\n",
       "      <td>5.000000</td>\n",
       "      <td>выпуск сигарет в россии упал из-за антитабачно...</td>\n",
       "      <td>выпуск сигарет в россии упал антитабачного закона</td>\n",
       "      <td>7</td>\n",
       "      <td>...</td>\n",
       "      <td>0</td>\n",
       "      <td>2</td>\n",
       "      <td>0</td>\n",
       "      <td>0</td>\n",
       "      <td>0</td>\n",
       "      <td>магнит поручиться перед абсолют банк за кредит...</td>\n",
       "      <td>выпуск сигарета в россия упасть антитабачный з...</td>\n",
       "      <td>[]</td>\n",
       "      <td>0</td>\n",
       "      <td>магнит поручиться перед абсолют банк за кредит...</td>\n",
       "    </tr>\n",
       "    <tr>\n",
       "      <th>2</th>\n",
       "      <td>ЕС призвал США не бомбить Сирию до публикации ...</td>\n",
       "      <td>Евросоюз призвал США дождаться доклада ООН по ...</td>\n",
       "      <td>0</td>\n",
       "      <td>ес призвал сша не бомбить сирию до публикации ...</td>\n",
       "      <td>ес призвал сша не бомбить сирию до публикации ...</td>\n",
       "      <td>10</td>\n",
       "      <td>4.800000</td>\n",
       "      <td>евросоюз призвал сша дождаться доклада оон по ...</td>\n",
       "      <td>евросоюз призвал сша дождаться доклада оон по ...</td>\n",
       "      <td>8</td>\n",
       "      <td>...</td>\n",
       "      <td>0</td>\n",
       "      <td>0</td>\n",
       "      <td>0</td>\n",
       "      <td>0</td>\n",
       "      <td>0</td>\n",
       "      <td>ес призвать сша не бомбить сирия до публикация...</td>\n",
       "      <td>евросоюз призвать сша дождаться доклад оон по ...</td>\n",
       "      <td>[сирия, доклад, сша, оон, призвать]</td>\n",
       "      <td>5</td>\n",
       "      <td>ес призвать сша не бомбить сирия до публикация...</td>\n",
       "    </tr>\n",
       "    <tr>\n",
       "      <th>3</th>\n",
       "      <td>Депо Московского метрополитена впервые перейде...</td>\n",
       "      <td>Частной компании впервые отдадут депо в москов...</td>\n",
       "      <td>1</td>\n",
       "      <td>депо московского метрополитена впервые перейде...</td>\n",
       "      <td>депо московского метрополитена впервые перейде...</td>\n",
       "      <td>8</td>\n",
       "      <td>6.875000</td>\n",
       "      <td>частной компании впервые отдадут депо в москов...</td>\n",
       "      <td>частной компании впервые отдадут депо в москов...</td>\n",
       "      <td>8</td>\n",
       "      <td>...</td>\n",
       "      <td>0</td>\n",
       "      <td>0</td>\n",
       "      <td>0</td>\n",
       "      <td>0</td>\n",
       "      <td>0</td>\n",
       "      <td>депо московский метрополитен впервые перейти в...</td>\n",
       "      <td>частный компания впервые отдать депо в московс...</td>\n",
       "      <td>[в, впервые, московский, депо]</td>\n",
       "      <td>4</td>\n",
       "      <td>депо московский метрополитен впервые перейти в...</td>\n",
       "    </tr>\n",
       "    <tr>\n",
       "      <th>4</th>\n",
       "      <td>Два человека погибли в столкновениях между кур...</td>\n",
       "      <td>Один человек погиб при столкновении судов у бе...</td>\n",
       "      <td>0</td>\n",
       "      <td>два человека погибли в столкновениях между кур...</td>\n",
       "      <td>два человека погибли в столкновениях между кур...</td>\n",
       "      <td>9</td>\n",
       "      <td>5.666667</td>\n",
       "      <td>один человек погиб при столкновении судов у бе...</td>\n",
       "      <td>один человек погиб при столкновении судов у бе...</td>\n",
       "      <td>9</td>\n",
       "      <td>...</td>\n",
       "      <td>0</td>\n",
       "      <td>1</td>\n",
       "      <td>0</td>\n",
       "      <td>0</td>\n",
       "      <td>0</td>\n",
       "      <td>два человек погибнуть в столкновение между кур...</td>\n",
       "      <td>один человек погибнуть при столкновение судно ...</td>\n",
       "      <td>[погибнуть, столкновение, человек]</td>\n",
       "      <td>3</td>\n",
       "      <td>два человек погибнуть в столкновение между кур...</td>\n",
       "    </tr>\n",
       "  </tbody>\n",
       "</table>\n",
       "<p>5 rows × 38 columns</p>\n",
       "</div>"
      ],
      "text/plain": [
       "                                              text_1  \\\n",
       "0  Совет юстиции Бразилии легализовал однополые б...   \n",
       "1  \"Магнит\" поручится перед \"Абсолют Банком\" за к...   \n",
       "2  ЕС призвал США не бомбить Сирию до публикации ...   \n",
       "3  Депо Московского метрополитена впервые перейде...   \n",
       "4  Два человека погибли в столкновениях между кур...   \n",
       "\n",
       "                                              text_2  class  \\\n",
       "0   Совет юстиции Бразилии разрешил однополые браки.      1   \n",
       "1  Выпуск сигарет в России упал из-за антитабачно...      0   \n",
       "2  Евросоюз призвал США дождаться доклада ООН по ...      0   \n",
       "3  Частной компании впервые отдадут депо в москов...      1   \n",
       "4  Один человек погиб при столкновении судов у бе...      0   \n",
       "\n",
       "                                            tokens_1  \\\n",
       "0  совет юстиции бразилии легализовал однополые б...   \n",
       "1  \" магнит \" поручится перед \" абсолют банком \" ...   \n",
       "2  ес призвал сша не бомбить сирию до публикации ...   \n",
       "3  депо московского метрополитена впервые перейде...   \n",
       "4  два человека погибли в столкновениях между кур...   \n",
       "\n",
       "                                             words_1  n_words_1  \\\n",
       "0  совет юстиции бразилии легализовал однополые б...          6   \n",
       "1  магнит поручится перед абсолют банком за креди...         10   \n",
       "2  ес призвал сша не бомбить сирию до публикации ...         10   \n",
       "3  депо московского метрополитена впервые перейде...          8   \n",
       "4  два человека погибли в столкновениях между кур...          9   \n",
       "\n",
       "   av_words_length_1                                           tokens_2  \\\n",
       "0           7.500000  совет юстиции бразилии разрешил однополые браки .   \n",
       "1           5.000000  выпуск сигарет в россии упал из-за антитабачно...   \n",
       "2           4.800000  евросоюз призвал сша дождаться доклада оон по ...   \n",
       "3           6.875000  частной компании впервые отдадут депо в москов...   \n",
       "4           5.666667  один человек погиб при столкновении судов у бе...   \n",
       "\n",
       "                                             words_2  n_words_2  ...  PRED  \\\n",
       "0    совет юстиции бразилии разрешил однополые браки          6  ...     0   \n",
       "1  выпуск сигарет в россии упал антитабачного закона          7  ...     0   \n",
       "2  евросоюз призвал сша дождаться доклада оон по ...          8  ...     0   \n",
       "3  частной компании впервые отдадут депо в москов...          8  ...     0   \n",
       "4  один человек погиб при столкновении судов у бе...          9  ...     0   \n",
       "\n",
       "   PREP PRTF PRTS VERB                                             lemm_1  \\\n",
       "0     0    0    0    0  совет юстиция бразилия легализовать однополый ...   \n",
       "1     2    0    0    0  магнит поручиться перед абсолют банк за кредит...   \n",
       "2     0    0    0    0  ес призвать сша не бомбить сирия до публикация...   \n",
       "3     0    0    0    0  депо московский метрополитен впервые перейти в...   \n",
       "4     1    0    0    0  два человек погибнуть в столкновение между кур...   \n",
       "\n",
       "                                              lemm_2  \\\n",
       "0    совет юстиция бразилия разрешить однополый брак   \n",
       "1  выпуск сигарета в россия упасть антитабачный з...   \n",
       "2  евросоюз призвать сша дождаться доклад оон по ...   \n",
       "3  частный компания впервые отдать депо в московс...   \n",
       "4  один человек погибнуть при столкновение судно ...   \n",
       "\n",
       "                                 similar_words  n_similar_words  \\\n",
       "0  [бразилия, совет, брак, юстиция, однополый]                5   \n",
       "1                                           []                0   \n",
       "2          [сирия, доклад, сша, оон, призвать]                5   \n",
       "3               [в, впервые, московский, депо]                4   \n",
       "4           [погибнуть, столкновение, человек]                3   \n",
       "\n",
       "                                             combine  \n",
       "0  совет юстиция бразилия легализовать однополый ...  \n",
       "1  магнит поручиться перед абсолют банк за кредит...  \n",
       "2  ес призвать сша не бомбить сирия до публикация...  \n",
       "3  депо московский метрополитен впервые перейти в...  \n",
       "4  два человек погибнуть в столкновение между кур...  \n",
       "\n",
       "[5 rows x 38 columns]"
      ]
     },
     "execution_count": 88,
     "metadata": {},
     "output_type": "execute_result"
    }
   ],
   "source": [
    "para['combine'] = para['lemm_1'] + ' ' +  para['lemm_2']\n",
    "para.head()"
   ]
  },
  {
   "cell_type": "code",
   "execution_count": 89,
   "metadata": {},
   "outputs": [
    {
     "data": {
      "text/plain": [
       "(4257, 7651)"
      ]
     },
     "execution_count": 89,
     "metadata": {},
     "output_type": "execute_result"
    }
   ],
   "source": [
    "vectorizer = TfidfVectorizer(analyzer=str.split)\n",
    "X = vectorizer.fit_transform(para['combine'])\n",
    "X.shape"
   ]
  },
  {
   "cell_type": "markdown",
   "metadata": {},
   "source": [
    "## Данные"
   ]
  },
  {
   "cell_type": "code",
   "execution_count": 90,
   "metadata": {},
   "outputs": [
    {
     "data": {
      "text/html": [
       "<div>\n",
       "<style scoped>\n",
       "    .dataframe tbody tr th:only-of-type {\n",
       "        vertical-align: middle;\n",
       "    }\n",
       "\n",
       "    .dataframe tbody tr th {\n",
       "        vertical-align: top;\n",
       "    }\n",
       "\n",
       "    .dataframe thead th {\n",
       "        text-align: right;\n",
       "    }\n",
       "</style>\n",
       "<table border=\"1\" class=\"dataframe\">\n",
       "  <thead>\n",
       "    <tr style=\"text-align: right;\">\n",
       "      <th></th>\n",
       "      <th>n_words_1</th>\n",
       "      <th>av_words_length_1</th>\n",
       "      <th>n_words_2</th>\n",
       "      <th>av_words_length_2</th>\n",
       "      <th>n_words_diff</th>\n",
       "      <th>ADJF</th>\n",
       "      <th>ADJS</th>\n",
       "      <th>ADVB</th>\n",
       "      <th>COMP</th>\n",
       "      <th>CONJ</th>\n",
       "      <th>...</th>\n",
       "      <th>NPRO</th>\n",
       "      <th>NUMR</th>\n",
       "      <th>None</th>\n",
       "      <th>PRCL</th>\n",
       "      <th>PRED</th>\n",
       "      <th>PREP</th>\n",
       "      <th>PRTF</th>\n",
       "      <th>PRTS</th>\n",
       "      <th>VERB</th>\n",
       "      <th>n_similar_words</th>\n",
       "    </tr>\n",
       "  </thead>\n",
       "  <tbody>\n",
       "    <tr>\n",
       "      <th>0</th>\n",
       "      <td>6</td>\n",
       "      <td>7.500000</td>\n",
       "      <td>6</td>\n",
       "      <td>7.000000</td>\n",
       "      <td>0</td>\n",
       "      <td>0</td>\n",
       "      <td>0</td>\n",
       "      <td>0</td>\n",
       "      <td>0</td>\n",
       "      <td>0</td>\n",
       "      <td>...</td>\n",
       "      <td>0</td>\n",
       "      <td>0</td>\n",
       "      <td>0</td>\n",
       "      <td>0</td>\n",
       "      <td>0</td>\n",
       "      <td>0</td>\n",
       "      <td>0</td>\n",
       "      <td>0</td>\n",
       "      <td>0</td>\n",
       "      <td>5</td>\n",
       "    </tr>\n",
       "    <tr>\n",
       "      <th>1</th>\n",
       "      <td>10</td>\n",
       "      <td>5.000000</td>\n",
       "      <td>7</td>\n",
       "      <td>6.142857</td>\n",
       "      <td>3</td>\n",
       "      <td>-1</td>\n",
       "      <td>0</td>\n",
       "      <td>0</td>\n",
       "      <td>0</td>\n",
       "      <td>0</td>\n",
       "      <td>...</td>\n",
       "      <td>0</td>\n",
       "      <td>0</td>\n",
       "      <td>0</td>\n",
       "      <td>0</td>\n",
       "      <td>0</td>\n",
       "      <td>2</td>\n",
       "      <td>0</td>\n",
       "      <td>0</td>\n",
       "      <td>0</td>\n",
       "      <td>0</td>\n",
       "    </tr>\n",
       "    <tr>\n",
       "      <th>2</th>\n",
       "      <td>10</td>\n",
       "      <td>4.800000</td>\n",
       "      <td>8</td>\n",
       "      <td>5.500000</td>\n",
       "      <td>2</td>\n",
       "      <td>0</td>\n",
       "      <td>0</td>\n",
       "      <td>0</td>\n",
       "      <td>0</td>\n",
       "      <td>0</td>\n",
       "      <td>...</td>\n",
       "      <td>0</td>\n",
       "      <td>0</td>\n",
       "      <td>0</td>\n",
       "      <td>1</td>\n",
       "      <td>0</td>\n",
       "      <td>0</td>\n",
       "      <td>0</td>\n",
       "      <td>0</td>\n",
       "      <td>0</td>\n",
       "      <td>5</td>\n",
       "    </tr>\n",
       "    <tr>\n",
       "      <th>3</th>\n",
       "      <td>8</td>\n",
       "      <td>6.875000</td>\n",
       "      <td>8</td>\n",
       "      <td>6.125000</td>\n",
       "      <td>0</td>\n",
       "      <td>-1</td>\n",
       "      <td>0</td>\n",
       "      <td>0</td>\n",
       "      <td>0</td>\n",
       "      <td>0</td>\n",
       "      <td>...</td>\n",
       "      <td>0</td>\n",
       "      <td>0</td>\n",
       "      <td>0</td>\n",
       "      <td>0</td>\n",
       "      <td>0</td>\n",
       "      <td>0</td>\n",
       "      <td>0</td>\n",
       "      <td>0</td>\n",
       "      <td>0</td>\n",
       "      <td>4</td>\n",
       "    </tr>\n",
       "    <tr>\n",
       "      <th>4</th>\n",
       "      <td>9</td>\n",
       "      <td>5.666667</td>\n",
       "      <td>9</td>\n",
       "      <td>5.555556</td>\n",
       "      <td>0</td>\n",
       "      <td>-1</td>\n",
       "      <td>0</td>\n",
       "      <td>0</td>\n",
       "      <td>0</td>\n",
       "      <td>0</td>\n",
       "      <td>...</td>\n",
       "      <td>0</td>\n",
       "      <td>1</td>\n",
       "      <td>0</td>\n",
       "      <td>0</td>\n",
       "      <td>0</td>\n",
       "      <td>1</td>\n",
       "      <td>0</td>\n",
       "      <td>0</td>\n",
       "      <td>0</td>\n",
       "      <td>3</td>\n",
       "    </tr>\n",
       "  </tbody>\n",
       "</table>\n",
       "<p>5 rows × 24 columns</p>\n",
       "</div>"
      ],
      "text/plain": [
       "   n_words_1  av_words_length_1  n_words_2  av_words_length_2  n_words_diff  \\\n",
       "0          6           7.500000          6           7.000000             0   \n",
       "1         10           5.000000          7           6.142857             3   \n",
       "2         10           4.800000          8           5.500000             2   \n",
       "3          8           6.875000          8           6.125000             0   \n",
       "4          9           5.666667          9           5.555556             0   \n",
       "\n",
       "   ADJF  ADJS  ADVB  COMP  CONJ  ...  NPRO  NUMR  None  PRCL  PRED  PREP  \\\n",
       "0     0     0     0     0     0  ...     0     0     0     0     0     0   \n",
       "1    -1     0     0     0     0  ...     0     0     0     0     0     2   \n",
       "2     0     0     0     0     0  ...     0     0     0     1     0     0   \n",
       "3    -1     0     0     0     0  ...     0     0     0     0     0     0   \n",
       "4    -1     0     0     0     0  ...     0     1     0     0     0     1   \n",
       "\n",
       "   PRTF  PRTS  VERB  n_similar_words  \n",
       "0     0     0     0                5  \n",
       "1     0     0     0                0  \n",
       "2     0     0     0                5  \n",
       "3     0     0     0                4  \n",
       "4     0     0     0                3  \n",
       "\n",
       "[5 rows x 24 columns]"
      ]
     },
     "execution_count": 90,
     "metadata": {},
     "output_type": "execute_result"
    }
   ],
   "source": [
    "features = ['class',\n",
    "            'n_words_1', 'av_words_length_1',\n",
    "            'n_words_2', 'av_words_length_2',\n",
    "            'n_words_diff', \n",
    "            'ADJF','ADJS', 'ADVB', 'COMP', 'CONJ', 'GRND', \n",
    "            'INFN', 'INTJ', 'NOUN','NPRO', 'NUMR', 'None', \n",
    "            'PRCL', 'PRED', 'PREP', 'PRTF', 'PRTS', 'VERB', \n",
    "            'n_similar_words']\n",
    "\n",
    "data = para[features]\n",
    "\n",
    "y = data['class']\n",
    "x = data.drop(columns=['class'])\n",
    "x.head()"
   ]
  },
  {
   "cell_type": "code",
   "execution_count": 92,
   "metadata": {},
   "outputs": [],
   "source": [
    "from sklearn.metrics import classification_report\n",
    "from sklearn.model_selection import train_test_split\n",
    "\n",
    "from sklearn.linear_model import LogisticRegression\n",
    "from sklearn.ensemble import RandomForestClassifier\n",
    "\n",
    "SEED = 42"
   ]
  },
  {
   "cell_type": "code",
   "execution_count": 96,
   "metadata": {},
   "outputs": [],
   "source": [
    "x_train, x_test, y_train, y_test = train_test_split(x, y, test_size=0.3, random_state=SEED, stratify=y)"
   ]
  },
  {
   "cell_type": "markdown",
   "metadata": {},
   "source": [
    "## Сравниваем две модели"
   ]
  },
  {
   "cell_type": "code",
   "execution_count": 106,
   "metadata": {},
   "outputs": [
    {
     "name": "stdout",
     "output_type": "stream",
     "text": [
      "              precision    recall  f1-score   support\n",
      "\n",
      "           0       0.82      0.88      0.85       772\n",
      "           1       0.79      0.70      0.74       506\n",
      "\n",
      "    accuracy                           0.81      1278\n",
      "   macro avg       0.80      0.79      0.80      1278\n",
      "weighted avg       0.81      0.81      0.81      1278\n",
      "\n"
     ]
    }
   ],
   "source": [
    "clf_forest = RandomForestClassifier(n_estimators=100, random_state=SEED)\n",
    "clf_forest.fit(x_train, y_train)\n",
    "print(classification_report(y_test, clf_forest.predict(x_test)))"
   ]
  },
  {
   "cell_type": "code",
   "execution_count": 117,
   "metadata": {},
   "outputs": [
    {
     "name": "stdout",
     "output_type": "stream",
     "text": [
      "              precision    recall  f1-score   support\n",
      "\n",
      "           0       0.83      0.86      0.85       772\n",
      "           1       0.78      0.74      0.76       506\n",
      "\n",
      "    accuracy                           0.81      1278\n",
      "   macro avg       0.81      0.80      0.80      1278\n",
      "weighted avg       0.81      0.81      0.81      1278\n",
      "\n"
     ]
    }
   ],
   "source": [
    "clf_logreg = LogisticRegression(random_state=SEED, max_iter=200, solver='liblinear')\n",
    "clf_logreg.fit(x_train, y_train)\n",
    "print(classification_report(y_test, clf_logreg.predict(x_test)))"
   ]
  },
  {
   "cell_type": "markdown",
   "metadata": {},
   "source": [
    "### Пробуем улучшить с помощью подбора параметров"
   ]
  },
  {
   "cell_type": "code",
   "execution_count": 108,
   "metadata": {},
   "outputs": [],
   "source": [
    "from sklearn.model_selection import GridSearchCV"
   ]
  },
  {
   "cell_type": "code",
   "execution_count": 127,
   "metadata": {},
   "outputs": [
    {
     "name": "stdout",
     "output_type": "stream",
     "text": [
      "{'max_depth': 20, 'n_estimators': 100}\n",
      "              precision    recall  f1-score   support\n",
      "\n",
      "           0       0.83      0.88      0.85       772\n",
      "           1       0.80      0.72      0.76       506\n",
      "\n",
      "    accuracy                           0.82      1278\n",
      "   macro avg       0.81      0.80      0.81      1278\n",
      "weighted avg       0.82      0.82      0.82      1278\n",
      "\n"
     ]
    }
   ],
   "source": [
    "params_forest = {'n_estimators': [10, 50, 100, 200], 'max_depth': [2, 5, 10, 20, 50]}\n",
    "grid_forest = GridSearchCV(RandomForestClassifier(random_state=SEED), params_forest)\n",
    "grid_forest.fit(x_train, y_train)\n",
    "\n",
    "print(grid_forest.best_params_)\n",
    "best_forest = grid_forest.best_estimator_\n",
    "best_forest.fit(x_train, y_train)\n",
    "print(classification_report(y_test, best_forest.predict(x_test)))"
   ]
  },
  {
   "cell_type": "code",
   "execution_count": 128,
   "metadata": {},
   "outputs": [
    {
     "name": "stdout",
     "output_type": "stream",
     "text": [
      "{'C': 0.001, 'penalty': 'l2'}\n",
      "              precision    recall  f1-score   support\n",
      "\n",
      "           0       0.82      0.90      0.86       772\n",
      "           1       0.82      0.70      0.75       506\n",
      "\n",
      "    accuracy                           0.82      1278\n",
      "   macro avg       0.82      0.80      0.81      1278\n",
      "weighted avg       0.82      0.82      0.82      1278\n",
      "\n"
     ]
    }
   ],
   "source": [
    "params_logreg =  {'penalty': ['l1','l2'], 'C': [0.001, 0.01, 0.1, 1, 10, 100, 1000]}\n",
    "grid_logreg = GridSearchCV(LogisticRegression(random_state=SEED, max_iter=200, solver='liblinear'), params_logreg)\n",
    "grid_logreg.fit(x_train, y_train)\n",
    "\n",
    "print(grid_logreg.best_params_)\n",
    "best_logreg = grid_logreg.best_estimator_\n",
    "best_logreg.fit(x_train, y_train)\n",
    "print(classification_report(y_test, best_logreg.predict(x_test)))"
   ]
  },
  {
   "cell_type": "markdown",
   "metadata": {},
   "source": [
    "### Сравним с качеством на векторных признаках"
   ]
  },
  {
   "cell_type": "code",
   "execution_count": 119,
   "metadata": {},
   "outputs": [],
   "source": [
    "X_train, X_test, y_train, y_test = train_test_split(X, y, test_size=0.3, random_state=SEED, stratify=y)"
   ]
  },
  {
   "cell_type": "code",
   "execution_count": 120,
   "metadata": {},
   "outputs": [
    {
     "name": "stdout",
     "output_type": "stream",
     "text": [
      "{'max_depth': 50, 'n_estimators': 200}\n",
      "              precision    recall  f1-score   support\n",
      "\n",
      "           0       0.75      0.87      0.80       772\n",
      "           1       0.73      0.55      0.63       506\n",
      "\n",
      "    accuracy                           0.74      1278\n",
      "   macro avg       0.74      0.71      0.72      1278\n",
      "weighted avg       0.74      0.74      0.73      1278\n",
      "\n"
     ]
    }
   ],
   "source": [
    "params_forest = {'n_estimators': [10, 50, 100, 200], 'max_depth': [2, 5, 10, 20, 50]}\n",
    "g_forest = GridSearchCV(RandomForestClassifier(random_state=SEED), params_forest)\n",
    "g_forest.fit(X_train, y_train)\n",
    "\n",
    "print(g_forest.best_params_)\n",
    "b_forest = g_forest.best_estimator_\n",
    "b_forest.fit(X_train, y_train)\n",
    "print(classification_report(y_test, b_forest.predict(X_test)))"
   ]
  },
  {
   "cell_type": "code",
   "execution_count": 122,
   "metadata": {},
   "outputs": [
    {
     "name": "stderr",
     "output_type": "stream",
     "text": [
      "C:\\Users\\User\\AppData\\Roaming\\Python\\Python37\\site-packages\\sklearn\\svm\\_base.py:977: ConvergenceWarning: Liblinear failed to converge, increase the number of iterations.\n",
      "  \"the number of iterations.\", ConvergenceWarning)\n"
     ]
    },
    {
     "name": "stdout",
     "output_type": "stream",
     "text": [
      "{'C': 10, 'penalty': 'l2'}\n",
      "              precision    recall  f1-score   support\n",
      "\n",
      "           0       0.73      0.80      0.77       772\n",
      "           1       0.65      0.55      0.60       506\n",
      "\n",
      "    accuracy                           0.70      1278\n",
      "   macro avg       0.69      0.68      0.68      1278\n",
      "weighted avg       0.70      0.70      0.70      1278\n",
      "\n"
     ]
    }
   ],
   "source": [
    "params_logreg =  {'penalty': ['l1','l2'], 'C': [0.001, 0.01, 0.1, 1, 10, 100, 1000]}\n",
    "g_logreg = GridSearchCV(LogisticRegression(random_state=SEED, max_iter=300, solver='liblinear'), params_logreg)\n",
    "g_logreg.fit(X_train, y_train)\n",
    "\n",
    "print(g_logreg.best_params_)\n",
    "b_logreg = g_logreg.best_estimator_\n",
    "b_logreg.fit(X_train, y_train)\n",
    "print(classification_report(y_test, b_logreg.predict(X_test)))"
   ]
  },
  {
   "cell_type": "markdown",
   "metadata": {},
   "source": [
    "Итого, лучше всего работает RandomForest c параметрами `max_depth=20` и `n_estimators=100` на текстовых признаках."
   ]
  },
  {
   "cell_type": "code",
   "execution_count": 129,
   "metadata": {},
   "outputs": [
    {
     "name": "stdout",
     "output_type": "stream",
     "text": [
      "n_similar_words - 0.30798789710369534\n",
      "av_words_length_1 - 0.09832277655943593\n",
      "av_words_length_2 - 0.0969033278215661\n",
      "n_words_diff - 0.07095559018761738\n",
      "n_words_2 - 0.06683212586860166\n",
      "n_words_1 - 0.06337962967871767\n",
      "NOUN - 0.060287381487381914\n",
      "PREP - 0.04407429831494903\n",
      "ADJF - 0.030823048085570987\n",
      "VERB - 0.020440185942307985\n",
      "PRCL - 0.019797657009530553\n",
      "CONJ - 0.019583109447358228\n",
      "INFN - 0.016900137137212667\n",
      "ADVB - 0.01572097953771971\n",
      "None - 0.013413404688499993\n",
      "PRTF - 0.013310826854730609\n",
      "PRTS - 0.012011059123626839\n",
      "NUMR - 0.010967739450479805\n",
      "ADJS - 0.008611954119559602\n",
      "NPRO - 0.0031055296578852095\n",
      "PRED - 0.002492543988656209\n",
      "COMP - 0.002230430811106504\n",
      "INTJ - 0.001422942326742646\n",
      "GRND - 0.00042542479704732987\n"
     ]
    }
   ],
   "source": [
    "feature_importances_forest = best_forest.feature_importances_\n",
    "for ind in np.argsort(-feature_importances_forest):\n",
    "    print(x_train.columns[ind], '-', feature_importances_forest[ind])"
   ]
  },
  {
   "cell_type": "code",
   "execution_count": 131,
   "metadata": {},
   "outputs": [
    {
     "name": "stdout",
     "output_type": "stream",
     "text": [
      "n_similar_words - 0.5355923784603931\n",
      "av_words_length_2 - 0.023377936800305817\n",
      "ADJF - 0.00995412864286361\n",
      "CONJ - 0.009679407935678092\n",
      "VERB - 0.007341207594404369\n",
      "PRCL - 0.006291014830495488\n",
      "PRTF - 0.005739524471994745\n",
      "PRED - 0.0024696921237243683\n",
      "NPRO - 0.001531490754406824\n",
      "COMP - 0.0010619652555258247\n",
      "None - 0.0009450689587502375\n",
      "INFN - 0.00015803870841889494\n",
      "GRND - -1.269921352448984e-06\n",
      "INTJ - -0.00031213721003688533\n",
      "ADVB - -0.0014450300070799028\n",
      "ADJS - -0.0038551662328443403\n",
      "PRTS - -0.004066641401975215\n",
      "NUMR - -0.00899592376788177\n",
      "av_words_length_1 - -0.011966769528581627\n",
      "n_words_diff - -0.012224424165111759\n",
      "NOUN - -0.013549956996401392\n",
      "PREP - -0.025169837903802127\n",
      "n_words_2 - -0.1625214390726442\n",
      "n_words_1 - -0.17474586323776203\n"
     ]
    }
   ],
   "source": [
    "feature_importances_lreg = best_logreg.coef_\n",
    "for ind in np.argsort(-feature_importances_lreg[0]):\n",
    "    print(x_train.columns[ind], '-', feature_importances_lreg[0][ind])"
   ]
  },
  {
   "cell_type": "markdown",
   "metadata": {},
   "source": [
    "Самым важным признаком очевидно оказывается кол-во одинаковых слов в предложении."
   ]
  },
  {
   "cell_type": "markdown",
   "metadata": {},
   "source": [
    "### Анализ шибок"
   ]
  },
  {
   "cell_type": "code",
   "execution_count": 143,
   "metadata": {},
   "outputs": [
    {
     "data": {
      "text/html": [
       "<div>\n",
       "<style scoped>\n",
       "    .dataframe tbody tr th:only-of-type {\n",
       "        vertical-align: middle;\n",
       "    }\n",
       "\n",
       "    .dataframe tbody tr th {\n",
       "        vertical-align: top;\n",
       "    }\n",
       "\n",
       "    .dataframe thead th {\n",
       "        text-align: right;\n",
       "    }\n",
       "</style>\n",
       "<table border=\"1\" class=\"dataframe\">\n",
       "  <thead>\n",
       "    <tr style=\"text-align: right;\">\n",
       "      <th></th>\n",
       "      <th>text_1</th>\n",
       "      <th>text_2</th>\n",
       "      <th>class</th>\n",
       "      <th>pred</th>\n",
       "    </tr>\n",
       "  </thead>\n",
       "  <tbody>\n",
       "    <tr>\n",
       "      <th>7334</th>\n",
       "      <td>Число погибших в результате урагана на севере ...</td>\n",
       "      <td>До 44 человек увеличилось число жертв урагана ...</td>\n",
       "      <td>1</td>\n",
       "      <td>0</td>\n",
       "    </tr>\n",
       "    <tr>\n",
       "      <th>1514</th>\n",
       "      <td>СМИ: лидер Саудовской Аравии приказал Нацгвард...</td>\n",
       "      <td>Саудовская Аравия объявила о новой операции в ...</td>\n",
       "      <td>0</td>\n",
       "      <td>0</td>\n",
       "    </tr>\n",
       "    <tr>\n",
       "      <th>3719</th>\n",
       "      <td>Пожар в колонии в Вологодской обл.: есть погиб...</td>\n",
       "      <td>При пожаре в вологодской колонии погибли трое ...</td>\n",
       "      <td>1</td>\n",
       "      <td>0</td>\n",
       "    </tr>\n",
       "    <tr>\n",
       "      <th>2652</th>\n",
       "      <td>СМИ сообщили об убийстве украинского журналист...</td>\n",
       "      <td>Глава ДНР: за убийством журналиста Бузины стоя...</td>\n",
       "      <td>0</td>\n",
       "      <td>0</td>\n",
       "    </tr>\n",
       "    <tr>\n",
       "      <th>3032</th>\n",
       "      <td>Для выплат строителям \"Восточного\" перечислено...</td>\n",
       "      <td>Для строителей космодрома Восточный перечислил...</td>\n",
       "      <td>1</td>\n",
       "      <td>1</td>\n",
       "    </tr>\n",
       "  </tbody>\n",
       "</table>\n",
       "</div>"
      ],
      "text/plain": [
       "                                                 text_1  \\\n",
       "7334  Число погибших в результате урагана на севере ...   \n",
       "1514  СМИ: лидер Саудовской Аравии приказал Нацгвард...   \n",
       "3719  Пожар в колонии в Вологодской обл.: есть погиб...   \n",
       "2652  СМИ сообщили об убийстве украинского журналист...   \n",
       "3032  Для выплат строителям \"Восточного\" перечислено...   \n",
       "\n",
       "                                                 text_2  class  pred  \n",
       "7334  До 44 человек увеличилось число жертв урагана ...      1     0  \n",
       "1514  Саудовская Аравия объявила о новой операции в ...      0     0  \n",
       "3719  При пожаре в вологодской колонии погибли трое ...      1     0  \n",
       "2652  Глава ДНР: за убийством журналиста Бузины стоя...      0     0  \n",
       "3032  Для строителей космодрома Восточный перечислил...      1     1  "
      ]
     },
     "execution_count": 143,
     "metadata": {},
     "output_type": "execute_result"
    }
   ],
   "source": [
    "test_df = para.loc[y_test.index, ['text_1', 'text_2', 'class']]\n",
    "test_df['pred'] = best_forest.predict(x_test)\n",
    "test_df.head()"
   ]
  },
  {
   "cell_type": "markdown",
   "metadata": {},
   "source": [
    "False Positives получаются когда\n",
    "1. неправильная изначальная разметка (?) _Астрономы обнаружили у Нептуна 14-й спутник. -> У Нептуна нашли новый спутник. -> 0_\n",
    "2. изменяется/добавляется одна деталь (место, участники события, их кол-во) с сохранением всей остальной структуры"
   ]
  },
  {
   "cell_type": "code",
   "execution_count": 144,
   "metadata": {},
   "outputs": [
    {
     "data": {
      "text/html": [
       "<div>\n",
       "<style scoped>\n",
       "    .dataframe tbody tr th:only-of-type {\n",
       "        vertical-align: middle;\n",
       "    }\n",
       "\n",
       "    .dataframe tbody tr th {\n",
       "        vertical-align: top;\n",
       "    }\n",
       "\n",
       "    .dataframe thead th {\n",
       "        text-align: right;\n",
       "    }\n",
       "</style>\n",
       "<table border=\"1\" class=\"dataframe\">\n",
       "  <thead>\n",
       "    <tr style=\"text-align: right;\">\n",
       "      <th></th>\n",
       "      <th>text_1</th>\n",
       "      <th>text_2</th>\n",
       "      <th>class</th>\n",
       "      <th>pred</th>\n",
       "    </tr>\n",
       "  </thead>\n",
       "  <tbody>\n",
       "    <tr>\n",
       "      <th>1289</th>\n",
       "      <td>Виновник аварии под Подольском арестован.</td>\n",
       "      <td>Виновника ДТП в Подмосковье арестовали.</td>\n",
       "      <td>0</td>\n",
       "      <td>1</td>\n",
       "    </tr>\n",
       "    <tr>\n",
       "      <th>8282</th>\n",
       "      <td>В Токио на крыше резиденции премьера Японии об...</td>\n",
       "      <td>На резиденцию премьера Японии сел дрон со знак...</td>\n",
       "      <td>0</td>\n",
       "      <td>1</td>\n",
       "    </tr>\n",
       "    <tr>\n",
       "      <th>2751</th>\n",
       "      <td>«Почта России» будет торговать итальянской обу...</td>\n",
       "      <td>\"Почта России\" присмотрела итальянскую модель.</td>\n",
       "      <td>0</td>\n",
       "      <td>1</td>\n",
       "    </tr>\n",
       "    <tr>\n",
       "      <th>2042</th>\n",
       "      <td>В Сирии закрыт доступ в Интернет.</td>\n",
       "      <td>Сирия восстановила доступ к интернету.</td>\n",
       "      <td>0</td>\n",
       "      <td>1</td>\n",
       "    </tr>\n",
       "    <tr>\n",
       "      <th>5184</th>\n",
       "      <td>Нидерланды направляют спасателей в пострадавши...</td>\n",
       "      <td>В пострадавшем от землетрясений Непале началис...</td>\n",
       "      <td>0</td>\n",
       "      <td>1</td>\n",
       "    </tr>\n",
       "    <tr>\n",
       "      <th>678</th>\n",
       "      <td>При теракте в Найроби погиб племянник президен...</td>\n",
       "      <td>Президент Кении уточнил число жертв теракта в ...</td>\n",
       "      <td>0</td>\n",
       "      <td>1</td>\n",
       "    </tr>\n",
       "    <tr>\n",
       "      <th>205</th>\n",
       "      <td>Полиция захватила офис движения \"За права чело...</td>\n",
       "      <td>Полиция открестилась от штурма офиса «За права...</td>\n",
       "      <td>0</td>\n",
       "      <td>1</td>\n",
       "    </tr>\n",
       "    <tr>\n",
       "      <th>4115</th>\n",
       "      <td>Софи Марсо и Ксавье Долан войдут в жюри 68-го ...</td>\n",
       "      <td>Сиенна Миллер и Софи Марсо войдут в жюри Каннс...</td>\n",
       "      <td>0</td>\n",
       "      <td>1</td>\n",
       "    </tr>\n",
       "    <tr>\n",
       "      <th>6032</th>\n",
       "      <td>Астрономы обнаружили у Нептуна 14-й спутник.</td>\n",
       "      <td>У Нептуна нашли новый спутник.</td>\n",
       "      <td>0</td>\n",
       "      <td>1</td>\n",
       "    </tr>\n",
       "    <tr>\n",
       "      <th>3494</th>\n",
       "      <td>Первый взрыв в Волгограде произвела террористк...</td>\n",
       "      <td>В Волгограде на вокзале произошел взрыв.</td>\n",
       "      <td>0</td>\n",
       "      <td>1</td>\n",
       "    </tr>\n",
       "    <tr>\n",
       "      <th>799</th>\n",
       "      <td>Число жертв землетрясения в Непале составило 4...</td>\n",
       "      <td>Власти Непала объявили траур по жертвам землет...</td>\n",
       "      <td>0</td>\n",
       "      <td>1</td>\n",
       "    </tr>\n",
       "    <tr>\n",
       "      <th>1095</th>\n",
       "      <td>Следствие просит продлить до 30 июня срок арес...</td>\n",
       "      <td>Срок следствия по делу Савченко продлен до 13 ...</td>\n",
       "      <td>0</td>\n",
       "      <td>1</td>\n",
       "    </tr>\n",
       "    <tr>\n",
       "      <th>2977</th>\n",
       "      <td>Пожар на строительном рынке \"Мельница\" в Москве.</td>\n",
       "      <td>Масштабный пожар на строительном рынке в Москв...</td>\n",
       "      <td>0</td>\n",
       "      <td>1</td>\n",
       "    </tr>\n",
       "    <tr>\n",
       "      <th>3830</th>\n",
       "      <td>Наркоторговцы застрели вице-адмирала ВМС Мексики.</td>\n",
       "      <td>Вице-адмирал ВМС Мексики застрелен в штате Мич...</td>\n",
       "      <td>0</td>\n",
       "      <td>1</td>\n",
       "    </tr>\n",
       "    <tr>\n",
       "      <th>2163</th>\n",
       "      <td>При пожаре в новгородском интернате погибли 37...</td>\n",
       "      <td>При пожаре в новгородском интернате погибли се...</td>\n",
       "      <td>0</td>\n",
       "      <td>1</td>\n",
       "    </tr>\n",
       "    <tr>\n",
       "      <th>3086</th>\n",
       "      <td>Могильный проиграл выборы в Зал хоккейной славы.</td>\n",
       "      <td>Александр Могильный подобрался к Залу хоккейно...</td>\n",
       "      <td>0</td>\n",
       "      <td>1</td>\n",
       "    </tr>\n",
       "    <tr>\n",
       "      <th>2782</th>\n",
       "      <td>СМИ: Над Ла-Маншем исчез с радаров военно-тран...</td>\n",
       "      <td>«Исчезнувший» над Ла-Маншем самолет ВВС США пр...</td>\n",
       "      <td>0</td>\n",
       "      <td>1</td>\n",
       "    </tr>\n",
       "    <tr>\n",
       "      <th>7143</th>\n",
       "      <td>Минобороны отказалось от претензий к компании ...</td>\n",
       "      <td>Минобороны отказалось от претензий к компании ...</td>\n",
       "      <td>0</td>\n",
       "      <td>1</td>\n",
       "    </tr>\n",
       "    <tr>\n",
       "      <th>5183</th>\n",
       "      <td>Убийство московского чиновника в Орле было зак...</td>\n",
       "      <td>В Орле убили московского чиновника.</td>\n",
       "      <td>0</td>\n",
       "      <td>1</td>\n",
       "    </tr>\n",
       "    <tr>\n",
       "      <th>2861</th>\n",
       "      <td>Интернет-новость о назначении Моуринью тренеро...</td>\n",
       "      <td>«Челси» объявил о назначении Жозе Моуринью.</td>\n",
       "      <td>0</td>\n",
       "      <td>1</td>\n",
       "    </tr>\n",
       "    <tr>\n",
       "      <th>2473</th>\n",
       "      <td>Олег Тиньков возвращается на рынок пива.</td>\n",
       "      <td>Олег Тиньков вернулся за пивом.</td>\n",
       "      <td>0</td>\n",
       "      <td>1</td>\n",
       "    </tr>\n",
       "    <tr>\n",
       "      <th>237</th>\n",
       "      <td>У метро \"Пражская\" в Москве задержаны около 20...</td>\n",
       "      <td>У метро «Пражская» в Москве задержали около 50...</td>\n",
       "      <td>0</td>\n",
       "      <td>1</td>\n",
       "    </tr>\n",
       "    <tr>\n",
       "      <th>4947</th>\n",
       "      <td>Замначальника угрозыска Петербурга сбил на маш...</td>\n",
       "      <td>Замначальника угрозыска полиции Петербурга сби...</td>\n",
       "      <td>0</td>\n",
       "      <td>1</td>\n",
       "    </tr>\n",
       "    <tr>\n",
       "      <th>2843</th>\n",
       "      <td>Выходцы из Средней Азии избили битами водителя...</td>\n",
       "      <td>Выходцев из Средней Азии задержали за нападени...</td>\n",
       "      <td>0</td>\n",
       "      <td>1</td>\n",
       "    </tr>\n",
       "    <tr>\n",
       "      <th>1258</th>\n",
       "      <td>Москву на консультациях по Сирии в Женеве пред...</td>\n",
       "      <td>Консультации по Сирии пройдут в Женеве под эги...</td>\n",
       "      <td>0</td>\n",
       "      <td>1</td>\n",
       "    </tr>\n",
       "    <tr>\n",
       "      <th>1821</th>\n",
       "      <td>Нарышкин прочтет текст участникам \"Тотального ...</td>\n",
       "      <td>В Петербурге текст Тотального диктанта прочтет...</td>\n",
       "      <td>0</td>\n",
       "      <td>1</td>\n",
       "    </tr>\n",
       "    <tr>\n",
       "      <th>1138</th>\n",
       "      <td>Спасательные работы на канатной дороге в Сочи ...</td>\n",
       "      <td>Десятки людей в Сочи застряли на канатной дороге.</td>\n",
       "      <td>0</td>\n",
       "      <td>1</td>\n",
       "    </tr>\n",
       "    <tr>\n",
       "      <th>1942</th>\n",
       "      <td>Полиция в Балтиморе применила дымовые шашки пр...</td>\n",
       "      <td>Демонстранты в Балтиморе закидали полицейских ...</td>\n",
       "      <td>0</td>\n",
       "      <td>1</td>\n",
       "    </tr>\n",
       "    <tr>\n",
       "      <th>1686</th>\n",
       "      <td>Число жертв крушения состава с нефтью в Квебек...</td>\n",
       "      <td>Количество жертв крушения поезда в Канаде выро...</td>\n",
       "      <td>0</td>\n",
       "      <td>1</td>\n",
       "    </tr>\n",
       "    <tr>\n",
       "      <th>3009</th>\n",
       "      <td>Поезд, потерпевший крушение в Испании, был исп...</td>\n",
       "      <td>В Испании взяли под стражу машиниста потерпевш...</td>\n",
       "      <td>0</td>\n",
       "      <td>1</td>\n",
       "    </tr>\n",
       "    <tr>\n",
       "      <th>...</th>\n",
       "      <td>...</td>\n",
       "      <td>...</td>\n",
       "      <td>...</td>\n",
       "      <td>...</td>\n",
       "    </tr>\n",
       "    <tr>\n",
       "      <th>1486</th>\n",
       "      <td>Топ-менеджер Google погиб при сходе лавины на ...</td>\n",
       "      <td>При сходе лавины на Эвересте погибли 65 альпин...</td>\n",
       "      <td>0</td>\n",
       "      <td>1</td>\n",
       "    </tr>\n",
       "    <tr>\n",
       "      <th>845</th>\n",
       "      <td>Светлана Кузнецова вышла в четвертьфинал \"Рола...</td>\n",
       "      <td>Шарапова вышла в четвертьфинал «Ролан Гаррос».</td>\n",
       "      <td>0</td>\n",
       "      <td>1</td>\n",
       "    </tr>\n",
       "    <tr>\n",
       "      <th>3858</th>\n",
       "      <td>Полиция Франции взяла под охрану племянника Ки...</td>\n",
       "      <td>Племянник Ким Чен Ына пропал во Франции.</td>\n",
       "      <td>0</td>\n",
       "      <td>1</td>\n",
       "    </tr>\n",
       "    <tr>\n",
       "      <th>5718</th>\n",
       "      <td>После шоу в Петербурге власти посчитали Мадонн...</td>\n",
       "      <td>Концерт Мадонны в Петербурге признали нелегаль...</td>\n",
       "      <td>0</td>\n",
       "      <td>1</td>\n",
       "    </tr>\n",
       "    <tr>\n",
       "      <th>3121</th>\n",
       "      <td>Перед зданием посольства США в Анкаре прогреме...</td>\n",
       "      <td>При взрыве в Анкаре погиб охранник посольства ...</td>\n",
       "      <td>0</td>\n",
       "      <td>1</td>\n",
       "    </tr>\n",
       "    <tr>\n",
       "      <th>4302</th>\n",
       "      <td>Новорожденную британскую принцессу навестили р...</td>\n",
       "      <td>В честь новорожденной британской принцессы отч...</td>\n",
       "      <td>0</td>\n",
       "      <td>1</td>\n",
       "    </tr>\n",
       "    <tr>\n",
       "      <th>6488</th>\n",
       "      <td>Россиян на горящем у берегов Греции пароме нет</td>\n",
       "      <td>Горящий у берегов Греции паром взяли на буксир.</td>\n",
       "      <td>0</td>\n",
       "      <td>1</td>\n",
       "    </tr>\n",
       "    <tr>\n",
       "      <th>2152</th>\n",
       "      <td>Киев отменил поезда в Крым</td>\n",
       "      <td>В Киеве объяснили транспортную блокаду Крыма.</td>\n",
       "      <td>0</td>\n",
       "      <td>1</td>\n",
       "    </tr>\n",
       "    <tr>\n",
       "      <th>1192</th>\n",
       "      <td>Хакеры взломали почту Джорджа Буша.</td>\n",
       "      <td>Хакер взломал электронную почту родственников ...</td>\n",
       "      <td>0</td>\n",
       "      <td>1</td>\n",
       "    </tr>\n",
       "    <tr>\n",
       "      <th>934</th>\n",
       "      <td>МИД Польши осудил погромы у посольства России ...</td>\n",
       "      <td>Националисты в Варшаве устроили пожар у посоль...</td>\n",
       "      <td>0</td>\n",
       "      <td>1</td>\n",
       "    </tr>\n",
       "    <tr>\n",
       "      <th>985</th>\n",
       "      <td>В Москве предотвращена криминальная разборка у...</td>\n",
       "      <td>На криминальной разборке в Москве задержаны 22...</td>\n",
       "      <td>0</td>\n",
       "      <td>1</td>\n",
       "    </tr>\n",
       "    <tr>\n",
       "      <th>4994</th>\n",
       "      <td>Задержаны члены банды, похитившие у МОЭСК свыш...</td>\n",
       "      <td>У компании «МОЭСК» похитили миллиард рублей.</td>\n",
       "      <td>0</td>\n",
       "      <td>1</td>\n",
       "    </tr>\n",
       "    <tr>\n",
       "      <th>5247</th>\n",
       "      <td>Полиция насчитала 2,5 тыс. участников акции в ...</td>\n",
       "      <td>Полиция насчитала 2,5 тысячи участников акции ...</td>\n",
       "      <td>0</td>\n",
       "      <td>1</td>\n",
       "    </tr>\n",
       "    <tr>\n",
       "      <th>1740</th>\n",
       "      <td>Активистки FEMEN обнажились в испанском парлам...</td>\n",
       "      <td>Активистки FEMEN сорвали аплодисменты в испанс...</td>\n",
       "      <td>0</td>\n",
       "      <td>1</td>\n",
       "    </tr>\n",
       "    <tr>\n",
       "      <th>7461</th>\n",
       "      <td>Число погибших при обрушении ТЦ в Риге возросл...</td>\n",
       "      <td>Число погибших в Риге выросло до 18 человек.</td>\n",
       "      <td>0</td>\n",
       "      <td>1</td>\n",
       "    </tr>\n",
       "    <tr>\n",
       "      <th>718</th>\n",
       "      <td>Главный аэропорт Рима закрыт из-за пожара в те...</td>\n",
       "      <td>Закрытый из-за пожара аэропорт Рима возобновля...</td>\n",
       "      <td>0</td>\n",
       "      <td>1</td>\n",
       "    </tr>\n",
       "    <tr>\n",
       "      <th>881</th>\n",
       "      <td>«Дочка» «Роснефти» подала иск к Минэнерго на 6...</td>\n",
       "      <td>ВТБ подал новый иск к «Мечелу» на 2,66 миллиар...</td>\n",
       "      <td>0</td>\n",
       "      <td>1</td>\n",
       "    </tr>\n",
       "    <tr>\n",
       "      <th>421</th>\n",
       "      <td>Российские теннисистки уступают Словакии в пол...</td>\n",
       "      <td>Российские теннисистки вышли в финал Кубка Фед...</td>\n",
       "      <td>0</td>\n",
       "      <td>1</td>\n",
       "    </tr>\n",
       "    <tr>\n",
       "      <th>5189</th>\n",
       "      <td>Умер бывший солист \"А'Студио\" Батырхан Шукенов</td>\n",
       "      <td>Бывшего солиста «А'Студио» Батырхана Шукенова ...</td>\n",
       "      <td>0</td>\n",
       "      <td>1</td>\n",
       "    </tr>\n",
       "    <tr>\n",
       "      <th>3230</th>\n",
       "      <td>\"Билайн\" отказался от услуг \"Связного\".</td>\n",
       "      <td>«Вымпелком» отказался от услуг «Связного».</td>\n",
       "      <td>0</td>\n",
       "      <td>1</td>\n",
       "    </tr>\n",
       "    <tr>\n",
       "      <th>4554</th>\n",
       "      <td>По делу о взрыве на заводе удобрений в США аре...</td>\n",
       "      <td>По делу о взрыве на заводе в Техасе арестовали...</td>\n",
       "      <td>0</td>\n",
       "      <td>1</td>\n",
       "    </tr>\n",
       "    <tr>\n",
       "      <th>992</th>\n",
       "      <td>Самолет с Эдвардом Сноуденом приземлился в Шер...</td>\n",
       "      <td>Эдвард Сноуден переночует в «Шереметьево».</td>\n",
       "      <td>0</td>\n",
       "      <td>1</td>\n",
       "    </tr>\n",
       "    <tr>\n",
       "      <th>6341</th>\n",
       "      <td>СМИ выяснили, как казнили дядю Ким Чен Ына.</td>\n",
       "      <td>В КНДР казнили дядю Ким Чен Ына.</td>\n",
       "      <td>0</td>\n",
       "      <td>1</td>\n",
       "    </tr>\n",
       "    <tr>\n",
       "      <th>1862</th>\n",
       "      <td>Очевидец рассказал о метаморфозах террориста-с...</td>\n",
       "      <td>Очевидцы рассказали о взрыве на вокзале Волгог...</td>\n",
       "      <td>0</td>\n",
       "      <td>1</td>\n",
       "    </tr>\n",
       "    <tr>\n",
       "      <th>4364</th>\n",
       "      <td>Эксперты составили рейтинг самых привлекательн...</td>\n",
       "      <td>В тройке самых привлекательных для бизнеса рег...</td>\n",
       "      <td>0</td>\n",
       "      <td>1</td>\n",
       "    </tr>\n",
       "    <tr>\n",
       "      <th>7248</th>\n",
       "      <td>Сотрудники ГИБДД задержали нарушителя с помощь...</td>\n",
       "      <td>Сотрудники ГИБДД выставили «живой щит» из свои...</td>\n",
       "      <td>0</td>\n",
       "      <td>1</td>\n",
       "    </tr>\n",
       "    <tr>\n",
       "      <th>348</th>\n",
       "      <td>Власти США одобрили создание крупнейшего бирже...</td>\n",
       "      <td>Власти США одобрили продажу крупнейшего биржев...</td>\n",
       "      <td>0</td>\n",
       "      <td>1</td>\n",
       "    </tr>\n",
       "    <tr>\n",
       "      <th>4073</th>\n",
       "      <td>На \"Марше против палачей\" прошли задержания.</td>\n",
       "      <td>«Марш против палачей» завершился.</td>\n",
       "      <td>0</td>\n",
       "      <td>1</td>\n",
       "    </tr>\n",
       "    <tr>\n",
       "      <th>2522</th>\n",
       "      <td>Число жертв землетрясения в Непале возросло до...</td>\n",
       "      <td>Число жертв землетрясения в Непале превысило 2...</td>\n",
       "      <td>0</td>\n",
       "      <td>1</td>\n",
       "    </tr>\n",
       "    <tr>\n",
       "      <th>3169</th>\n",
       "      <td>Госдеп заявил об \"огромном числе российских во...</td>\n",
       "      <td>В Госдепе затруднились назвать число российски...</td>\n",
       "      <td>0</td>\n",
       "      <td>1</td>\n",
       "    </tr>\n",
       "  </tbody>\n",
       "</table>\n",
       "<p>93 rows × 4 columns</p>\n",
       "</div>"
      ],
      "text/plain": [
       "                                                 text_1  \\\n",
       "1289          Виновник аварии под Подольском арестован.   \n",
       "8282  В Токио на крыше резиденции премьера Японии об...   \n",
       "2751  «Почта России» будет торговать итальянской обу...   \n",
       "2042                  В Сирии закрыт доступ в Интернет.   \n",
       "5184  Нидерланды направляют спасателей в пострадавши...   \n",
       "678   При теракте в Найроби погиб племянник президен...   \n",
       "205   Полиция захватила офис движения \"За права чело...   \n",
       "4115  Софи Марсо и Ксавье Долан войдут в жюри 68-го ...   \n",
       "6032       Астрономы обнаружили у Нептуна 14-й спутник.   \n",
       "3494  Первый взрыв в Волгограде произвела террористк...   \n",
       "799   Число жертв землетрясения в Непале составило 4...   \n",
       "1095  Следствие просит продлить до 30 июня срок арес...   \n",
       "2977   Пожар на строительном рынке \"Мельница\" в Москве.   \n",
       "3830  Наркоторговцы застрели вице-адмирала ВМС Мексики.   \n",
       "2163  При пожаре в новгородском интернате погибли 37...   \n",
       "3086   Могильный проиграл выборы в Зал хоккейной славы.   \n",
       "2782  СМИ: Над Ла-Маншем исчез с радаров военно-тран...   \n",
       "7143  Минобороны отказалось от претензий к компании ...   \n",
       "5183  Убийство московского чиновника в Орле было зак...   \n",
       "2861  Интернет-новость о назначении Моуринью тренеро...   \n",
       "2473           Олег Тиньков возвращается на рынок пива.   \n",
       "237   У метро \"Пражская\" в Москве задержаны около 20...   \n",
       "4947  Замначальника угрозыска Петербурга сбил на маш...   \n",
       "2843  Выходцы из Средней Азии избили битами водителя...   \n",
       "1258  Москву на консультациях по Сирии в Женеве пред...   \n",
       "1821  Нарышкин прочтет текст участникам \"Тотального ...   \n",
       "1138  Спасательные работы на канатной дороге в Сочи ...   \n",
       "1942  Полиция в Балтиморе применила дымовые шашки пр...   \n",
       "1686  Число жертв крушения состава с нефтью в Квебек...   \n",
       "3009  Поезд, потерпевший крушение в Испании, был исп...   \n",
       "...                                                 ...   \n",
       "1486  Топ-менеджер Google погиб при сходе лавины на ...   \n",
       "845   Светлана Кузнецова вышла в четвертьфинал \"Рола...   \n",
       "3858  Полиция Франции взяла под охрану племянника Ки...   \n",
       "5718  После шоу в Петербурге власти посчитали Мадонн...   \n",
       "3121  Перед зданием посольства США в Анкаре прогреме...   \n",
       "4302  Новорожденную британскую принцессу навестили р...   \n",
       "6488     Россиян на горящем у берегов Греции пароме нет   \n",
       "2152                         Киев отменил поезда в Крым   \n",
       "1192                Хакеры взломали почту Джорджа Буша.   \n",
       "934   МИД Польши осудил погромы у посольства России ...   \n",
       "985   В Москве предотвращена криминальная разборка у...   \n",
       "4994  Задержаны члены банды, похитившие у МОЭСК свыш...   \n",
       "5247  Полиция насчитала 2,5 тыс. участников акции в ...   \n",
       "1740  Активистки FEMEN обнажились в испанском парлам...   \n",
       "7461  Число погибших при обрушении ТЦ в Риге возросл...   \n",
       "718   Главный аэропорт Рима закрыт из-за пожара в те...   \n",
       "881   «Дочка» «Роснефти» подала иск к Минэнерго на 6...   \n",
       "421   Российские теннисистки уступают Словакии в пол...   \n",
       "5189     Умер бывший солист \"А'Студио\" Батырхан Шукенов   \n",
       "3230            \"Билайн\" отказался от услуг \"Связного\".   \n",
       "4554  По делу о взрыве на заводе удобрений в США аре...   \n",
       "992   Самолет с Эдвардом Сноуденом приземлился в Шер...   \n",
       "6341        СМИ выяснили, как казнили дядю Ким Чен Ына.   \n",
       "1862  Очевидец рассказал о метаморфозах террориста-с...   \n",
       "4364  Эксперты составили рейтинг самых привлекательн...   \n",
       "7248  Сотрудники ГИБДД задержали нарушителя с помощь...   \n",
       "348   Власти США одобрили создание крупнейшего бирже...   \n",
       "4073       На \"Марше против палачей\" прошли задержания.   \n",
       "2522  Число жертв землетрясения в Непале возросло до...   \n",
       "3169  Госдеп заявил об \"огромном числе российских во...   \n",
       "\n",
       "                                                 text_2  class  pred  \n",
       "1289            Виновника ДТП в Подмосковье арестовали.      0     1  \n",
       "8282  На резиденцию премьера Японии сел дрон со знак...      0     1  \n",
       "2751     \"Почта России\" присмотрела итальянскую модель.      0     1  \n",
       "2042             Сирия восстановила доступ к интернету.      0     1  \n",
       "5184  В пострадавшем от землетрясений Непале началис...      0     1  \n",
       "678   Президент Кении уточнил число жертв теракта в ...      0     1  \n",
       "205   Полиция открестилась от штурма офиса «За права...      0     1  \n",
       "4115  Сиенна Миллер и Софи Марсо войдут в жюри Каннс...      0     1  \n",
       "6032                     У Нептуна нашли новый спутник.      0     1  \n",
       "3494           В Волгограде на вокзале произошел взрыв.      0     1  \n",
       "799   Власти Непала объявили траур по жертвам землет...      0     1  \n",
       "1095  Срок следствия по делу Савченко продлен до 13 ...      0     1  \n",
       "2977  Масштабный пожар на строительном рынке в Москв...      0     1  \n",
       "3830  Вице-адмирал ВМС Мексики застрелен в штате Мич...      0     1  \n",
       "2163  При пожаре в новгородском интернате погибли се...      0     1  \n",
       "3086  Александр Могильный подобрался к Залу хоккейно...      0     1  \n",
       "2782  «Исчезнувший» над Ла-Маншем самолет ВВС США пр...      0     1  \n",
       "7143  Минобороны отказалось от претензий к компании ...      0     1  \n",
       "5183                В Орле убили московского чиновника.      0     1  \n",
       "2861        «Челси» объявил о назначении Жозе Моуринью.      0     1  \n",
       "2473                    Олег Тиньков вернулся за пивом.      0     1  \n",
       "237   У метро «Пражская» в Москве задержали около 50...      0     1  \n",
       "4947  Замначальника угрозыска полиции Петербурга сби...      0     1  \n",
       "2843  Выходцев из Средней Азии задержали за нападени...      0     1  \n",
       "1258  Консультации по Сирии пройдут в Женеве под эги...      0     1  \n",
       "1821  В Петербурге текст Тотального диктанта прочтет...      0     1  \n",
       "1138  Десятки людей в Сочи застряли на канатной дороге.      0     1  \n",
       "1942  Демонстранты в Балтиморе закидали полицейских ...      0     1  \n",
       "1686  Количество жертв крушения поезда в Канаде выро...      0     1  \n",
       "3009  В Испании взяли под стражу машиниста потерпевш...      0     1  \n",
       "...                                                 ...    ...   ...  \n",
       "1486  При сходе лавины на Эвересте погибли 65 альпин...      0     1  \n",
       "845      Шарапова вышла в четвертьфинал «Ролан Гаррос».      0     1  \n",
       "3858           Племянник Ким Чен Ына пропал во Франции.      0     1  \n",
       "5718  Концерт Мадонны в Петербурге признали нелегаль...      0     1  \n",
       "3121  При взрыве в Анкаре погиб охранник посольства ...      0     1  \n",
       "4302  В честь новорожденной британской принцессы отч...      0     1  \n",
       "6488    Горящий у берегов Греции паром взяли на буксир.      0     1  \n",
       "2152      В Киеве объяснили транспортную блокаду Крыма.      0     1  \n",
       "1192  Хакер взломал электронную почту родственников ...      0     1  \n",
       "934   Националисты в Варшаве устроили пожар у посоль...      0     1  \n",
       "985   На криминальной разборке в Москве задержаны 22...      0     1  \n",
       "4994       У компании «МОЭСК» похитили миллиард рублей.      0     1  \n",
       "5247  Полиция насчитала 2,5 тысячи участников акции ...      0     1  \n",
       "1740  Активистки FEMEN сорвали аплодисменты в испанс...      0     1  \n",
       "7461       Число погибших в Риге выросло до 18 человек.      0     1  \n",
       "718   Закрытый из-за пожара аэропорт Рима возобновля...      0     1  \n",
       "881   ВТБ подал новый иск к «Мечелу» на 2,66 миллиар...      0     1  \n",
       "421   Российские теннисистки вышли в финал Кубка Фед...      0     1  \n",
       "5189  Бывшего солиста «А'Студио» Батырхана Шукенова ...      0     1  \n",
       "3230         «Вымпелком» отказался от услуг «Связного».      0     1  \n",
       "4554  По делу о взрыве на заводе в Техасе арестовали...      0     1  \n",
       "992          Эдвард Сноуден переночует в «Шереметьево».      0     1  \n",
       "6341                   В КНДР казнили дядю Ким Чен Ына.      0     1  \n",
       "1862  Очевидцы рассказали о взрыве на вокзале Волгог...      0     1  \n",
       "4364  В тройке самых привлекательных для бизнеса рег...      0     1  \n",
       "7248  Сотрудники ГИБДД выставили «живой щит» из свои...      0     1  \n",
       "348   Власти США одобрили продажу крупнейшего биржев...      0     1  \n",
       "4073                  «Марш против палачей» завершился.      0     1  \n",
       "2522  Число жертв землетрясения в Непале превысило 2...      0     1  \n",
       "3169  В Госдепе затруднились назвать число российски...      0     1  \n",
       "\n",
       "[93 rows x 4 columns]"
      ]
     },
     "execution_count": 144,
     "metadata": {},
     "output_type": "execute_result"
    }
   ],
   "source": [
    "false_forest = test_df[test_df['class'] != test_df['pred']]\n",
    "false_forest[false_forest['class'] == 0]"
   ]
  },
  {
   "cell_type": "markdown",
   "metadata": {},
   "source": [
    "False Negatives получаются, когда для перифраза используются расшифровки аббревиатур, замена существительных на топонимы/имена собственные и номинализация"
   ]
  },
  {
   "cell_type": "code",
   "execution_count": 145,
   "metadata": {},
   "outputs": [
    {
     "data": {
      "text/html": [
       "<div>\n",
       "<style scoped>\n",
       "    .dataframe tbody tr th:only-of-type {\n",
       "        vertical-align: middle;\n",
       "    }\n",
       "\n",
       "    .dataframe tbody tr th {\n",
       "        vertical-align: top;\n",
       "    }\n",
       "\n",
       "    .dataframe thead th {\n",
       "        text-align: right;\n",
       "    }\n",
       "</style>\n",
       "<table border=\"1\" class=\"dataframe\">\n",
       "  <thead>\n",
       "    <tr style=\"text-align: right;\">\n",
       "      <th></th>\n",
       "      <th>text_1</th>\n",
       "      <th>text_2</th>\n",
       "      <th>class</th>\n",
       "      <th>pred</th>\n",
       "    </tr>\n",
       "  </thead>\n",
       "  <tbody>\n",
       "    <tr>\n",
       "      <th>7334</th>\n",
       "      <td>Число погибших в результате урагана на севере ...</td>\n",
       "      <td>До 44 человек увеличилось число жертв урагана ...</td>\n",
       "      <td>1</td>\n",
       "      <td>0</td>\n",
       "    </tr>\n",
       "    <tr>\n",
       "      <th>3719</th>\n",
       "      <td>Пожар в колонии в Вологодской обл.: есть погиб...</td>\n",
       "      <td>При пожаре в вологодской колонии погибли трое ...</td>\n",
       "      <td>1</td>\n",
       "      <td>0</td>\n",
       "    </tr>\n",
       "    <tr>\n",
       "      <th>3210</th>\n",
       "      <td>МВД: число жертв в Индии после землетрясения в...</td>\n",
       "      <td>Более 60 человек в Индии стали жертвами непаль...</td>\n",
       "      <td>1</td>\n",
       "      <td>0</td>\n",
       "    </tr>\n",
       "    <tr>\n",
       "      <th>1115</th>\n",
       "      <td>\"Ростелеком\" заблокировал часть ресурсов \"ВКон...</td>\n",
       "      <td>«Ростелеком» объявил о частичной блокировке «В...</td>\n",
       "      <td>1</td>\n",
       "      <td>0</td>\n",
       "    </tr>\n",
       "    <tr>\n",
       "      <th>1009</th>\n",
       "      <td>Похитители скота убили не менее 45 человек на ...</td>\n",
       "      <td>Похитители скота убили в Кении 45 человек</td>\n",
       "      <td>1</td>\n",
       "      <td>0</td>\n",
       "    </tr>\n",
       "    <tr>\n",
       "      <th>4611</th>\n",
       "      <td>У жены псковского губернатора нашли имущество ...</td>\n",
       "      <td>У жены псковского губернатора обнаружилась фра...</td>\n",
       "      <td>1</td>\n",
       "      <td>0</td>\n",
       "    </tr>\n",
       "    <tr>\n",
       "      <th>3804</th>\n",
       "      <td>В Туркмении в честь Дня нейтралитета помиловал...</td>\n",
       "      <td>Бердымухамедов помиловал 630 человек ко Дню не...</td>\n",
       "      <td>1</td>\n",
       "      <td>0</td>\n",
       "    </tr>\n",
       "    <tr>\n",
       "      <th>1393</th>\n",
       "      <td>Скончался исполнитель роли профессора из Дании...</td>\n",
       "      <td>Умер профессор из «Осеннего марафона».</td>\n",
       "      <td>1</td>\n",
       "      <td>0</td>\n",
       "    </tr>\n",
       "    <tr>\n",
       "      <th>1768</th>\n",
       "      <td>Яценюк заявил, что Киев не получил от Донбасса...</td>\n",
       "      <td>Яценюк пожаловался на неуплату Донбассом налог...</td>\n",
       "      <td>1</td>\n",
       "      <td>0</td>\n",
       "    </tr>\n",
       "    <tr>\n",
       "      <th>475</th>\n",
       "      <td>Гус Хиддинк ушел с поста главного тренера ФК \"...</td>\n",
       "      <td>Гус Хиддинк дал отставку \"Анжи\".</td>\n",
       "      <td>1</td>\n",
       "      <td>0</td>\n",
       "    </tr>\n",
       "    <tr>\n",
       "      <th>942</th>\n",
       "      <td>В Москве скончалась актриса \"Современника\" Лил...</td>\n",
       "      <td>Умерла актриса Лилия Толмачева.</td>\n",
       "      <td>1</td>\n",
       "      <td>0</td>\n",
       "    </tr>\n",
       "    <tr>\n",
       "      <th>572</th>\n",
       "      <td>Участок \"красной\" ветки московского метро закр...</td>\n",
       "      <td>Участок Сокольнической линии московского метро...</td>\n",
       "      <td>1</td>\n",
       "      <td>0</td>\n",
       "    </tr>\n",
       "    <tr>\n",
       "      <th>5251</th>\n",
       "      <td>Москвичам обещают автобусы с держателями велос...</td>\n",
       "      <td>В Москве появятся автобусы с держателями для в...</td>\n",
       "      <td>1</td>\n",
       "      <td>0</td>\n",
       "    </tr>\n",
       "    <tr>\n",
       "      <th>2485</th>\n",
       "      <td>В Москве и Подмосковье объявлен траур по жертв...</td>\n",
       "      <td>В московском регионе по погибшим в ДТП под Под...</td>\n",
       "      <td>1</td>\n",
       "      <td>0</td>\n",
       "    </tr>\n",
       "    <tr>\n",
       "      <th>4672</th>\n",
       "      <td>В проекте трехлетнего бюджета обнаружилась \"ды...</td>\n",
       "      <td>В доходной части бюджета недосчитались 250 мил...</td>\n",
       "      <td>1</td>\n",
       "      <td>0</td>\n",
       "    </tr>\n",
       "    <tr>\n",
       "      <th>1056</th>\n",
       "      <td>Скончался автор \"Осиной фабрики\", писатель Иэн...</td>\n",
       "      <td>Умер шотландский писатель Иэн Бэнкс.</td>\n",
       "      <td>1</td>\n",
       "      <td>0</td>\n",
       "    </tr>\n",
       "    <tr>\n",
       "      <th>192</th>\n",
       "      <td>Известный рэпер задержан в Москве за разбойное...</td>\n",
       "      <td>Рэпер Рома Жиган задержан в Москве по подозрен...</td>\n",
       "      <td>1</td>\n",
       "      <td>0</td>\n",
       "    </tr>\n",
       "    <tr>\n",
       "      <th>2698</th>\n",
       "      <td>Подозреваемый в совершении теракта в Бостоне у...</td>\n",
       "      <td>Подозреваемый в бостонском теракте убит.</td>\n",
       "      <td>1</td>\n",
       "      <td>0</td>\n",
       "    </tr>\n",
       "    <tr>\n",
       "      <th>1607</th>\n",
       "      <td>Пьяного авиадебошира, летевшего в Турцию, выса...</td>\n",
       "      <td>В Краснодаре с самолета, летевшего в Турцию, с...</td>\n",
       "      <td>1</td>\n",
       "      <td>0</td>\n",
       "    </tr>\n",
       "    <tr>\n",
       "      <th>2343</th>\n",
       "      <td>Завещание Газпрома: Освоение Штокмана оставят ...</td>\n",
       "      <td>В «Газпроме» предложили оставить Штокман следу...</td>\n",
       "      <td>1</td>\n",
       "      <td>0</td>\n",
       "    </tr>\n",
       "    <tr>\n",
       "      <th>669</th>\n",
       "      <td>В Риме скончался режиссер культового сериала \"...</td>\n",
       "      <td>Скончался режиссер сериала «Спрут» Дамиано Дам...</td>\n",
       "      <td>1</td>\n",
       "      <td>0</td>\n",
       "    </tr>\n",
       "    <tr>\n",
       "      <th>6643</th>\n",
       "      <td>Ъ: президент \"Транснефти\" Токарев будет возгла...</td>\n",
       "      <td>Николай Токарев останется главой «Транснефти» ...</td>\n",
       "      <td>1</td>\n",
       "      <td>0</td>\n",
       "    </tr>\n",
       "    <tr>\n",
       "      <th>757</th>\n",
       "      <td>Morgan Stanley взял на работу бывшего зампреда...</td>\n",
       "      <td>Бывший глава ФСФР нашел работу в Morgan Stanley.</td>\n",
       "      <td>1</td>\n",
       "      <td>0</td>\n",
       "    </tr>\n",
       "    <tr>\n",
       "      <th>1549</th>\n",
       "      <td>В Канаде в дорожной аварии пострадали более 10...</td>\n",
       "      <td>В результате ДТП в Канаде пострадали около ста...</td>\n",
       "      <td>1</td>\n",
       "      <td>0</td>\n",
       "    </tr>\n",
       "    <tr>\n",
       "      <th>911</th>\n",
       "      <td>В Литве прекратил вещание \"Первый канал\".</td>\n",
       "      <td>В Литве отключили вещание российского Первого ...</td>\n",
       "      <td>1</td>\n",
       "      <td>0</td>\n",
       "    </tr>\n",
       "    <tr>\n",
       "      <th>3327</th>\n",
       "      <td>Saab возобновляет производство автомобилей.</td>\n",
       "      <td>Saab объявил о возобновлении серийного произво...</td>\n",
       "      <td>1</td>\n",
       "      <td>0</td>\n",
       "    </tr>\n",
       "    <tr>\n",
       "      <th>3238</th>\n",
       "      <td>Деми Мур и Эштон Кутчер официально развелись.</td>\n",
       "      <td>Деми Мур и Эштон Катчер оформили развод.</td>\n",
       "      <td>1</td>\n",
       "      <td>0</td>\n",
       "    </tr>\n",
       "    <tr>\n",
       "      <th>486</th>\n",
       "      <td>В Петербурге скончался кинорежиссер Алексей Ге...</td>\n",
       "      <td>Скончался режиссер Алексей Герман-старший.</td>\n",
       "      <td>1</td>\n",
       "      <td>0</td>\n",
       "    </tr>\n",
       "    <tr>\n",
       "      <th>1044</th>\n",
       "      <td>В Минобороны Грузии обнаружили финансовые нару...</td>\n",
       "      <td>В Минобороны Грузии нашли многомиллионную недо...</td>\n",
       "      <td>1</td>\n",
       "      <td>0</td>\n",
       "    </tr>\n",
       "    <tr>\n",
       "      <th>1890</th>\n",
       "      <td>Приставы соберут отпечатки пальцев российских ...</td>\n",
       "      <td>Приставы снимут отпечатки пальцев у злостных н...</td>\n",
       "      <td>1</td>\n",
       "      <td>0</td>\n",
       "    </tr>\n",
       "    <tr>\n",
       "      <th>...</th>\n",
       "      <td>...</td>\n",
       "      <td>...</td>\n",
       "      <td>...</td>\n",
       "      <td>...</td>\n",
       "    </tr>\n",
       "    <tr>\n",
       "      <th>1889</th>\n",
       "      <td>Скончался олимпийский чемпион по хоккею Виктор...</td>\n",
       "      <td>Умер Виктор Зингер.</td>\n",
       "      <td>1</td>\n",
       "      <td>0</td>\n",
       "    </tr>\n",
       "    <tr>\n",
       "      <th>666</th>\n",
       "      <td>Назначен спецпредставитель России в контактной...</td>\n",
       "      <td>Россия назначила нового главного переговорщика...</td>\n",
       "      <td>1</td>\n",
       "      <td>0</td>\n",
       "    </tr>\n",
       "    <tr>\n",
       "      <th>2569</th>\n",
       "      <td>Взрыв газа в шахте в Китае унес жизни 28 горня...</td>\n",
       "      <td>При взрыве в китайской шахте погибли 28 горняков.</td>\n",
       "      <td>1</td>\n",
       "      <td>0</td>\n",
       "    </tr>\n",
       "    <tr>\n",
       "      <th>4511</th>\n",
       "      <td>ФАР: группа туристов, находящихся в Непале, не...</td>\n",
       "      <td>В Непале пропала связь с группой российских ту...</td>\n",
       "      <td>1</td>\n",
       "      <td>0</td>\n",
       "    </tr>\n",
       "    <tr>\n",
       "      <th>1846</th>\n",
       "      <td>Операция в ТЦ в Найроби завершена.</td>\n",
       "      <td>Операция в торговом центре в Найроби завершилась.</td>\n",
       "      <td>1</td>\n",
       "      <td>0</td>\n",
       "    </tr>\n",
       "    <tr>\n",
       "      <th>1165</th>\n",
       "      <td>Сенаторы разрешили США поставлять оружие сирий...</td>\n",
       "      <td>Комитет Сената США разрешил поставки оружия в ...</td>\n",
       "      <td>1</td>\n",
       "      <td>0</td>\n",
       "    </tr>\n",
       "    <tr>\n",
       "      <th>3097</th>\n",
       "      <td>В США вооруженная ручкой авиапассажирка напала...</td>\n",
       "      <td>Пассажирка авиарейса в США атаковала храпящего...</td>\n",
       "      <td>1</td>\n",
       "      <td>0</td>\n",
       "    </tr>\n",
       "    <tr>\n",
       "      <th>2781</th>\n",
       "      <td>СК: четвертого подозреваемого задержали по дел...</td>\n",
       "      <td>В Москве задержан четвертый фигурант дела об у...</td>\n",
       "      <td>1</td>\n",
       "      <td>0</td>\n",
       "    </tr>\n",
       "    <tr>\n",
       "      <th>1957</th>\n",
       "      <td>Порошенко: война закончится, лишь когда Украин...</td>\n",
       "      <td>Порошенко пообещал воевать до тех пор, пока не...</td>\n",
       "      <td>1</td>\n",
       "      <td>0</td>\n",
       "    </tr>\n",
       "    <tr>\n",
       "      <th>1422</th>\n",
       "      <td>В московском метро появятся киоски-сталинки.</td>\n",
       "      <td>В московском метро появятся киоски в стиле ста...</td>\n",
       "      <td>1</td>\n",
       "      <td>0</td>\n",
       "    </tr>\n",
       "    <tr>\n",
       "      <th>4650</th>\n",
       "      <td>- и Россия расплатится с Чехией за СССР.</td>\n",
       "      <td>Россия рассчитается с Чехией по долгам СССР.</td>\n",
       "      <td>1</td>\n",
       "      <td>0</td>\n",
       "    </tr>\n",
       "    <tr>\n",
       "      <th>2099</th>\n",
       "      <td>В Таиланде затонул паром с россиянами.</td>\n",
       "      <td>В Таиланде затонул паром с россиянами на борту.</td>\n",
       "      <td>1</td>\n",
       "      <td>0</td>\n",
       "    </tr>\n",
       "    <tr>\n",
       "      <th>360</th>\n",
       "      <td>Минобороны опровергло намерение отказать студе...</td>\n",
       "      <td>Минобороны опровергло отмену отсрочек для студ...</td>\n",
       "      <td>1</td>\n",
       "      <td>0</td>\n",
       "    </tr>\n",
       "    <tr>\n",
       "      <th>6381</th>\n",
       "      <td>Костюм Скарлетт из \"Унесенных ветром\" продан з...</td>\n",
       "      <td>Наряд Скарлетт О'Хара продан на аукционе за 13...</td>\n",
       "      <td>1</td>\n",
       "      <td>0</td>\n",
       "    </tr>\n",
       "    <tr>\n",
       "      <th>170</th>\n",
       "      <td>Полиция вновь начала задерживать митингующих в...</td>\n",
       "      <td>В американском Балтиморе вновь начались задерж...</td>\n",
       "      <td>1</td>\n",
       "      <td>0</td>\n",
       "    </tr>\n",
       "    <tr>\n",
       "      <th>4645</th>\n",
       "      <td>В Москве вооруженные люди похитили пациентку Н...</td>\n",
       "      <td>Вооруженные люди похитили пациентку из московс...</td>\n",
       "      <td>1</td>\n",
       "      <td>0</td>\n",
       "    </tr>\n",
       "    <tr>\n",
       "      <th>3073</th>\n",
       "      <td>Минобрнауки предлагает выплачивать усыновителя...</td>\n",
       "      <td>Минобрнауки предложило увеличить выплаты усыно...</td>\n",
       "      <td>1</td>\n",
       "      <td>0</td>\n",
       "    </tr>\n",
       "    <tr>\n",
       "      <th>3559</th>\n",
       "      <td>Главврач роддома во Владикавказе попалась на п...</td>\n",
       "      <td>Главврач владикавказского роддома задержана пр...</td>\n",
       "      <td>1</td>\n",
       "      <td>0</td>\n",
       "    </tr>\n",
       "    <tr>\n",
       "      <th>2765</th>\n",
       "      <td>Киев: Россия поставит электричество и уголь на...</td>\n",
       "      <td>Украина сообщила о поставках российского угля ...</td>\n",
       "      <td>1</td>\n",
       "      <td>0</td>\n",
       "    </tr>\n",
       "    <tr>\n",
       "      <th>5055</th>\n",
       "      <td>Проректора МЭИ по экономике подозревают в полу...</td>\n",
       "      <td>Проректор МЭИ заподозрен во взяточничестве.</td>\n",
       "      <td>1</td>\n",
       "      <td>0</td>\n",
       "    </tr>\n",
       "    <tr>\n",
       "      <th>4592</th>\n",
       "      <td>Казахстан по примеру России начал проверку про...</td>\n",
       "      <td>Вслед за Россией украинские конфеты начал пров...</td>\n",
       "      <td>1</td>\n",
       "      <td>0</td>\n",
       "    </tr>\n",
       "    <tr>\n",
       "      <th>7366</th>\n",
       "      <td>Охранник Джастина Бибера заявил, что певец бил...</td>\n",
       "      <td>Охранник Джастина Бибера обвинил певца в избие...</td>\n",
       "      <td>1</td>\n",
       "      <td>0</td>\n",
       "    </tr>\n",
       "    <tr>\n",
       "      <th>825</th>\n",
       "      <td>В Колумбии по пути на матч футбольной сборной ...</td>\n",
       "      <td>Колумбийского наркобарона арестовали по дороге...</td>\n",
       "      <td>1</td>\n",
       "      <td>0</td>\n",
       "    </tr>\n",
       "    <tr>\n",
       "      <th>201</th>\n",
       "      <td>Ларри Кинг устроился на работу в Russia Today.</td>\n",
       "      <td>Ларри Кинг стал ведущим Russia Today.</td>\n",
       "      <td>1</td>\n",
       "      <td>0</td>\n",
       "    </tr>\n",
       "    <tr>\n",
       "      <th>1823</th>\n",
       "      <td>Более 20 боевиков уничтожены в ходе операции В...</td>\n",
       "      <td>В Пакистане уничтожены более 20 боевиков</td>\n",
       "      <td>1</td>\n",
       "      <td>0</td>\n",
       "    </tr>\n",
       "    <tr>\n",
       "      <th>5367</th>\n",
       "      <td>Ирина Прохорова возглавила партию \"Гражданская...</td>\n",
       "      <td>Партию Прохорова возглавила его сестра.</td>\n",
       "      <td>1</td>\n",
       "      <td>0</td>\n",
       "    </tr>\n",
       "    <tr>\n",
       "      <th>3167</th>\n",
       "      <td>Работы по тушению пожара в Технологическом инс...</td>\n",
       "      <td>Пожар в Санкт-Петербургском технологическом ин...</td>\n",
       "      <td>1</td>\n",
       "      <td>0</td>\n",
       "    </tr>\n",
       "    <tr>\n",
       "      <th>2768</th>\n",
       "      <td>Пошел на посадку: \"АэроСвит\" начал процедуру б...</td>\n",
       "      <td>Украинский суд начал процедуру банкротства ком...</td>\n",
       "      <td>1</td>\n",
       "      <td>0</td>\n",
       "    </tr>\n",
       "    <tr>\n",
       "      <th>1729</th>\n",
       "      <td>Кремль не видит нужды в полном запрете иностра...</td>\n",
       "      <td>Кремль отказался полностью запрещать иностранн...</td>\n",
       "      <td>1</td>\n",
       "      <td>0</td>\n",
       "    </tr>\n",
       "    <tr>\n",
       "      <th>3194</th>\n",
       "      <td>Двум грузинским заводам разрешили поставлять в...</td>\n",
       "      <td>Россия разрешила поставки двум производителям ...</td>\n",
       "      <td>1</td>\n",
       "      <td>0</td>\n",
       "    </tr>\n",
       "  </tbody>\n",
       "</table>\n",
       "<p>141 rows × 4 columns</p>\n",
       "</div>"
      ],
      "text/plain": [
       "                                                 text_1  \\\n",
       "7334  Число погибших в результате урагана на севере ...   \n",
       "3719  Пожар в колонии в Вологодской обл.: есть погиб...   \n",
       "3210  МВД: число жертв в Индии после землетрясения в...   \n",
       "1115  \"Ростелеком\" заблокировал часть ресурсов \"ВКон...   \n",
       "1009  Похитители скота убили не менее 45 человек на ...   \n",
       "4611  У жены псковского губернатора нашли имущество ...   \n",
       "3804  В Туркмении в честь Дня нейтралитета помиловал...   \n",
       "1393  Скончался исполнитель роли профессора из Дании...   \n",
       "1768  Яценюк заявил, что Киев не получил от Донбасса...   \n",
       "475   Гус Хиддинк ушел с поста главного тренера ФК \"...   \n",
       "942   В Москве скончалась актриса \"Современника\" Лил...   \n",
       "572   Участок \"красной\" ветки московского метро закр...   \n",
       "5251  Москвичам обещают автобусы с держателями велос...   \n",
       "2485  В Москве и Подмосковье объявлен траур по жертв...   \n",
       "4672  В проекте трехлетнего бюджета обнаружилась \"ды...   \n",
       "1056  Скончался автор \"Осиной фабрики\", писатель Иэн...   \n",
       "192   Известный рэпер задержан в Москве за разбойное...   \n",
       "2698  Подозреваемый в совершении теракта в Бостоне у...   \n",
       "1607  Пьяного авиадебошира, летевшего в Турцию, выса...   \n",
       "2343  Завещание Газпрома: Освоение Штокмана оставят ...   \n",
       "669   В Риме скончался режиссер культового сериала \"...   \n",
       "6643  Ъ: президент \"Транснефти\" Токарев будет возгла...   \n",
       "757   Morgan Stanley взял на работу бывшего зампреда...   \n",
       "1549  В Канаде в дорожной аварии пострадали более 10...   \n",
       "911           В Литве прекратил вещание \"Первый канал\".   \n",
       "3327        Saab возобновляет производство автомобилей.   \n",
       "3238      Деми Мур и Эштон Кутчер официально развелись.   \n",
       "486   В Петербурге скончался кинорежиссер Алексей Ге...   \n",
       "1044  В Минобороны Грузии обнаружили финансовые нару...   \n",
       "1890  Приставы соберут отпечатки пальцев российских ...   \n",
       "...                                                 ...   \n",
       "1889  Скончался олимпийский чемпион по хоккею Виктор...   \n",
       "666   Назначен спецпредставитель России в контактной...   \n",
       "2569  Взрыв газа в шахте в Китае унес жизни 28 горня...   \n",
       "4511  ФАР: группа туристов, находящихся в Непале, не...   \n",
       "1846                 Операция в ТЦ в Найроби завершена.   \n",
       "1165  Сенаторы разрешили США поставлять оружие сирий...   \n",
       "3097  В США вооруженная ручкой авиапассажирка напала...   \n",
       "2781  СК: четвертого подозреваемого задержали по дел...   \n",
       "1957  Порошенко: война закончится, лишь когда Украин...   \n",
       "1422       В московском метро появятся киоски-сталинки.   \n",
       "4650           - и Россия расплатится с Чехией за СССР.   \n",
       "2099             В Таиланде затонул паром с россиянами.   \n",
       "360   Минобороны опровергло намерение отказать студе...   \n",
       "6381  Костюм Скарлетт из \"Унесенных ветром\" продан з...   \n",
       "170   Полиция вновь начала задерживать митингующих в...   \n",
       "4645  В Москве вооруженные люди похитили пациентку Н...   \n",
       "3073  Минобрнауки предлагает выплачивать усыновителя...   \n",
       "3559  Главврач роддома во Владикавказе попалась на п...   \n",
       "2765  Киев: Россия поставит электричество и уголь на...   \n",
       "5055  Проректора МЭИ по экономике подозревают в полу...   \n",
       "4592  Казахстан по примеру России начал проверку про...   \n",
       "7366  Охранник Джастина Бибера заявил, что певец бил...   \n",
       "825   В Колумбии по пути на матч футбольной сборной ...   \n",
       "201      Ларри Кинг устроился на работу в Russia Today.   \n",
       "1823  Более 20 боевиков уничтожены в ходе операции В...   \n",
       "5367  Ирина Прохорова возглавила партию \"Гражданская...   \n",
       "3167  Работы по тушению пожара в Технологическом инс...   \n",
       "2768  Пошел на посадку: \"АэроСвит\" начал процедуру б...   \n",
       "1729  Кремль не видит нужды в полном запрете иностра...   \n",
       "3194  Двум грузинским заводам разрешили поставлять в...   \n",
       "\n",
       "                                                 text_2  class  pred  \n",
       "7334  До 44 человек увеличилось число жертв урагана ...      1     0  \n",
       "3719  При пожаре в вологодской колонии погибли трое ...      1     0  \n",
       "3210  Более 60 человек в Индии стали жертвами непаль...      1     0  \n",
       "1115  «Ростелеком» объявил о частичной блокировке «В...      1     0  \n",
       "1009          Похитители скота убили в Кении 45 человек      1     0  \n",
       "4611  У жены псковского губернатора обнаружилась фра...      1     0  \n",
       "3804  Бердымухамедов помиловал 630 человек ко Дню не...      1     0  \n",
       "1393             Умер профессор из «Осеннего марафона».      1     0  \n",
       "1768  Яценюк пожаловался на неуплату Донбассом налог...      1     0  \n",
       "475                    Гус Хиддинк дал отставку \"Анжи\".      1     0  \n",
       "942                     Умерла актриса Лилия Толмачева.      1     0  \n",
       "572   Участок Сокольнической линии московского метро...      1     0  \n",
       "5251  В Москве появятся автобусы с держателями для в...      1     0  \n",
       "2485  В московском регионе по погибшим в ДТП под Под...      1     0  \n",
       "4672  В доходной части бюджета недосчитались 250 мил...      1     0  \n",
       "1056               Умер шотландский писатель Иэн Бэнкс.      1     0  \n",
       "192   Рэпер Рома Жиган задержан в Москве по подозрен...      1     0  \n",
       "2698           Подозреваемый в бостонском теракте убит.      1     0  \n",
       "1607  В Краснодаре с самолета, летевшего в Турцию, с...      1     0  \n",
       "2343  В «Газпроме» предложили оставить Штокман следу...      1     0  \n",
       "669   Скончался режиссер сериала «Спрут» Дамиано Дам...      1     0  \n",
       "6643  Николай Токарев останется главой «Транснефти» ...      1     0  \n",
       "757    Бывший глава ФСФР нашел работу в Morgan Stanley.      1     0  \n",
       "1549  В результате ДТП в Канаде пострадали около ста...      1     0  \n",
       "911   В Литве отключили вещание российского Первого ...      1     0  \n",
       "3327  Saab объявил о возобновлении серийного произво...      1     0  \n",
       "3238           Деми Мур и Эштон Катчер оформили развод.      1     0  \n",
       "486          Скончался режиссер Алексей Герман-старший.      1     0  \n",
       "1044  В Минобороны Грузии нашли многомиллионную недо...      1     0  \n",
       "1890  Приставы снимут отпечатки пальцев у злостных н...      1     0  \n",
       "...                                                 ...    ...   ...  \n",
       "1889                                Умер Виктор Зингер.      1     0  \n",
       "666   Россия назначила нового главного переговорщика...      1     0  \n",
       "2569  При взрыве в китайской шахте погибли 28 горняков.      1     0  \n",
       "4511  В Непале пропала связь с группой российских ту...      1     0  \n",
       "1846  Операция в торговом центре в Найроби завершилась.      1     0  \n",
       "1165  Комитет Сената США разрешил поставки оружия в ...      1     0  \n",
       "3097  Пассажирка авиарейса в США атаковала храпящего...      1     0  \n",
       "2781  В Москве задержан четвертый фигурант дела об у...      1     0  \n",
       "1957  Порошенко пообещал воевать до тех пор, пока не...      1     0  \n",
       "1422  В московском метро появятся киоски в стиле ста...      1     0  \n",
       "4650       Россия рассчитается с Чехией по долгам СССР.      1     0  \n",
       "2099    В Таиланде затонул паром с россиянами на борту.      1     0  \n",
       "360   Минобороны опровергло отмену отсрочек для студ...      1     0  \n",
       "6381  Наряд Скарлетт О'Хара продан на аукционе за 13...      1     0  \n",
       "170   В американском Балтиморе вновь начались задерж...      1     0  \n",
       "4645  Вооруженные люди похитили пациентку из московс...      1     0  \n",
       "3073  Минобрнауки предложило увеличить выплаты усыно...      1     0  \n",
       "3559  Главврач владикавказского роддома задержана пр...      1     0  \n",
       "2765  Украина сообщила о поставках российского угля ...      1     0  \n",
       "5055        Проректор МЭИ заподозрен во взяточничестве.      1     0  \n",
       "4592  Вслед за Россией украинские конфеты начал пров...      1     0  \n",
       "7366  Охранник Джастина Бибера обвинил певца в избие...      1     0  \n",
       "825   Колумбийского наркобарона арестовали по дороге...      1     0  \n",
       "201               Ларри Кинг стал ведущим Russia Today.      1     0  \n",
       "1823           В Пакистане уничтожены более 20 боевиков      1     0  \n",
       "5367            Партию Прохорова возглавила его сестра.      1     0  \n",
       "3167  Пожар в Санкт-Петербургском технологическом ин...      1     0  \n",
       "2768  Украинский суд начал процедуру банкротства ком...      1     0  \n",
       "1729  Кремль отказался полностью запрещать иностранн...      1     0  \n",
       "3194  Россия разрешила поставки двум производителям ...      1     0  \n",
       "\n",
       "[141 rows x 4 columns]"
      ]
     },
     "execution_count": 145,
     "metadata": {},
     "output_type": "execute_result"
    }
   ],
   "source": [
    "false_forest[false_forest['class'] == 1]"
   ]
  },
  {
   "cell_type": "markdown",
   "metadata": {},
   "source": [
    "## Попробуем аугментировать позитивный класс до баланса с негативным"
   ]
  },
  {
   "cell_type": "code",
   "execution_count": 158,
   "metadata": {},
   "outputs": [
    {
     "data": {
      "text/plain": [
       "889"
      ]
     },
     "execution_count": 158,
     "metadata": {},
     "output_type": "execute_result"
    }
   ],
   "source": [
    "classes = para['class'].value_counts()\n",
    "n = classes[0] - classes[1]\n",
    "n"
   ]
  },
  {
   "cell_type": "code",
   "execution_count": 183,
   "metadata": {},
   "outputs": [],
   "source": [
    "texts = np.random.choice(para[para['class'] == 0].text_1, n)"
   ]
  },
  {
   "cell_type": "code",
   "execution_count": 203,
   "metadata": {},
   "outputs": [
    {
     "data": {
      "application/vnd.jupyter.widget-view+json": {
       "model_id": "fcb8674a67a04960bc68f533cf91ef07",
       "version_major": 2,
       "version_minor": 0
      },
      "text/plain": [
       "HBox(children=(IntProgress(value=0, max=889), HTML(value='')))"
      ]
     },
     "metadata": {},
     "output_type": "display_data"
    },
    {
     "name": "stdout",
     "output_type": "stream",
     "text": [
      "\n"
     ]
    }
   ],
   "source": [
    "new_texts = []\n",
    "for t in tqdm(texts):\n",
    "    new_texts.append(augment_word2vec_pos(t, model=model))"
   ]
  },
  {
   "cell_type": "code",
   "execution_count": 208,
   "metadata": {},
   "outputs": [],
   "source": [
    "augmented_para = pd.DataFrame({'text_1': texts,\n",
    "                         'text_2': new_texts,\n",
    "                         'class': [1]*n})"
   ]
  },
  {
   "cell_type": "code",
   "execution_count": 210,
   "metadata": {},
   "outputs": [],
   "source": [
    "def make_features(df):\n",
    "    for i in [1, 2]:\n",
    "        df[f'tokens_{i}'] = df[f'text_{i}'].progress_apply(tokenizer)\n",
    "        df[f'words_{i}'] = df[f'tokens_{i}'].progress_apply(get_words)\n",
    "        df[f'n_words_{i}'] = df[f'words_{i}'].progress_apply(count_words)\n",
    "        df[f'av_words_length_{i}'] = df[f'words_{i}'].progress_apply(av_word_length)\n",
    "        df[f'pos_vector_{i}'] = df[f'words_{i}'].progress_apply(count_POS)\n",
    "        df[f'lemm_{i}'] = df[f'words_{i}'].progress_apply(lemmatizer)\n",
    "        \n",
    "    df['n_words_diff'] = df['n_words_1'] - df['n_words_2']\n",
    "    df['pos_diff'] = [substract(p1, p2) for p1, p2 in zip(df.pos_vector_1, df.pos_vector_2)]\n",
    "    #df[ [tag for tag in tag_list] ] = df['pos_diff'].tolist()\n",
    "    \n",
    "    df['similar_words'] = df.apply(lambda x: similar_words(x['lemm_1'], x['lemm_2']), axis=1)\n",
    "    df['n_similar_words'] = df['similar_words'].apply(len)\n",
    "    \n",
    "    return df"
   ]
  },
  {
   "cell_type": "code",
   "execution_count": 221,
   "metadata": {},
   "outputs": [
    {
     "data": {
      "application/vnd.jupyter.widget-view+json": {
       "model_id": "2b40cb2d229f4dc99fc565deb4a78f01",
       "version_major": 2,
       "version_minor": 0
      },
      "text/plain": [
       "HBox(children=(IntProgress(value=0, max=889), HTML(value='')))"
      ]
     },
     "metadata": {},
     "output_type": "display_data"
    },
    {
     "name": "stdout",
     "output_type": "stream",
     "text": [
      "\n"
     ]
    },
    {
     "data": {
      "application/vnd.jupyter.widget-view+json": {
       "model_id": "9c2b3f7e550c4803840a294edcf73470",
       "version_major": 2,
       "version_minor": 0
      },
      "text/plain": [
       "HBox(children=(IntProgress(value=0, max=889), HTML(value='')))"
      ]
     },
     "metadata": {},
     "output_type": "display_data"
    },
    {
     "name": "stdout",
     "output_type": "stream",
     "text": [
      "\n"
     ]
    },
    {
     "data": {
      "application/vnd.jupyter.widget-view+json": {
       "model_id": "0575456cde414d64b44dbd6336155ac1",
       "version_major": 2,
       "version_minor": 0
      },
      "text/plain": [
       "HBox(children=(IntProgress(value=0, max=889), HTML(value='')))"
      ]
     },
     "metadata": {},
     "output_type": "display_data"
    },
    {
     "name": "stdout",
     "output_type": "stream",
     "text": [
      "\n"
     ]
    },
    {
     "data": {
      "application/vnd.jupyter.widget-view+json": {
       "model_id": "1cec1749bd804b929fc176e22adf2478",
       "version_major": 2,
       "version_minor": 0
      },
      "text/plain": [
       "HBox(children=(IntProgress(value=0, max=889), HTML(value='')))"
      ]
     },
     "metadata": {},
     "output_type": "display_data"
    },
    {
     "name": "stdout",
     "output_type": "stream",
     "text": [
      "\n"
     ]
    },
    {
     "data": {
      "application/vnd.jupyter.widget-view+json": {
       "model_id": "eca1d3fc62164cda92eed3867e56698c",
       "version_major": 2,
       "version_minor": 0
      },
      "text/plain": [
       "HBox(children=(IntProgress(value=0, max=889), HTML(value='')))"
      ]
     },
     "metadata": {},
     "output_type": "display_data"
    },
    {
     "name": "stdout",
     "output_type": "stream",
     "text": [
      "\n"
     ]
    },
    {
     "data": {
      "application/vnd.jupyter.widget-view+json": {
       "model_id": "247aa4fcb39f49079dc20ccc370d8caf",
       "version_major": 2,
       "version_minor": 0
      },
      "text/plain": [
       "HBox(children=(IntProgress(value=0, max=889), HTML(value='')))"
      ]
     },
     "metadata": {},
     "output_type": "display_data"
    },
    {
     "name": "stdout",
     "output_type": "stream",
     "text": [
      "\n"
     ]
    },
    {
     "data": {
      "application/vnd.jupyter.widget-view+json": {
       "model_id": "d92c497a899941fa94a8328beb1ad646",
       "version_major": 2,
       "version_minor": 0
      },
      "text/plain": [
       "HBox(children=(IntProgress(value=0, max=889), HTML(value='')))"
      ]
     },
     "metadata": {},
     "output_type": "display_data"
    },
    {
     "name": "stdout",
     "output_type": "stream",
     "text": [
      "\n"
     ]
    },
    {
     "data": {
      "application/vnd.jupyter.widget-view+json": {
       "model_id": "42aa39e9ca5142e49ffb8a6a21c3a530",
       "version_major": 2,
       "version_minor": 0
      },
      "text/plain": [
       "HBox(children=(IntProgress(value=0, max=889), HTML(value='')))"
      ]
     },
     "metadata": {},
     "output_type": "display_data"
    },
    {
     "name": "stdout",
     "output_type": "stream",
     "text": [
      "\n"
     ]
    },
    {
     "data": {
      "application/vnd.jupyter.widget-view+json": {
       "model_id": "41bd738ba06b46ed90a0ee046c5653ae",
       "version_major": 2,
       "version_minor": 0
      },
      "text/plain": [
       "HBox(children=(IntProgress(value=0, max=889), HTML(value='')))"
      ]
     },
     "metadata": {},
     "output_type": "display_data"
    },
    {
     "name": "stdout",
     "output_type": "stream",
     "text": [
      "\n"
     ]
    },
    {
     "data": {
      "application/vnd.jupyter.widget-view+json": {
       "model_id": "82852ca804c54aaf9a8f8df104802429",
       "version_major": 2,
       "version_minor": 0
      },
      "text/plain": [
       "HBox(children=(IntProgress(value=0, max=889), HTML(value='')))"
      ]
     },
     "metadata": {},
     "output_type": "display_data"
    },
    {
     "name": "stdout",
     "output_type": "stream",
     "text": [
      "\n"
     ]
    },
    {
     "data": {
      "application/vnd.jupyter.widget-view+json": {
       "model_id": "5787ee5945244b5c95d4425244761217",
       "version_major": 2,
       "version_minor": 0
      },
      "text/plain": [
       "HBox(children=(IntProgress(value=0, max=889), HTML(value='')))"
      ]
     },
     "metadata": {},
     "output_type": "display_data"
    },
    {
     "name": "stdout",
     "output_type": "stream",
     "text": [
      "\n"
     ]
    },
    {
     "data": {
      "application/vnd.jupyter.widget-view+json": {
       "model_id": "a0176aaf394a4d79bdee62a27bcf6b54",
       "version_major": 2,
       "version_minor": 0
      },
      "text/plain": [
       "HBox(children=(IntProgress(value=0, max=889), HTML(value='')))"
      ]
     },
     "metadata": {},
     "output_type": "display_data"
    },
    {
     "name": "stdout",
     "output_type": "stream",
     "text": [
      "\n"
     ]
    }
   ],
   "source": [
    "new_para = make_features(augmented_para)"
   ]
  },
  {
   "cell_type": "code",
   "execution_count": 239,
   "metadata": {},
   "outputs": [],
   "source": [
    "for tag in tag_list:\n",
    "    new_para[tag] = 0\n",
    "    \n",
    "new_para[ [tag for tag in tag_list] ] = new_para['pos_diff'].tolist()"
   ]
  },
  {
   "cell_type": "code",
   "execution_count": 244,
   "metadata": {},
   "outputs": [
    {
     "data": {
      "text/plain": [
       "1    2573\n",
       "0    2573\n",
       "Name: class, dtype: int64"
      ]
     },
     "execution_count": 244,
     "metadata": {},
     "output_type": "execute_result"
    }
   ],
   "source": [
    "augmented_para = pd.concat([para, new_para])\n",
    "augmented_para['class'].value_counts()"
   ]
  },
  {
   "cell_type": "code",
   "execution_count": 250,
   "metadata": {},
   "outputs": [
    {
     "name": "stdout",
     "output_type": "stream",
     "text": [
      "<class 'pandas.core.frame.DataFrame'>\n",
      "Int64Index: 5146 entries, 0 to 888\n",
      "Data columns (total 25 columns):\n",
      "class                5146 non-null int64\n",
      "n_words_1            5146 non-null int64\n",
      "av_words_length_1    5146 non-null float64\n",
      "n_words_2            5146 non-null int64\n",
      "av_words_length_2    5146 non-null float64\n",
      "n_words_diff         5146 non-null int64\n",
      "ADJF                 5146 non-null int64\n",
      "ADJS                 5146 non-null int64\n",
      "ADVB                 5146 non-null int64\n",
      "COMP                 5146 non-null int64\n",
      "CONJ                 5146 non-null int64\n",
      "GRND                 5146 non-null int64\n",
      "INFN                 5146 non-null int64\n",
      "INTJ                 5146 non-null int64\n",
      "NOUN                 5146 non-null int64\n",
      "NPRO                 5146 non-null int64\n",
      "NUMR                 5146 non-null int64\n",
      "None                 5146 non-null int64\n",
      "PRCL                 5146 non-null int64\n",
      "PRED                 5146 non-null int64\n",
      "PREP                 5146 non-null int64\n",
      "PRTF                 5146 non-null int64\n",
      "PRTS                 5146 non-null int64\n",
      "VERB                 5146 non-null int64\n",
      "n_similar_words      5146 non-null int64\n",
      "dtypes: float64(2), int64(23)\n",
      "memory usage: 1.0 MB\n"
     ]
    }
   ],
   "source": [
    "data_aug.info()"
   ]
  },
  {
   "cell_type": "code",
   "execution_count": 256,
   "metadata": {},
   "outputs": [
    {
     "name": "stdout",
     "output_type": "stream",
     "text": [
      "              precision    recall  f1-score   support\n",
      "\n",
      "           0       0.75      0.88      0.81       772\n",
      "           1       0.85      0.70      0.77       772\n",
      "\n",
      "    accuracy                           0.79      1544\n",
      "   macro avg       0.80      0.79      0.79      1544\n",
      "weighted avg       0.80      0.79      0.79      1544\n",
      "\n"
     ]
    }
   ],
   "source": [
    "data_aug = augmented_para[features]\n",
    "\n",
    "y_aug = data_aug['class']\n",
    "x_aug = data_aug.drop(columns=['class'])\n",
    "\n",
    "x_train_aug, x_test_aug, y_train_aug, y_test_aug = train_test_split(x_aug, y_aug,\n",
    "                                                                    test_size=0.3, \n",
    "                                                                    random_state=SEED,\n",
    "                                                                    stratify=y_aug)\n",
    "\n",
    "clf_forest_aug = RandomForestClassifier(n_estimators=100, max_depth=20, random_state=SEED)\n",
    "clf_forest_aug.fit(x_train_aug, y_train_aug)\n",
    "print(classification_report(y_test_aug, clf_forest.predict(x_test_aug)))"
   ]
  },
  {
   "cell_type": "markdown",
   "metadata": {},
   "source": [
    "На аугментированных данных качество незначительно выросло для позитивного класса, но снизилось в среднем (качество аугментации такое себе, честно говоря)"
   ]
  },
  {
   "cell_type": "code",
   "execution_count": 258,
   "metadata": {},
   "outputs": [],
   "source": [
    "para.to_csv('para.tsv', sep='\\t')\n",
    "augmented_para.to_csv('augmented_para.tsv', sep='\\t')"
   ]
  },
  {
   "cell_type": "markdown",
   "metadata": {},
   "source": [
    "_Анна Поляснякая, БКЛ171_"
   ]
  }
 ],
 "metadata": {
  "colab": {
   "collapsed_sections": [],
   "name": "hw_04.ipynb",
   "provenance": []
  },
  "kernelspec": {
   "display_name": "Python 3",
   "language": "python",
   "name": "python3"
  },
  "language_info": {
   "codemirror_mode": {
    "name": "ipython",
    "version": 3
   },
   "file_extension": ".py",
   "mimetype": "text/x-python",
   "name": "python",
   "nbconvert_exporter": "python",
   "pygments_lexer": "ipython3",
   "version": "3.7.3"
  }
 },
 "nbformat": 4,
 "nbformat_minor": 1
}
