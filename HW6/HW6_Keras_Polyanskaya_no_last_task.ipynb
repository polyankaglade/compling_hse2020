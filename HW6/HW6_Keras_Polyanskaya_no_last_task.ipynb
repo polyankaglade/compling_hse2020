{
  "nbformat": 4,
  "nbformat_minor": 0,
  "metadata": {
    "colab": {
      "name": "HW6_Keras_Polyanskaya.ipynb",
      "provenance": [],
      "collapsed_sections": []
    },
    "kernelspec": {
      "name": "python3",
      "display_name": "Python 3"
    },
    "widgets": {
      "application/vnd.jupyter.widget-state+json": {
        "f33bd6795e434ddaa39e956bb331321c": {
          "model_module": "@jupyter-widgets/controls",
          "model_name": "HBoxModel",
          "state": {
            "_view_name": "HBoxView",
            "_dom_classes": [],
            "_model_name": "HBoxModel",
            "_view_module": "@jupyter-widgets/controls",
            "_model_module_version": "1.5.0",
            "_view_count": null,
            "_view_module_version": "1.5.0",
            "box_style": "",
            "layout": "IPY_MODEL_adc4a06cf1964d3e82be6612cdfc3cba",
            "_model_module": "@jupyter-widgets/controls",
            "children": [
              "IPY_MODEL_e63cc5ada75d4b4bae144a530d4f5646",
              "IPY_MODEL_90298348d94e44288fd92fe274b1a672"
            ]
          }
        },
        "adc4a06cf1964d3e82be6612cdfc3cba": {
          "model_module": "@jupyter-widgets/base",
          "model_name": "LayoutModel",
          "state": {
            "_view_name": "LayoutView",
            "grid_template_rows": null,
            "right": null,
            "justify_content": null,
            "_view_module": "@jupyter-widgets/base",
            "overflow": null,
            "_model_module_version": "1.2.0",
            "_view_count": null,
            "flex_flow": null,
            "width": null,
            "min_width": null,
            "border": null,
            "align_items": null,
            "bottom": null,
            "_model_module": "@jupyter-widgets/base",
            "top": null,
            "grid_column": null,
            "overflow_y": null,
            "overflow_x": null,
            "grid_auto_flow": null,
            "grid_area": null,
            "grid_template_columns": null,
            "flex": null,
            "_model_name": "LayoutModel",
            "justify_items": null,
            "grid_row": null,
            "max_height": null,
            "align_content": null,
            "visibility": null,
            "align_self": null,
            "height": null,
            "min_height": null,
            "padding": null,
            "grid_auto_rows": null,
            "grid_gap": null,
            "max_width": null,
            "order": null,
            "_view_module_version": "1.2.0",
            "grid_template_areas": null,
            "object_position": null,
            "object_fit": null,
            "grid_auto_columns": null,
            "margin": null,
            "display": null,
            "left": null
          }
        },
        "e63cc5ada75d4b4bae144a530d4f5646": {
          "model_module": "@jupyter-widgets/controls",
          "model_name": "FloatProgressModel",
          "state": {
            "_view_name": "ProgressView",
            "style": "IPY_MODEL_1b3f212039954252afe8113e0a3ce1f3",
            "_dom_classes": [],
            "description": "100%",
            "_model_name": "FloatProgressModel",
            "bar_style": "success",
            "max": 114911,
            "_view_module": "@jupyter-widgets/controls",
            "_model_module_version": "1.5.0",
            "value": 114911,
            "_view_count": null,
            "_view_module_version": "1.5.0",
            "orientation": "horizontal",
            "min": 0,
            "description_tooltip": null,
            "_model_module": "@jupyter-widgets/controls",
            "layout": "IPY_MODEL_99ab2a1ae6e3485e94bf1c15beb95c5b"
          }
        },
        "90298348d94e44288fd92fe274b1a672": {
          "model_module": "@jupyter-widgets/controls",
          "model_name": "HTMLModel",
          "state": {
            "_view_name": "HTMLView",
            "style": "IPY_MODEL_9fd6b314953040cda5a59179a4a01e92",
            "_dom_classes": [],
            "description": "",
            "_model_name": "HTMLModel",
            "placeholder": "​",
            "_view_module": "@jupyter-widgets/controls",
            "_model_module_version": "1.5.0",
            "value": " 114911/114911 [41:06&lt;00:00, 46.59it/s]",
            "_view_count": null,
            "_view_module_version": "1.5.0",
            "description_tooltip": null,
            "_model_module": "@jupyter-widgets/controls",
            "layout": "IPY_MODEL_ca709c868379428b8e42b511cc49c4c3"
          }
        },
        "1b3f212039954252afe8113e0a3ce1f3": {
          "model_module": "@jupyter-widgets/controls",
          "model_name": "ProgressStyleModel",
          "state": {
            "_view_name": "StyleView",
            "_model_name": "ProgressStyleModel",
            "description_width": "initial",
            "_view_module": "@jupyter-widgets/base",
            "_model_module_version": "1.5.0",
            "_view_count": null,
            "_view_module_version": "1.2.0",
            "bar_color": null,
            "_model_module": "@jupyter-widgets/controls"
          }
        },
        "99ab2a1ae6e3485e94bf1c15beb95c5b": {
          "model_module": "@jupyter-widgets/base",
          "model_name": "LayoutModel",
          "state": {
            "_view_name": "LayoutView",
            "grid_template_rows": null,
            "right": null,
            "justify_content": null,
            "_view_module": "@jupyter-widgets/base",
            "overflow": null,
            "_model_module_version": "1.2.0",
            "_view_count": null,
            "flex_flow": null,
            "width": null,
            "min_width": null,
            "border": null,
            "align_items": null,
            "bottom": null,
            "_model_module": "@jupyter-widgets/base",
            "top": null,
            "grid_column": null,
            "overflow_y": null,
            "overflow_x": null,
            "grid_auto_flow": null,
            "grid_area": null,
            "grid_template_columns": null,
            "flex": null,
            "_model_name": "LayoutModel",
            "justify_items": null,
            "grid_row": null,
            "max_height": null,
            "align_content": null,
            "visibility": null,
            "align_self": null,
            "height": null,
            "min_height": null,
            "padding": null,
            "grid_auto_rows": null,
            "grid_gap": null,
            "max_width": null,
            "order": null,
            "_view_module_version": "1.2.0",
            "grid_template_areas": null,
            "object_position": null,
            "object_fit": null,
            "grid_auto_columns": null,
            "margin": null,
            "display": null,
            "left": null
          }
        },
        "9fd6b314953040cda5a59179a4a01e92": {
          "model_module": "@jupyter-widgets/controls",
          "model_name": "DescriptionStyleModel",
          "state": {
            "_view_name": "StyleView",
            "_model_name": "DescriptionStyleModel",
            "description_width": "",
            "_view_module": "@jupyter-widgets/base",
            "_model_module_version": "1.5.0",
            "_view_count": null,
            "_view_module_version": "1.2.0",
            "_model_module": "@jupyter-widgets/controls"
          }
        },
        "ca709c868379428b8e42b511cc49c4c3": {
          "model_module": "@jupyter-widgets/base",
          "model_name": "LayoutModel",
          "state": {
            "_view_name": "LayoutView",
            "grid_template_rows": null,
            "right": null,
            "justify_content": null,
            "_view_module": "@jupyter-widgets/base",
            "overflow": null,
            "_model_module_version": "1.2.0",
            "_view_count": null,
            "flex_flow": null,
            "width": null,
            "min_width": null,
            "border": null,
            "align_items": null,
            "bottom": null,
            "_model_module": "@jupyter-widgets/base",
            "top": null,
            "grid_column": null,
            "overflow_y": null,
            "overflow_x": null,
            "grid_auto_flow": null,
            "grid_area": null,
            "grid_template_columns": null,
            "flex": null,
            "_model_name": "LayoutModel",
            "justify_items": null,
            "grid_row": null,
            "max_height": null,
            "align_content": null,
            "visibility": null,
            "align_self": null,
            "height": null,
            "min_height": null,
            "padding": null,
            "grid_auto_rows": null,
            "grid_gap": null,
            "max_width": null,
            "order": null,
            "_view_module_version": "1.2.0",
            "grid_template_areas": null,
            "object_position": null,
            "object_fit": null,
            "grid_auto_columns": null,
            "margin": null,
            "display": null,
            "left": null
          }
        },
        "e0bdae5574594b9c95f5b0720d8073f8": {
          "model_module": "@jupyter-widgets/controls",
          "model_name": "HBoxModel",
          "state": {
            "_view_name": "HBoxView",
            "_dom_classes": [],
            "_model_name": "HBoxModel",
            "_view_module": "@jupyter-widgets/controls",
            "_model_module_version": "1.5.0",
            "_view_count": null,
            "_view_module_version": "1.5.0",
            "box_style": "",
            "layout": "IPY_MODEL_eb25e61c006c4537a3f1e866ccca2579",
            "_model_module": "@jupyter-widgets/controls",
            "children": [
              "IPY_MODEL_802d86c983d54eeda548af48d7da94ac",
              "IPY_MODEL_49708777acf24aad8bacda562992b8ec"
            ]
          }
        },
        "eb25e61c006c4537a3f1e866ccca2579": {
          "model_module": "@jupyter-widgets/base",
          "model_name": "LayoutModel",
          "state": {
            "_view_name": "LayoutView",
            "grid_template_rows": null,
            "right": null,
            "justify_content": null,
            "_view_module": "@jupyter-widgets/base",
            "overflow": null,
            "_model_module_version": "1.2.0",
            "_view_count": null,
            "flex_flow": null,
            "width": null,
            "min_width": null,
            "border": null,
            "align_items": null,
            "bottom": null,
            "_model_module": "@jupyter-widgets/base",
            "top": null,
            "grid_column": null,
            "overflow_y": null,
            "overflow_x": null,
            "grid_auto_flow": null,
            "grid_area": null,
            "grid_template_columns": null,
            "flex": null,
            "_model_name": "LayoutModel",
            "justify_items": null,
            "grid_row": null,
            "max_height": null,
            "align_content": null,
            "visibility": null,
            "align_self": null,
            "height": null,
            "min_height": null,
            "padding": null,
            "grid_auto_rows": null,
            "grid_gap": null,
            "max_width": null,
            "order": null,
            "_view_module_version": "1.2.0",
            "grid_template_areas": null,
            "object_position": null,
            "object_fit": null,
            "grid_auto_columns": null,
            "margin": null,
            "display": null,
            "left": null
          }
        },
        "802d86c983d54eeda548af48d7da94ac": {
          "model_module": "@jupyter-widgets/controls",
          "model_name": "FloatProgressModel",
          "state": {
            "_view_name": "ProgressView",
            "style": "IPY_MODEL_ffaea2d792f64dc3b3ce9d0d2daf584d",
            "_dom_classes": [],
            "description": "100%",
            "_model_name": "FloatProgressModel",
            "bar_style": "success",
            "max": 111923,
            "_view_module": "@jupyter-widgets/controls",
            "_model_module_version": "1.5.0",
            "value": 111923,
            "_view_count": null,
            "_view_module_version": "1.5.0",
            "orientation": "horizontal",
            "min": 0,
            "description_tooltip": null,
            "_model_module": "@jupyter-widgets/controls",
            "layout": "IPY_MODEL_e746b032a31a4de7b8c9318e10166a7e"
          }
        },
        "49708777acf24aad8bacda562992b8ec": {
          "model_module": "@jupyter-widgets/controls",
          "model_name": "HTMLModel",
          "state": {
            "_view_name": "HTMLView",
            "style": "IPY_MODEL_aa2dc38a6c6b461899da0bc377acc503",
            "_dom_classes": [],
            "description": "",
            "_model_name": "HTMLModel",
            "placeholder": "​",
            "_view_module": "@jupyter-widgets/controls",
            "_model_module_version": "1.5.0",
            "value": " 111923/111923 [07:07&lt;00:00, 262.06it/s]",
            "_view_count": null,
            "_view_module_version": "1.5.0",
            "description_tooltip": null,
            "_model_module": "@jupyter-widgets/controls",
            "layout": "IPY_MODEL_a1728f3a451f40c5b8eb7e261a76d8fb"
          }
        },
        "ffaea2d792f64dc3b3ce9d0d2daf584d": {
          "model_module": "@jupyter-widgets/controls",
          "model_name": "ProgressStyleModel",
          "state": {
            "_view_name": "StyleView",
            "_model_name": "ProgressStyleModel",
            "description_width": "initial",
            "_view_module": "@jupyter-widgets/base",
            "_model_module_version": "1.5.0",
            "_view_count": null,
            "_view_module_version": "1.2.0",
            "bar_color": null,
            "_model_module": "@jupyter-widgets/controls"
          }
        },
        "e746b032a31a4de7b8c9318e10166a7e": {
          "model_module": "@jupyter-widgets/base",
          "model_name": "LayoutModel",
          "state": {
            "_view_name": "LayoutView",
            "grid_template_rows": null,
            "right": null,
            "justify_content": null,
            "_view_module": "@jupyter-widgets/base",
            "overflow": null,
            "_model_module_version": "1.2.0",
            "_view_count": null,
            "flex_flow": null,
            "width": null,
            "min_width": null,
            "border": null,
            "align_items": null,
            "bottom": null,
            "_model_module": "@jupyter-widgets/base",
            "top": null,
            "grid_column": null,
            "overflow_y": null,
            "overflow_x": null,
            "grid_auto_flow": null,
            "grid_area": null,
            "grid_template_columns": null,
            "flex": null,
            "_model_name": "LayoutModel",
            "justify_items": null,
            "grid_row": null,
            "max_height": null,
            "align_content": null,
            "visibility": null,
            "align_self": null,
            "height": null,
            "min_height": null,
            "padding": null,
            "grid_auto_rows": null,
            "grid_gap": null,
            "max_width": null,
            "order": null,
            "_view_module_version": "1.2.0",
            "grid_template_areas": null,
            "object_position": null,
            "object_fit": null,
            "grid_auto_columns": null,
            "margin": null,
            "display": null,
            "left": null
          }
        },
        "aa2dc38a6c6b461899da0bc377acc503": {
          "model_module": "@jupyter-widgets/controls",
          "model_name": "DescriptionStyleModel",
          "state": {
            "_view_name": "StyleView",
            "_model_name": "DescriptionStyleModel",
            "description_width": "",
            "_view_module": "@jupyter-widgets/base",
            "_model_module_version": "1.5.0",
            "_view_count": null,
            "_view_module_version": "1.2.0",
            "_model_module": "@jupyter-widgets/controls"
          }
        },
        "a1728f3a451f40c5b8eb7e261a76d8fb": {
          "model_module": "@jupyter-widgets/base",
          "model_name": "LayoutModel",
          "state": {
            "_view_name": "LayoutView",
            "grid_template_rows": null,
            "right": null,
            "justify_content": null,
            "_view_module": "@jupyter-widgets/base",
            "overflow": null,
            "_model_module_version": "1.2.0",
            "_view_count": null,
            "flex_flow": null,
            "width": null,
            "min_width": null,
            "border": null,
            "align_items": null,
            "bottom": null,
            "_model_module": "@jupyter-widgets/base",
            "top": null,
            "grid_column": null,
            "overflow_y": null,
            "overflow_x": null,
            "grid_auto_flow": null,
            "grid_area": null,
            "grid_template_columns": null,
            "flex": null,
            "_model_name": "LayoutModel",
            "justify_items": null,
            "grid_row": null,
            "max_height": null,
            "align_content": null,
            "visibility": null,
            "align_self": null,
            "height": null,
            "min_height": null,
            "padding": null,
            "grid_auto_rows": null,
            "grid_gap": null,
            "max_width": null,
            "order": null,
            "_view_module_version": "1.2.0",
            "grid_template_areas": null,
            "object_position": null,
            "object_fit": null,
            "grid_auto_columns": null,
            "margin": null,
            "display": null,
            "left": null
          }
        }
      }
    }
  },
  "cells": [
    {
      "cell_type": "code",
      "metadata": {
        "id": "Bar5Ff6r85S0",
        "colab": {
          "base_uri": "https://localhost:8080/"
        },
        "outputId": "79695a4b-e6ea-4df7-c9fd-7b0bef96d366"
      },
      "source": [
        "!wget https://www.dropbox.com/s/r6u59ljhhjdg6j0/negative.csv\r\n",
        "!wget https://www.dropbox.com/s/fnpq3z4bcnoktiv/positive.csv "
      ],
      "execution_count": null,
      "outputs": [
        {
          "output_type": "stream",
          "text": [
            "--2021-01-25 16:42:49--  https://www.dropbox.com/s/r6u59ljhhjdg6j0/negative.csv\n",
            "Resolving www.dropbox.com (www.dropbox.com)... 162.125.2.18, 2620:100:6017:18::a27d:212\n",
            "Connecting to www.dropbox.com (www.dropbox.com)|162.125.2.18|:443... connected.\n",
            "HTTP request sent, awaiting response... 301 Moved Permanently\n",
            "Location: /s/raw/r6u59ljhhjdg6j0/negative.csv [following]\n",
            "--2021-01-25 16:42:49--  https://www.dropbox.com/s/raw/r6u59ljhhjdg6j0/negative.csv\n",
            "Reusing existing connection to www.dropbox.com:443.\n",
            "HTTP request sent, awaiting response... 302 Found\n",
            "Location: https://uc774c137869de79f644cabb4819.dl.dropboxusercontent.com/cd/0/inline/BHriCEKzR_jhJfbHBVznPXibEwxFeI-W02JHeQClePpVIlTiZApL5N4ivST2bUIgF4OMuy_if52onywYuEQxutYtXwSxvOHondpgPE4z4Z-9CQ/file# [following]\n",
            "--2021-01-25 16:42:50--  https://uc774c137869de79f644cabb4819.dl.dropboxusercontent.com/cd/0/inline/BHriCEKzR_jhJfbHBVznPXibEwxFeI-W02JHeQClePpVIlTiZApL5N4ivST2bUIgF4OMuy_if52onywYuEQxutYtXwSxvOHondpgPE4z4Z-9CQ/file\n",
            "Resolving uc774c137869de79f644cabb4819.dl.dropboxusercontent.com (uc774c137869de79f644cabb4819.dl.dropboxusercontent.com)... 162.125.2.15, 2620:100:6017:15::a27d:20f\n",
            "Connecting to uc774c137869de79f644cabb4819.dl.dropboxusercontent.com (uc774c137869de79f644cabb4819.dl.dropboxusercontent.com)|162.125.2.15|:443... connected.\n",
            "HTTP request sent, awaiting response... 200 OK\n",
            "Length: 24450101 (23M) [text/plain]\n",
            "Saving to: ‘negative.csv’\n",
            "\n",
            "negative.csv        100%[===================>]  23.32M  39.9MB/s    in 0.6s    \n",
            "\n",
            "2021-01-25 16:42:51 (39.9 MB/s) - ‘negative.csv’ saved [24450101/24450101]\n",
            "\n",
            "--2021-01-25 16:42:52--  https://www.dropbox.com/s/fnpq3z4bcnoktiv/positive.csv\n",
            "Resolving www.dropbox.com (www.dropbox.com)... 162.125.2.18, 2620:100:6017:18::a27d:212\n",
            "Connecting to www.dropbox.com (www.dropbox.com)|162.125.2.18|:443... connected.\n",
            "HTTP request sent, awaiting response... 301 Moved Permanently\n",
            "Location: /s/raw/fnpq3z4bcnoktiv/positive.csv [following]\n",
            "--2021-01-25 16:42:52--  https://www.dropbox.com/s/raw/fnpq3z4bcnoktiv/positive.csv\n",
            "Reusing existing connection to www.dropbox.com:443.\n",
            "HTTP request sent, awaiting response... 302 Found\n",
            "Location: https://ucc76edd6510cda8181dfd4c0caf.dl.dropboxusercontent.com/cd/0/inline/BHqknNPfKhPrpiYB-jwUKxfpDk5EtgiKl1QBneePLCrO898qtjPqrCh_7Q7yYuINhs00JIlttZn2Trs1ym64jv-5nUaidwmcIq4lRkf2XLupEg/file# [following]\n",
            "--2021-01-25 16:42:52--  https://ucc76edd6510cda8181dfd4c0caf.dl.dropboxusercontent.com/cd/0/inline/BHqknNPfKhPrpiYB-jwUKxfpDk5EtgiKl1QBneePLCrO898qtjPqrCh_7Q7yYuINhs00JIlttZn2Trs1ym64jv-5nUaidwmcIq4lRkf2XLupEg/file\n",
            "Resolving ucc76edd6510cda8181dfd4c0caf.dl.dropboxusercontent.com (ucc76edd6510cda8181dfd4c0caf.dl.dropboxusercontent.com)... 162.125.2.15, 2620:100:6017:15::a27d:20f\n",
            "Connecting to ucc76edd6510cda8181dfd4c0caf.dl.dropboxusercontent.com (ucc76edd6510cda8181dfd4c0caf.dl.dropboxusercontent.com)|162.125.2.15|:443... connected.\n",
            "HTTP request sent, awaiting response... 200 OK\n",
            "Length: 26233379 (25M) [text/plain]\n",
            "Saving to: ‘positive.csv’\n",
            "\n",
            "positive.csv        100%[===================>]  25.02M   130MB/s    in 0.2s    \n",
            "\n",
            "2021-01-25 16:42:53 (130 MB/s) - ‘positive.csv’ saved [26233379/26233379]\n",
            "\n"
          ],
          "name": "stdout"
        }
      ]
    },
    {
      "cell_type": "code",
      "metadata": {
        "id": "NndTzE6PbQh-"
      },
      "source": [
        "import numpy as np\r\n",
        "import pandas as pd\r\n",
        "\r\n",
        "from collections import Counter\r\n",
        "from sklearn.model_selection import train_test_split\r\n",
        "\r\n",
        "from tensorflow.keras.models import Sequential, Model\r\n",
        "from tensorflow.keras.layers import Dense, Activation, Dropout, LSTM, Bidirectional, InputLayer, TimeDistributed\r\n",
        "from tensorflow.keras.layers import Embedding, Conv1D, Input, concatenate, SpatialDropout1D, Flatten\r\n",
        "from tensorflow.keras.preprocessing.sequence import pad_sequences\r\n",
        "from tensorflow.keras import optimizers\r\n",
        "from tensorflow.keras.metrics import Precision, Recall, Accuracy\r\n",
        "\r\n",
        "from keras.utils.vis_utils import plot_model"
      ],
      "execution_count": 1,
      "outputs": []
    },
    {
      "cell_type": "markdown",
      "metadata": {
        "id": "gk7sELXae7ac"
      },
      "source": [
        "## Данные"
      ]
    },
    {
      "cell_type": "code",
      "metadata": {
        "colab": {
          "base_uri": "https://localhost:8080/",
          "height": 197
        },
        "id": "AlzoQQvvbrr0",
        "outputId": "a2b7842f-5295-41d7-8b87-3b270a85ba52"
      },
      "source": [
        "pos = pd.read_csv('positive.csv', sep=';', \r\n",
        "                  names=['id', 'tdate', 'tname', 'ttext', 'ttype', 'trep', 'tfav', 'tstcount', 'tfol', 'tfrien', 'listcount'],\r\n",
        "                  index_col=False)\r\n",
        "pos.head()"
      ],
      "execution_count": null,
      "outputs": [
        {
          "output_type": "execute_result",
          "data": {
            "text/html": [
              "<div>\n",
              "<style scoped>\n",
              "    .dataframe tbody tr th:only-of-type {\n",
              "        vertical-align: middle;\n",
              "    }\n",
              "\n",
              "    .dataframe tbody tr th {\n",
              "        vertical-align: top;\n",
              "    }\n",
              "\n",
              "    .dataframe thead th {\n",
              "        text-align: right;\n",
              "    }\n",
              "</style>\n",
              "<table border=\"1\" class=\"dataframe\">\n",
              "  <thead>\n",
              "    <tr style=\"text-align: right;\">\n",
              "      <th></th>\n",
              "      <th>id</th>\n",
              "      <th>tdate</th>\n",
              "      <th>tname</th>\n",
              "      <th>ttext</th>\n",
              "      <th>ttype</th>\n",
              "      <th>trep</th>\n",
              "      <th>tfav</th>\n",
              "      <th>tstcount</th>\n",
              "      <th>tfol</th>\n",
              "      <th>tfrien</th>\n",
              "      <th>listcount</th>\n",
              "    </tr>\n",
              "  </thead>\n",
              "  <tbody>\n",
              "    <tr>\n",
              "      <th>0</th>\n",
              "      <td>408906692374446080</td>\n",
              "      <td>1386325927</td>\n",
              "      <td>pleease_shut_up</td>\n",
              "      <td>@first_timee хоть я и школота, но поверь, у на...</td>\n",
              "      <td>1</td>\n",
              "      <td>0</td>\n",
              "      <td>0</td>\n",
              "      <td>0</td>\n",
              "      <td>7569</td>\n",
              "      <td>62</td>\n",
              "      <td>61</td>\n",
              "    </tr>\n",
              "    <tr>\n",
              "      <th>1</th>\n",
              "      <td>408906692693221377</td>\n",
              "      <td>1386325927</td>\n",
              "      <td>alinakirpicheva</td>\n",
              "      <td>Да, все-таки он немного похож на него. Но мой ...</td>\n",
              "      <td>1</td>\n",
              "      <td>0</td>\n",
              "      <td>0</td>\n",
              "      <td>0</td>\n",
              "      <td>11825</td>\n",
              "      <td>59</td>\n",
              "      <td>31</td>\n",
              "    </tr>\n",
              "    <tr>\n",
              "      <th>2</th>\n",
              "      <td>408906695083954177</td>\n",
              "      <td>1386325927</td>\n",
              "      <td>EvgeshaRe</td>\n",
              "      <td>RT @KatiaCheh: Ну ты идиотка) я испугалась за ...</td>\n",
              "      <td>1</td>\n",
              "      <td>0</td>\n",
              "      <td>1</td>\n",
              "      <td>0</td>\n",
              "      <td>1273</td>\n",
              "      <td>26</td>\n",
              "      <td>27</td>\n",
              "    </tr>\n",
              "    <tr>\n",
              "      <th>3</th>\n",
              "      <td>408906695356973056</td>\n",
              "      <td>1386325927</td>\n",
              "      <td>ikonnikova_21</td>\n",
              "      <td>RT @digger2912: \"Кто то в углу сидит и погибае...</td>\n",
              "      <td>1</td>\n",
              "      <td>0</td>\n",
              "      <td>1</td>\n",
              "      <td>0</td>\n",
              "      <td>1549</td>\n",
              "      <td>19</td>\n",
              "      <td>17</td>\n",
              "    </tr>\n",
              "    <tr>\n",
              "      <th>4</th>\n",
              "      <td>408906761416867842</td>\n",
              "      <td>1386325943</td>\n",
              "      <td>JumpyAlex</td>\n",
              "      <td>@irina_dyshkant Вот что значит страшилка :D\\nН...</td>\n",
              "      <td>1</td>\n",
              "      <td>0</td>\n",
              "      <td>0</td>\n",
              "      <td>0</td>\n",
              "      <td>597</td>\n",
              "      <td>16</td>\n",
              "      <td>23</td>\n",
              "    </tr>\n",
              "  </tbody>\n",
              "</table>\n",
              "</div>"
            ],
            "text/plain": [
              "                   id       tdate            tname  ...   tfol  tfrien  listcount\n",
              "0  408906692374446080  1386325927  pleease_shut_up  ...   7569      62         61\n",
              "1  408906692693221377  1386325927  alinakirpicheva  ...  11825      59         31\n",
              "2  408906695083954177  1386325927        EvgeshaRe  ...   1273      26         27\n",
              "3  408906695356973056  1386325927    ikonnikova_21  ...   1549      19         17\n",
              "4  408906761416867842  1386325943        JumpyAlex  ...    597      16         23\n",
              "\n",
              "[5 rows x 11 columns]"
            ]
          },
          "metadata": {
            "tags": []
          },
          "execution_count": 18
        }
      ]
    },
    {
      "cell_type": "code",
      "metadata": {
        "colab": {
          "base_uri": "https://localhost:8080/",
          "height": 197
        },
        "id": "5ADVxbcPdVJe",
        "outputId": "7c5ecc59-1a58-410f-c9b3-ab4336490c95"
      },
      "source": [
        "neg = pd.read_csv('negative.csv', sep=';', \r\n",
        "                  names=['id', 'tdate', 'tname', 'ttext', 'ttype', 'trep', 'tfav', 'tstcount', 'tfol', 'tfrien', 'listcount'],\r\n",
        "                  index_col=False)\r\n",
        "neg.head()"
      ],
      "execution_count": null,
      "outputs": [
        {
          "output_type": "execute_result",
          "data": {
            "text/html": [
              "<div>\n",
              "<style scoped>\n",
              "    .dataframe tbody tr th:only-of-type {\n",
              "        vertical-align: middle;\n",
              "    }\n",
              "\n",
              "    .dataframe tbody tr th {\n",
              "        vertical-align: top;\n",
              "    }\n",
              "\n",
              "    .dataframe thead th {\n",
              "        text-align: right;\n",
              "    }\n",
              "</style>\n",
              "<table border=\"1\" class=\"dataframe\">\n",
              "  <thead>\n",
              "    <tr style=\"text-align: right;\">\n",
              "      <th></th>\n",
              "      <th>id</th>\n",
              "      <th>tdate</th>\n",
              "      <th>tname</th>\n",
              "      <th>ttext</th>\n",
              "      <th>ttype</th>\n",
              "      <th>trep</th>\n",
              "      <th>tfav</th>\n",
              "      <th>tstcount</th>\n",
              "      <th>tfol</th>\n",
              "      <th>tfrien</th>\n",
              "      <th>listcount</th>\n",
              "    </tr>\n",
              "  </thead>\n",
              "  <tbody>\n",
              "    <tr>\n",
              "      <th>0</th>\n",
              "      <td>408906762813579264</td>\n",
              "      <td>1386325944</td>\n",
              "      <td>dugarchikbellko</td>\n",
              "      <td>на работе был полный пиддес :| и так каждое за...</td>\n",
              "      <td>-1</td>\n",
              "      <td>0</td>\n",
              "      <td>0</td>\n",
              "      <td>0</td>\n",
              "      <td>8064</td>\n",
              "      <td>111</td>\n",
              "      <td>94</td>\n",
              "    </tr>\n",
              "    <tr>\n",
              "      <th>1</th>\n",
              "      <td>408906818262687744</td>\n",
              "      <td>1386325957</td>\n",
              "      <td>nugemycejela</td>\n",
              "      <td>Коллеги сидят рубятся в Urban terror, а я из-з...</td>\n",
              "      <td>-1</td>\n",
              "      <td>0</td>\n",
              "      <td>0</td>\n",
              "      <td>0</td>\n",
              "      <td>26</td>\n",
              "      <td>42</td>\n",
              "      <td>39</td>\n",
              "    </tr>\n",
              "    <tr>\n",
              "      <th>2</th>\n",
              "      <td>408906858515398656</td>\n",
              "      <td>1386325966</td>\n",
              "      <td>4post21</td>\n",
              "      <td>@elina_4post как говорят обещаного три года жд...</td>\n",
              "      <td>-1</td>\n",
              "      <td>0</td>\n",
              "      <td>0</td>\n",
              "      <td>0</td>\n",
              "      <td>718</td>\n",
              "      <td>49</td>\n",
              "      <td>249</td>\n",
              "    </tr>\n",
              "    <tr>\n",
              "      <th>3</th>\n",
              "      <td>408906914437685248</td>\n",
              "      <td>1386325980</td>\n",
              "      <td>Poliwake</td>\n",
              "      <td>Желаю хорошего полёта и удачной посадки,я буду...</td>\n",
              "      <td>-1</td>\n",
              "      <td>0</td>\n",
              "      <td>0</td>\n",
              "      <td>0</td>\n",
              "      <td>10628</td>\n",
              "      <td>207</td>\n",
              "      <td>200</td>\n",
              "    </tr>\n",
              "    <tr>\n",
              "      <th>4</th>\n",
              "      <td>408906914723295232</td>\n",
              "      <td>1386325980</td>\n",
              "      <td>capyvixowe</td>\n",
              "      <td>Обновил за каким-то лешим surf, теперь не рабо...</td>\n",
              "      <td>-1</td>\n",
              "      <td>0</td>\n",
              "      <td>0</td>\n",
              "      <td>0</td>\n",
              "      <td>35</td>\n",
              "      <td>17</td>\n",
              "      <td>34</td>\n",
              "    </tr>\n",
              "  </tbody>\n",
              "</table>\n",
              "</div>"
            ],
            "text/plain": [
              "                   id       tdate            tname  ...   tfol  tfrien  listcount\n",
              "0  408906762813579264  1386325944  dugarchikbellko  ...   8064     111         94\n",
              "1  408906818262687744  1386325957     nugemycejela  ...     26      42         39\n",
              "2  408906858515398656  1386325966          4post21  ...    718      49        249\n",
              "3  408906914437685248  1386325980         Poliwake  ...  10628     207        200\n",
              "4  408906914723295232  1386325980       capyvixowe  ...     35      17         34\n",
              "\n",
              "[5 rows x 11 columns]"
            ]
          },
          "metadata": {
            "tags": []
          },
          "execution_count": 19
        }
      ]
    },
    {
      "cell_type": "markdown",
      "metadata": {
        "id": "4GUZj74ke_Y6"
      },
      "source": [
        "### Препроцессинг"
      ]
    },
    {
      "cell_type": "code",
      "metadata": {
        "colab": {
          "base_uri": "https://localhost:8080/"
        },
        "id": "Y9lzQf-ehQzZ",
        "outputId": "c907f625-3912-4253-bfdb-ac0d25907fd4"
      },
      "source": [
        "!pip install razdel"
      ],
      "execution_count": null,
      "outputs": [
        {
          "output_type": "stream",
          "text": [
            "Collecting razdel\n",
            "  Downloading https://files.pythonhosted.org/packages/15/2c/664223a3924aa6e70479f7d37220b3a658765b9cfe760b4af7ffdc50d38f/razdel-0.5.0-py3-none-any.whl\n",
            "Installing collected packages: razdel\n",
            "Successfully installed razdel-0.5.0\n"
          ],
          "name": "stdout"
        }
      ]
    },
    {
      "cell_type": "code",
      "metadata": {
        "colab": {
          "base_uri": "https://localhost:8080/"
        },
        "id": "XMkibl1YhsHM",
        "outputId": "4f9a21d3-4b4c-49ef-edc8-0ae5944cc712"
      },
      "source": [
        "!pip install pymorphy2"
      ],
      "execution_count": null,
      "outputs": [
        {
          "output_type": "stream",
          "text": [
            "Collecting pymorphy2\n",
            "\u001b[?25l  Downloading https://files.pythonhosted.org/packages/07/57/b2ff2fae3376d4f3c697b9886b64a54b476e1a332c67eee9f88e7f1ae8c9/pymorphy2-0.9.1-py3-none-any.whl (55kB)\n",
            "\u001b[K     |████████████████████████████████| 61kB 4.5MB/s \n",
            "\u001b[?25hCollecting pymorphy2-dicts-ru<3.0,>=2.4\n",
            "\u001b[?25l  Downloading https://files.pythonhosted.org/packages/3a/79/bea0021eeb7eeefde22ef9e96badf174068a2dd20264b9a378f2be1cdd9e/pymorphy2_dicts_ru-2.4.417127.4579844-py2.py3-none-any.whl (8.2MB)\n",
            "\u001b[K     |████████████████████████████████| 8.2MB 8.4MB/s \n",
            "\u001b[?25hCollecting dawg-python>=0.7.1\n",
            "  Downloading https://files.pythonhosted.org/packages/6a/84/ff1ce2071d4c650ec85745766c0047ccc3b5036f1d03559fd46bb38b5eeb/DAWG_Python-0.7.2-py2.py3-none-any.whl\n",
            "Requirement already satisfied: docopt>=0.6 in /usr/local/lib/python3.6/dist-packages (from pymorphy2) (0.6.2)\n",
            "Installing collected packages: pymorphy2-dicts-ru, dawg-python, pymorphy2\n",
            "Successfully installed dawg-python-0.7.2 pymorphy2-0.9.1 pymorphy2-dicts-ru-2.4.417127.4579844\n"
          ],
          "name": "stdout"
        }
      ]
    },
    {
      "cell_type": "markdown",
      "metadata": {
        "id": "Hy-cSYjcfF4-"
      },
      "source": [
        "*Анна Полянская, 2020*"
      ]
    },
    {
      "cell_type": "code",
      "metadata": {
        "id": "DytLClg0fCHE"
      },
      "source": [
        "import re\r\n",
        "from razdel import tokenize\r\n",
        "from pymorphy2 import MorphAnalyzer\r\n",
        "morph = MorphAnalyzer()"
      ],
      "execution_count": null,
      "outputs": []
    },
    {
      "cell_type": "code",
      "metadata": {
        "id": "Ua9EVfe5h_Pe"
      },
      "source": [
        "from tqdm.auto import tqdm\r\n",
        "tqdm.pandas()"
      ],
      "execution_count": null,
      "outputs": []
    },
    {
      "cell_type": "code",
      "metadata": {
        "id": "J9-sV0KZhqJV"
      },
      "source": [
        "def tokenizer(text_data):\r\n",
        "    tokens = [_.text for _ in list(tokenize(str(text_data).lower())) if not re.search('[^а-яА-ЯёЁa-zA-z]', _.text)]\r\n",
        "    return \" \".join(tokens)\r\n",
        "\r\n",
        "def lemmatizer(tokens):\r\n",
        "    lem_text = []\r\n",
        "    for word in tokens.split(\" \"):\r\n",
        "        lem = morph.parse(word)[0].normal_form\r\n",
        "        lem_text.append(lem)\r\n",
        "    return ' '.join(lem_text)\r\n",
        "\r\n",
        "def preprocess(text):\r\n",
        "    text = re.sub(r\"@\\w{1,15}\", \"\", text)\r\n",
        "    text = re.sub(r\"RT\", \"\", text)\r\n",
        "    text = re.sub(r\"http[s]?://(?:[^\\s])+\", \"\", text)\r\n",
        "    return lemmatizer(tokenizer(text))"
      ],
      "execution_count": null,
      "outputs": []
    },
    {
      "cell_type": "code",
      "metadata": {
        "colab": {
          "base_uri": "https://localhost:8080/"
        },
        "id": "odkLmkTZyD7q",
        "outputId": "85fdd159-fad8-4edb-8621-14c81202789d"
      },
      "source": [
        "test_tweet = pos.ttext[3]\r\n",
        "print(test_tweet)\r\n",
        "print(preprocess(test_tweet))"
      ],
      "execution_count": null,
      "outputs": [
        {
          "output_type": "stream",
          "text": [
            "RT @digger2912: \"Кто то в углу сидит и погибает от голода, а мы ещё 2 порции взяли, хотя уже и так жрать не хотим\" :DD http://t.co/GqG6iuE2…\n",
            "кто то в угол сидеть и погибать от голод а мы ещё порция взять хотя уже и так жрать не хотеть dd\n"
          ],
          "name": "stdout"
        }
      ]
    },
    {
      "cell_type": "code",
      "metadata": {
        "colab": {
          "base_uri": "https://localhost:8080/",
          "height": 114,
          "referenced_widgets": [
            "f33bd6795e434ddaa39e956bb331321c",
            "adc4a06cf1964d3e82be6612cdfc3cba",
            "e63cc5ada75d4b4bae144a530d4f5646",
            "90298348d94e44288fd92fe274b1a672",
            "1b3f212039954252afe8113e0a3ce1f3",
            "99ab2a1ae6e3485e94bf1c15beb95c5b",
            "9fd6b314953040cda5a59179a4a01e92",
            "ca709c868379428b8e42b511cc49c4c3",
            "e0bdae5574594b9c95f5b0720d8073f8",
            "eb25e61c006c4537a3f1e866ccca2579",
            "802d86c983d54eeda548af48d7da94ac",
            "49708777acf24aad8bacda562992b8ec",
            "ffaea2d792f64dc3b3ce9d0d2daf584d",
            "e746b032a31a4de7b8c9318e10166a7e",
            "aa2dc38a6c6b461899da0bc377acc503",
            "a1728f3a451f40c5b8eb7e261a76d8fb"
          ]
        },
        "id": "MqJUPOtRxEhD",
        "outputId": "c6dc3adf-827c-4653-dd8a-3a09b0cda804"
      },
      "source": [
        "for df in [pos, neg]:\r\n",
        "    df['prep_text'] = df.ttext.progress_apply(preprocess)"
      ],
      "execution_count": null,
      "outputs": [
        {
          "output_type": "display_data",
          "data": {
            "application/vnd.jupyter.widget-view+json": {
              "model_id": "f33bd6795e434ddaa39e956bb331321c",
              "version_minor": 0,
              "version_major": 2
            },
            "text/plain": [
              "HBox(children=(FloatProgress(value=0.0, max=114911.0), HTML(value='')))"
            ]
          },
          "metadata": {
            "tags": []
          }
        },
        {
          "output_type": "stream",
          "text": [
            "\n"
          ],
          "name": "stdout"
        },
        {
          "output_type": "display_data",
          "data": {
            "application/vnd.jupyter.widget-view+json": {
              "model_id": "e0bdae5574594b9c95f5b0720d8073f8",
              "version_minor": 0,
              "version_major": 2
            },
            "text/plain": [
              "HBox(children=(FloatProgress(value=0.0, max=111923.0), HTML(value='')))"
            ]
          },
          "metadata": {
            "tags": []
          }
        },
        {
          "output_type": "stream",
          "text": [
            "\n"
          ],
          "name": "stdout"
        }
      ]
    },
    {
      "cell_type": "code",
      "metadata": {
        "colab": {
          "base_uri": "https://localhost:8080/",
          "height": 197
        },
        "id": "POqQY6DM3uN0",
        "outputId": "eb171b60-9264-40e1-c433-6f6be7ffe73e"
      },
      "source": [
        "data = pd.concat([pos[['prep_text', 'ttype']], neg[['prep_text', 'ttype']]])\r\n",
        "data.tail()"
      ],
      "execution_count": null,
      "outputs": [
        {
          "output_type": "execute_result",
          "data": {
            "text/html": [
              "<div>\n",
              "<style scoped>\n",
              "    .dataframe tbody tr th:only-of-type {\n",
              "        vertical-align: middle;\n",
              "    }\n",
              "\n",
              "    .dataframe tbody tr th {\n",
              "        vertical-align: top;\n",
              "    }\n",
              "\n",
              "    .dataframe thead th {\n",
              "        text-align: right;\n",
              "    }\n",
              "</style>\n",
              "<table border=\"1\" class=\"dataframe\">\n",
              "  <thead>\n",
              "    <tr style=\"text-align: right;\">\n",
              "      <th></th>\n",
              "      <th>prep_text</th>\n",
              "      <th>ttype</th>\n",
              "    </tr>\n",
              "  </thead>\n",
              "  <tbody>\n",
              "    <tr>\n",
              "      <th>111918</th>\n",
              "      <td>но не каждый хотеть что то исправлять</td>\n",
              "      <td>-1</td>\n",
              "    </tr>\n",
              "    <tr>\n",
              "      <th>111919</th>\n",
              "      <td>скучать так только вправлять мозг но я всё рав...</td>\n",
              "      <td>-1</td>\n",
              "    </tr>\n",
              "    <tr>\n",
              "      <th>111920</th>\n",
              "      <td>вот и в школа в говно это идти уже надо</td>\n",
              "      <td>-1</td>\n",
              "    </tr>\n",
              "    <tr>\n",
              "      <th>111921</th>\n",
              "      <td>тауриэль не грусть обнять</td>\n",
              "      <td>-1</td>\n",
              "    </tr>\n",
              "    <tr>\n",
              "      <th>111922</th>\n",
              "      <td>такси везти я на работа раздумывать приплатить...</td>\n",
              "      <td>-1</td>\n",
              "    </tr>\n",
              "  </tbody>\n",
              "</table>\n",
              "</div>"
            ],
            "text/plain": [
              "                                                prep_text  ttype\n",
              "111918              но не каждый хотеть что то исправлять     -1\n",
              "111919  скучать так только вправлять мозг но я всё рав...     -1\n",
              "111920            вот и в школа в говно это идти уже надо     -1\n",
              "111921                          тауриэль не грусть обнять     -1\n",
              "111922  такси везти я на работа раздумывать приплатить...     -1"
            ]
          },
          "metadata": {
            "tags": []
          },
          "execution_count": 56
        }
      ]
    },
    {
      "cell_type": "code",
      "metadata": {
        "id": "jCeVCcc1xl-E"
      },
      "source": [
        "data.to_csv('data.tsv', sep='\\t')"
      ],
      "execution_count": null,
      "outputs": []
    },
    {
      "cell_type": "code",
      "metadata": {
        "id": "g19I-tUcoMp1"
      },
      "source": [
        "data = pd.read_csv('data.tsv', sep='\\t', index_col=0)\r\n",
        "data.dropna(inplace=True)"
      ],
      "execution_count": 2,
      "outputs": []
    },
    {
      "cell_type": "code",
      "metadata": {
        "id": "muCaKWtXvMr9"
      },
      "source": [
        "def code_ttype(x):\r\n",
        "    if x == -1:\r\n",
        "        x = 0\r\n",
        "    return x\r\n",
        "\r\n",
        "data['type'] = data.ttype.apply(code_ttype)"
      ],
      "execution_count": 3,
      "outputs": []
    },
    {
      "cell_type": "code",
      "metadata": {
        "colab": {
          "base_uri": "https://localhost:8080/",
          "height": 197
        },
        "id": "Wmi7WDr6pbXK",
        "outputId": "7b33c852-6775-4057-fbab-23da6923c6ef"
      },
      "source": [
        "data.tail()"
      ],
      "execution_count": 4,
      "outputs": [
        {
          "output_type": "execute_result",
          "data": {
            "text/html": [
              "<div>\n",
              "<style scoped>\n",
              "    .dataframe tbody tr th:only-of-type {\n",
              "        vertical-align: middle;\n",
              "    }\n",
              "\n",
              "    .dataframe tbody tr th {\n",
              "        vertical-align: top;\n",
              "    }\n",
              "\n",
              "    .dataframe thead th {\n",
              "        text-align: right;\n",
              "    }\n",
              "</style>\n",
              "<table border=\"1\" class=\"dataframe\">\n",
              "  <thead>\n",
              "    <tr style=\"text-align: right;\">\n",
              "      <th></th>\n",
              "      <th>prep_text</th>\n",
              "      <th>ttype</th>\n",
              "      <th>type</th>\n",
              "    </tr>\n",
              "  </thead>\n",
              "  <tbody>\n",
              "    <tr>\n",
              "      <th>111918</th>\n",
              "      <td>но не каждый хотеть что то исправлять</td>\n",
              "      <td>-1</td>\n",
              "      <td>0</td>\n",
              "    </tr>\n",
              "    <tr>\n",
              "      <th>111919</th>\n",
              "      <td>скучать так только вправлять мозг но я всё рав...</td>\n",
              "      <td>-1</td>\n",
              "      <td>0</td>\n",
              "    </tr>\n",
              "    <tr>\n",
              "      <th>111920</th>\n",
              "      <td>вот и в школа в говно это идти уже надо</td>\n",
              "      <td>-1</td>\n",
              "      <td>0</td>\n",
              "    </tr>\n",
              "    <tr>\n",
              "      <th>111921</th>\n",
              "      <td>тауриэль не грусть обнять</td>\n",
              "      <td>-1</td>\n",
              "      <td>0</td>\n",
              "    </tr>\n",
              "    <tr>\n",
              "      <th>111922</th>\n",
              "      <td>такси везти я на работа раздумывать приплатить...</td>\n",
              "      <td>-1</td>\n",
              "      <td>0</td>\n",
              "    </tr>\n",
              "  </tbody>\n",
              "</table>\n",
              "</div>"
            ],
            "text/plain": [
              "                                                prep_text  ttype  type\n",
              "111918              но не каждый хотеть что то исправлять     -1     0\n",
              "111919  скучать так только вправлять мозг но я всё рав...     -1     0\n",
              "111920            вот и в школа в говно это идти уже надо     -1     0\n",
              "111921                          тауриэль не грусть обнять     -1     0\n",
              "111922  такси везти я на работа раздумывать приплатить...     -1     0"
            ]
          },
          "metadata": {
            "tags": []
          },
          "execution_count": 4
        }
      ]
    },
    {
      "cell_type": "code",
      "metadata": {
        "colab": {
          "base_uri": "https://localhost:8080/"
        },
        "id": "_m3HjXPjpuSM",
        "outputId": "f80dac7b-aaab-4975-ef34-62cc3bf35487"
      },
      "source": [
        "data.info()"
      ],
      "execution_count": 5,
      "outputs": [
        {
          "output_type": "stream",
          "text": [
            "<class 'pandas.core.frame.DataFrame'>\n",
            "Int64Index: 226780 entries, 0 to 111922\n",
            "Data columns (total 3 columns):\n",
            " #   Column     Non-Null Count   Dtype \n",
            "---  ------     --------------   ----- \n",
            " 0   prep_text  226780 non-null  object\n",
            " 1   ttype      226780 non-null  int64 \n",
            " 2   type       226780 non-null  int64 \n",
            "dtypes: int64(2), object(1)\n",
            "memory usage: 6.9+ MB\n"
          ],
          "name": "stdout"
        }
      ]
    },
    {
      "cell_type": "markdown",
      "metadata": {
        "id": "uF3P3mM327hg"
      },
      "source": [
        "### Кодирование"
      ]
    },
    {
      "cell_type": "code",
      "metadata": {
        "id": "O4kax1RG4q5Q"
      },
      "source": [
        "tweet_train, tweet_test, class_train, class_test = train_test_split(data.prep_text, data.type, test_size=0.2, random_state=42)"
      ],
      "execution_count": 6,
      "outputs": []
    },
    {
      "cell_type": "markdown",
      "metadata": {
        "id": "E_qvW_cG3blb"
      },
      "source": [
        "#### word2id"
      ]
    },
    {
      "cell_type": "code",
      "metadata": {
        "colab": {
          "base_uri": "https://localhost:8080/"
        },
        "id": "yeElHwSV3c-p",
        "outputId": "48fb4bdb-3f8f-41b9-c71e-af1f976fae68"
      },
      "source": [
        "vocab = Counter()\r\n",
        "for tweet in tweet_train:\r\n",
        "    vocab.update(tweet.split())\r\n",
        "\r\n",
        "len(vocab)"
      ],
      "execution_count": 7,
      "outputs": [
        {
          "output_type": "execute_result",
          "data": {
            "text/plain": [
              "88483"
            ]
          },
          "metadata": {
            "tags": []
          },
          "execution_count": 7
        }
      ]
    },
    {
      "cell_type": "code",
      "metadata": {
        "colab": {
          "base_uri": "https://localhost:8080/"
        },
        "id": "MiqgWL2G5h7J",
        "outputId": "5b742e27-0292-4dc7-bb72-137fe60f2013"
      },
      "source": [
        "filtered_vocab = {word for word in vocab if vocab[word] > 5}\r\n",
        "len(filtered_vocab)"
      ],
      "execution_count": 8,
      "outputs": [
        {
          "output_type": "execute_result",
          "data": {
            "text/plain": [
              "15274"
            ]
          },
          "metadata": {
            "tags": []
          },
          "execution_count": 8
        }
      ]
    },
    {
      "cell_type": "code",
      "metadata": {
        "colab": {
          "base_uri": "https://localhost:8080/",
          "height": 35
        },
        "id": "QEF55Fps5o7T",
        "outputId": "060d7e8b-3b8a-41b8-f11e-e88123ecfe02"
      },
      "source": [
        "word2id = {word:i + 2 for i,word in enumerate(filtered_vocab)}\r\n",
        "word2id['pad'] = 0\r\n",
        "word2id['unk'] = 1  \r\n",
        "\r\n",
        "id2word = {i:word for word, i in word2id.items()}\r\n",
        "\r\n",
        "id2word[0]"
      ],
      "execution_count": 9,
      "outputs": [
        {
          "output_type": "execute_result",
          "data": {
            "application/vnd.google.colaboratory.intrinsic+json": {
              "type": "string"
            },
            "text/plain": [
              "'pad'"
            ]
          },
          "metadata": {
            "tags": []
          },
          "execution_count": 9
        }
      ]
    },
    {
      "cell_type": "markdown",
      "metadata": {
        "id": "1S7kred63Wuh"
      },
      "source": [
        "#### char2id"
      ]
    },
    {
      "cell_type": "code",
      "metadata": {
        "colab": {
          "base_uri": "https://localhost:8080/"
        },
        "id": "H_JUhjcy2k1H",
        "outputId": "c980a7a6-7816-4a21-8897-819be429fa99"
      },
      "source": [
        "chars = set([letter for word in filtered_vocab for letter in word])\r\n",
        "n_chars = len(chars)\r\n",
        "print(chars)\r\n",
        "n_chars"
      ],
      "execution_count": 10,
      "outputs": [
        {
          "output_type": "stream",
          "text": [
            "{'щ', 'о', 'ц', 'e', 'й', 'b', 'r', 'у', 'n', 'j', 'ы', 'е', 'ш', 'm', 'д', 'z', '^', 'к', 'г', 'ь', 'я', 'v', 'ё', 'в', 'g', 'u', 's', 'б', 'р', 'ю', 'f', 't', 'q', 'т', 'k', 'y', 'л', 'ч', 'м', '`', '_', 'o', 'x', 'a', 'i', 'х', 'с', 'а', 'э', 'w', 'd', 'ф', 'l', ']', 'з', 'и', 'h', '[', 'н', 'ъ', 'ж', 'п', 'c', 'p'}\n"
          ],
          "name": "stdout"
        },
        {
          "output_type": "execute_result",
          "data": {
            "text/plain": [
              "64"
            ]
          },
          "metadata": {
            "tags": []
          },
          "execution_count": 10
        }
      ]
    },
    {
      "cell_type": "code",
      "metadata": {
        "id": "i5ZPFS8L6Ayt"
      },
      "source": [
        "char2id = {c: i + 2 for i, c in enumerate(chars)}\r\n",
        "char2id[\"pad\"] = 0\r\n",
        "char2id[\"unk\"] = 1\r\n",
        "\r\n",
        "id2char = {i:char for char, i in char2id.items()}"
      ],
      "execution_count": 11,
      "outputs": []
    },
    {
      "cell_type": "markdown",
      "metadata": {
        "id": "Z3Y8EqGa8cFt"
      },
      "source": [
        "#### кодируем"
      ]
    },
    {
      "cell_type": "code",
      "metadata": {
        "colab": {
          "base_uri": "https://localhost:8080/"
        },
        "id": "TDk2RFGA7G_Z",
        "outputId": "431cdda0-a256-4c7d-f47e-5abb532c9263"
      },
      "source": [
        "[x for x in filtered_vocab if len(x) >= 20]"
      ],
      "execution_count": 12,
      "outputs": [
        {
          "output_type": "execute_result",
          "data": {
            "text/plain": [
              "['ночьвластелинакольцо',\n",
              " 'снаступающимтвиттерский',\n",
              " 'happybirthdaydominichoward',\n",
              " 'дирекшионерфолловьдирекшионер',\n",
              " 'happybirthdayjaredleto',\n",
              " 'аааааааааааааааааааа',\n",
              " 'happybirthdaytrecool',\n",
              " 'лучирадостиотрадость',\n",
              " 'предновогодниеобнимашка',\n",
              " 'tokiohotelfollowspree',\n",
              " 'happybirthdayianfromrussia',\n",
              " 'хочупровестиновогоднююночьвместёс',\n",
              " 'онлайнконференциястс',\n",
              " 'сновымгодомлюбимыйтвиттерский',\n",
              " 'justinrussiarulesyourinstagram',\n",
              " 'соколовскийяхочутести',\n",
              " 'happybirthdaylouisfromcis',\n",
              " 'happybdaytorossfromrussia',\n",
              " 'приветкакделачтоделать',\n",
              " 'happybirthdaynickiminajfromrussia']"
            ]
          },
          "metadata": {
            "tags": []
          },
          "execution_count": 12
        }
      ]
    },
    {
      "cell_type": "code",
      "metadata": {
        "colab": {
          "base_uri": "https://localhost:8080/"
        },
        "id": "jw_SZ6gE6Ilh",
        "outputId": "5f8dd273-a593-4ff0-a85a-d64322859149"
      },
      "source": [
        "char_max_len = 20\r\n",
        "print(\"установлена максимальная длина слова:\", char_max_len)"
      ],
      "execution_count": 13,
      "outputs": [
        {
          "output_type": "stream",
          "text": [
            "установлена максимальная длина слова: 20\n"
          ],
          "name": "stdout"
        }
      ]
    },
    {
      "cell_type": "code",
      "metadata": {
        "colab": {
          "base_uri": "https://localhost:8080/"
        },
        "id": "jAxM5tie7yO6",
        "outputId": "b6bbefdb-3d4b-4fda-94ec-280933a54c26"
      },
      "source": [
        "tweet_max_len = max(len(x.split()) for x in tweet_train)\r\n",
        "print(\"максимальная длина твита:\", tweet_max_len)"
      ],
      "execution_count": 14,
      "outputs": [
        {
          "output_type": "stream",
          "text": [
            "максимальная длина твита: 55\n"
          ],
          "name": "stdout"
        }
      ]
    },
    {
      "cell_type": "code",
      "metadata": {
        "id": "pkThxRg-6Pk8"
      },
      "source": [
        "def data2ints(data, smth2id):\r\n",
        "  int_data = []\r\n",
        "  for seq in data:\r\n",
        "      int_seq = []\r\n",
        "      for i in seq:\r\n",
        "        int_seq.append(smth2id.get(i.lower(), 1))\r\n",
        "  \r\n",
        "      int_data.append(int_seq)\r\n",
        "  return int_data"
      ],
      "execution_count": 15,
      "outputs": []
    },
    {
      "cell_type": "code",
      "metadata": {
        "id": "Fn2hKJcs--TM"
      },
      "source": [
        "X_train_ids, X_test_ids = data2ints(tweet_train, word2id), data2ints(tweet_test, word2id)"
      ],
      "execution_count": 16,
      "outputs": []
    },
    {
      "cell_type": "code",
      "metadata": {
        "colab": {
          "base_uri": "https://localhost:8080/"
        },
        "id": "fXnAU8eY9IZA",
        "outputId": "e41cc80e-4d60-4518-fbc5-f8c06495ebaa"
      },
      "source": [
        "X_train, X_test = pad_sequences(X_train_ids, maxlen=tweet_max_len, padding='post'), pad_sequences(X_test_ids, maxlen=tweet_max_len, padding='post')\r\n",
        "print(X_train.shape, class_train.shape)"
      ],
      "execution_count": 17,
      "outputs": [
        {
          "output_type": "stream",
          "text": [
            "(181424, 55) (181424,)\n"
          ],
          "name": "stdout"
        }
      ]
    },
    {
      "cell_type": "code",
      "metadata": {
        "id": "TGux91Td9OwO"
      },
      "source": [
        "def make_X_char(sentences):\r\n",
        "  X_char = []\r\n",
        "  for sentence in sentences:\r\n",
        "      sent_seq = []\r\n",
        "      for i in range(tweet_max_len):\r\n",
        "          word_seq = []\r\n",
        "          for j in range(char_max_len):\r\n",
        "              try:\r\n",
        "                  word_seq.append(char2id[sentence[i][j].lower()])\r\n",
        "              except:\r\n",
        "                  word_seq.append(char2id[\"pad\"])\r\n",
        "          sent_seq.append(word_seq)\r\n",
        "      X_char.append(np.array(sent_seq))\r\n",
        "  return np.array(X_char)"
      ],
      "execution_count": 18,
      "outputs": []
    },
    {
      "cell_type": "code",
      "metadata": {
        "id": "5TjvPDYh-_Z0"
      },
      "source": [
        "X_char_train, X_char_test = make_X_char(tweet_train), make_X_char(tweet_test)"
      ],
      "execution_count": 19,
      "outputs": []
    },
    {
      "cell_type": "code",
      "metadata": {
        "colab": {
          "base_uri": "https://localhost:8080/"
        },
        "id": "LBa0DaTYAL73",
        "outputId": "ea8e83ca-b1bc-4ab2-cfa1-bc3ef7af01ce"
      },
      "source": [
        "X_char_train.shape"
      ],
      "execution_count": 20,
      "outputs": [
        {
          "output_type": "execute_result",
          "data": {
            "text/plain": [
              "(181424, 55, 20)"
            ]
          },
          "metadata": {
            "tags": []
          },
          "execution_count": 20
        }
      ]
    },
    {
      "cell_type": "code",
      "metadata": {
        "colab": {
          "base_uri": "https://localhost:8080/"
        },
        "id": "NX2Po-MJv32z",
        "outputId": "2e81f3cb-2b5a-4a73-8b30-0e8f879cea95"
      },
      "source": [
        "print(X_train.shape, class_train.shape)\r\n",
        "print(X_test.shape, class_test.shape)"
      ],
      "execution_count": 21,
      "outputs": [
        {
          "output_type": "stream",
          "text": [
            "(181424, 55) (181424,)\n",
            "(45356, 55) (45356,)\n"
          ],
          "name": "stdout"
        }
      ]
    },
    {
      "cell_type": "markdown",
      "metadata": {
        "id": "lrLwcjSMAXMJ"
      },
      "source": [
        "## Сеть"
      ]
    },
    {
      "cell_type": "markdown",
      "metadata": {
        "id": "oY0nLckVBQ8j"
      },
      "source": [
        "### Архитектура с одним входом"
      ]
    },
    {
      "cell_type": "markdown",
      "metadata": {
        "id": "H8LGy0A1AhXJ"
      },
      "source": [
        "I вариант: Embedding слой -> biLSTM -> линейный слой -> выходной слой"
      ]
    },
    {
      "cell_type": "code",
      "metadata": {
        "colab": {
          "base_uri": "https://localhost:8080/",
          "height": 533
        },
        "id": "tXMwbJTjAN1v",
        "outputId": "8a1b78cd-16c0-418f-b56e-70b177cb543c"
      },
      "source": [
        "word_in1 = Input(shape=(tweet_max_len))\r\n",
        "emb_word1 = Embedding(input_dim=len(word2id), output_dim=20, mask_zero=True)(word_in1)\r\n",
        "lstm1 = Bidirectional(LSTM(units=128, return_sequences=False, recurrent_dropout=0.2))(emb_word1)\r\n",
        "lin1 = Dense(100, activation=\"relu\")(lstm1)\r\n",
        "out1 = Dense(1, activation=\"sigmoid\")(lin1)\r\n",
        "\r\n",
        "model1 = Model(inputs=word_in1, outputs=out1)\r\n",
        "\r\n",
        "optimizer1 = optimizers.Adam(learning_rate=0.001)\r\n",
        "model1.compile(optimizer=optimizer1, loss=\"binary_crossentropy\", \r\n",
        "              metrics = [Precision(), Recall(), Accuracy()])\r\n",
        "\r\n",
        "plot_model(model1, show_shapes=True, show_layer_names=False)"
      ],
      "execution_count": 80,
      "outputs": [
        {
          "output_type": "execute_result",
          "data": {
            "image/png": "[encoded data removed]",
            "text/plain": [
              "<IPython.core.display.Image object>"
            ]
          },
          "metadata": {
            "tags": []
          },
          "execution_count": 80
        }
      ]
    },
    {
      "cell_type": "code",
      "metadata": {
        "colab": {
          "base_uri": "https://localhost:8080/"
        },
        "id": "9JQuKwU6s_Ri",
        "outputId": "bb945d82-ad3b-4fd5-f2b4-8daceb46c409"
      },
      "source": [
        "model1.fit(X_train, class_train, validation_data=(X_test, class_test), batch_size=128, epochs=3, verbose=1)"
      ],
      "execution_count": 81,
      "outputs": [
        {
          "output_type": "stream",
          "text": [
            "Epoch 1/3\n",
            "1418/1418 [==============================] - 736s 515ms/step - loss: 0.6406 - precision_9: 0.6236 - recall_9: 0.5662 - accuracy: 0.0000e+00 - val_loss: 0.6158 - val_precision_9: 0.6477 - val_recall_9: 0.5928 - val_accuracy: 0.0000e+00\n",
            "Epoch 2/3\n",
            "1418/1418 [==============================] - 731s 516ms/step - loss: 0.6131 - precision_9: 0.6503 - recall_9: 0.5950 - accuracy: 0.0000e+00 - val_loss: 0.6039 - val_precision_9: 0.6655 - val_recall_9: 0.5750 - val_accuracy: 0.0000e+00\n",
            "Epoch 3/3\n",
            "1418/1418 [==============================] - 725s 511ms/step - loss: 0.6020 - precision_9: 0.6600 - recall_9: 0.6087 - accuracy: 0.0000e+00 - val_loss: 0.5958 - val_precision_9: 0.6726 - val_recall_9: 0.5963 - val_accuracy: 0.0000e+00\n"
          ],
          "name": "stdout"
        },
        {
          "output_type": "execute_result",
          "data": {
            "text/plain": [
              "<tensorflow.python.keras.callbacks.History at 0x7f4cd05ba668>"
            ]
          },
          "metadata": {
            "tags": []
          },
          "execution_count": 81
        }
      ]
    },
    {
      "cell_type": "markdown",
      "metadata": {
        "id": "_Ei8BVoaAqXP"
      },
      "source": [
        "II вариант: предобученные эмбединги weights -> biLSTM -> линейный слой -> выходной слой"
      ]
    },
    {
      "cell_type": "code",
      "metadata": {
        "colab": {
          "base_uri": "https://localhost:8080/"
        },
        "id": "PQzJtQW1ybz6",
        "outputId": "10beb385-6b6c-43f0-dfd4-79f9a1202685"
      },
      "source": [
        "!wget http://vectors.nlpl.eu/repository/20/213.zip"
      ],
      "execution_count": 107,
      "outputs": [
        {
          "output_type": "stream",
          "text": [
            "--2021-02-23 18:19:20--  http://vectors.nlpl.eu/repository/20/213.zip\n",
            "Resolving vectors.nlpl.eu (vectors.nlpl.eu)... 129.240.189.181\n",
            "Connecting to vectors.nlpl.eu (vectors.nlpl.eu)|129.240.189.181|:80... connected.\n",
            "HTTP request sent, awaiting response... 200 OK\n",
            "Length: 1485270300 (1.4G) [application/zip]\n",
            "Saving to: ‘213.zip’\n",
            "\n",
            "213.zip             100%[===================>]   1.38G  9.77MB/s    in 2m 28s  \n",
            "\n",
            "2021-02-23 18:21:50 (9.55 MB/s) - ‘213.zip’ saved [1485270300/1485270300]\n",
            "\n"
          ],
          "name": "stdout"
        }
      ]
    },
    {
      "cell_type": "code",
      "metadata": {
        "colab": {
          "base_uri": "https://localhost:8080/"
        },
        "id": "y7-EeBDTHfcp",
        "outputId": "bc9cec50-6d49-4a07-dd46-b7f1303dbec9"
      },
      "source": [
        "!unzip 213.zip"
      ],
      "execution_count": 108,
      "outputs": [
        {
          "output_type": "stream",
          "text": [
            "Archive:  213.zip\n",
            "  inflating: meta.json               \n",
            "  inflating: model.model             \n",
            "  inflating: model.model.vectors_ngrams.npy  \n",
            "  inflating: model.model.vectors.npy  \n",
            "  inflating: model.model.vectors_vocab.npy  \n",
            "  inflating: README                  \n"
          ],
          "name": "stdout"
        }
      ]
    },
    {
      "cell_type": "code",
      "metadata": {
        "colab": {
          "base_uri": "https://localhost:8080/"
        },
        "id": "P3H9zCjhJIrq",
        "outputId": "98faa54b-a07f-4627-c003-d37718cc7095"
      },
      "source": [
        "!pip install gensim --upgrade"
      ],
      "execution_count": 22,
      "outputs": [
        {
          "output_type": "stream",
          "text": [
            "Requirement already up-to-date: gensim in /usr/local/lib/python3.6/dist-packages (3.8.3)\n",
            "Requirement already satisfied, skipping upgrade: smart-open>=1.8.1 in /usr/local/lib/python3.6/dist-packages (from gensim) (4.1.2)\n",
            "Requirement already satisfied, skipping upgrade: numpy>=1.11.3 in /usr/local/lib/python3.6/dist-packages (from gensim) (1.19.5)\n",
            "Requirement already satisfied, skipping upgrade: scipy>=0.18.1 in /usr/local/lib/python3.6/dist-packages (from gensim) (1.4.1)\n",
            "Requirement already satisfied, skipping upgrade: six>=1.5.0 in /usr/local/lib/python3.6/dist-packages (from gensim) (1.15.0)\n"
          ],
          "name": "stdout"
        }
      ]
    },
    {
      "cell_type": "code",
      "metadata": {
        "id": "n69MgJcBw_R3"
      },
      "source": [
        "import gensim\r\n",
        "from gensim.models import KeyedVectors"
      ],
      "execution_count": 27,
      "outputs": []
    },
    {
      "cell_type": "code",
      "metadata": {
        "colab": {
          "base_uri": "https://localhost:8080/",
          "height": 35
        },
        "id": "7XpjqVuPJBuv",
        "outputId": "c6285513-101f-4d12-ebfc-bc8e8557a1f8"
      },
      "source": [
        "gensim.__version__"
      ],
      "execution_count": 28,
      "outputs": [
        {
          "output_type": "execute_result",
          "data": {
            "application/vnd.google.colaboratory.intrinsic+json": {
              "type": "string"
            },
            "text/plain": [
              "'3.8.3'"
            ]
          },
          "metadata": {
            "tags": []
          },
          "execution_count": 28
        }
      ]
    },
    {
      "cell_type": "code",
      "metadata": {
        "id": "LU76QAc1yC9p"
      },
      "source": [
        "vec_model_file = 'model.model'\r\n",
        "vec_model = KeyedVectors.load(vec_model_file)"
      ],
      "execution_count": 29,
      "outputs": []
    },
    {
      "cell_type": "code",
      "metadata": {
        "colab": {
          "base_uri": "https://localhost:8080/"
        },
        "id": "SMS_eDHE1IOy",
        "outputId": "751a85b4-f7d6-42c1-e17e-5892a77ffcde"
      },
      "source": [
        "vec_model['мама'].shape"
      ],
      "execution_count": 30,
      "outputs": [
        {
          "output_type": "execute_result",
          "data": {
            "text/plain": [
              "(300,)"
            ]
          },
          "metadata": {
            "tags": []
          },
          "execution_count": 30
        }
      ]
    },
    {
      "cell_type": "code",
      "metadata": {
        "colab": {
          "base_uri": "https://localhost:8080/"
        },
        "id": "HssyeV7tIeH1",
        "outputId": "43f67bd8-cf46-4498-ef51-91ba8ff05a44"
      },
      "source": [
        "'зарелизиля' in vec_model"
      ],
      "execution_count": 31,
      "outputs": [
        {
          "output_type": "execute_result",
          "data": {
            "text/plain": [
              "True"
            ]
          },
          "metadata": {
            "tags": []
          },
          "execution_count": 31
        }
      ]
    },
    {
      "cell_type": "code",
      "metadata": {
        "id": "iukAFPDTFg2d"
      },
      "source": [
        "#weights = np.zeros((len(word2id), 300))\r\n",
        "weights = {0: np.zeros(300), 1: np.zeros(300)}\r\n",
        "for i in range(2, len(id2word)):\r\n",
        "    word = id2word[i]\r\n",
        "    vec = vec_model[word]\r\n",
        "    weights[i] = vec"
      ],
      "execution_count": 32,
      "outputs": []
    },
    {
      "cell_type": "code",
      "metadata": {
        "colab": {
          "base_uri": "https://localhost:8080/"
        },
        "id": "c4EuEb0H1ZbV",
        "outputId": "d7759613-7211-4fcb-a4c2-945014f63025"
      },
      "source": [
        "len(weights) == len(word2id)"
      ],
      "execution_count": 33,
      "outputs": [
        {
          "output_type": "execute_result",
          "data": {
            "text/plain": [
              "True"
            ]
          },
          "metadata": {
            "tags": []
          },
          "execution_count": 33
        }
      ]
    },
    {
      "cell_type": "code",
      "metadata": {
        "colab": {
          "base_uri": "https://localhost:8080/"
        },
        "id": "Nr0fK9fTK7Jp",
        "outputId": "221315a5-5457-4835-9d88-f10bc3be35c1"
      },
      "source": [
        "weights_matrix = np.array(list(weights.values()))\r\n",
        "weights_matrix.shape"
      ],
      "execution_count": 41,
      "outputs": [
        {
          "output_type": "execute_result",
          "data": {
            "text/plain": [
              "(15276, 300)"
            ]
          },
          "metadata": {
            "tags": []
          },
          "execution_count": 41
        }
      ]
    },
    {
      "cell_type": "code",
      "metadata": {
        "colab": {
          "base_uri": "https://localhost:8080/",
          "height": 533
        },
        "id": "26tmyiKLA9o_",
        "outputId": "5cec00ee-109e-4ba6-868d-38a8e08b82cb"
      },
      "source": [
        "word_in2 = Input(shape=(tweet_max_len))\r\n",
        "emb_word2 = Embedding(input_dim=len(word2id), output_dim=300, trainable=False, weights=[weights_matrix])(word_in2)\r\n",
        "lstm2 = Bidirectional(LSTM(units=128, return_sequences=False, recurrent_dropout=0.2))(emb_word2)\r\n",
        "lin2 = Dense(100, activation=\"relu\")(lstm2)\r\n",
        "out2 = Dense(1, activation=\"sigmoid\")(lin2)\r\n",
        "\r\n",
        "model2 = Model(inputs=word_in2, outputs=out2)\r\n",
        "\r\n",
        "optimizer2 = optimizers.Adam(learning_rate=0.001)\r\n",
        "model2.compile(optimizer=optimizer2, loss=\"binary_crossentropy\", \r\n",
        "              metrics = [Precision(), Recall(), Accuracy()])\r\n",
        "\r\n",
        "plot_model(model2, show_shapes=True, show_layer_names=False)"
      ],
      "execution_count": 43,
      "outputs": [
        {
          "output_type": "execute_result",
          "data": {
            "image/png": "[encoded data removed]",
            "text/plain": [
              "<IPython.core.display.Image object>"
            ]
          },
          "metadata": {
            "tags": []
          },
          "execution_count": 43
        }
      ]
    },
    {
      "cell_type": "code",
      "metadata": {
        "colab": {
          "base_uri": "https://localhost:8080/"
        },
        "id": "GSygCki75GLk",
        "outputId": "8dad7a4c-52c0-4aae-92d8-9eed3f6237e5"
      },
      "source": [
        "model2.fit(X_train, class_train, validation_data=(X_test, class_test), batch_size=128, epochs=3, verbose=1)"
      ],
      "execution_count": 45,
      "outputs": [
        {
          "output_type": "stream",
          "text": [
            "Epoch 1/3\n",
            "1418/1418 [==============================] - 1083s 760ms/step - loss: 0.6397 - precision: 0.6198 - recall: 0.5611 - accuracy: 0.0000e+00 - val_loss: 0.5994 - val_precision: 0.6907 - val_recall: 0.5502 - val_accuracy: 0.0000e+00\n",
            "Epoch 2/3\n",
            "1418/1418 [==============================] - 1073s 757ms/step - loss: 0.5945 - precision: 0.6628 - recall: 0.6344 - accuracy: 0.0000e+00 - val_loss: 0.5754 - val_precision: 0.6591 - val_recall: 0.7342 - val_accuracy: 0.0000e+00\n",
            "Epoch 3/3\n",
            "1418/1418 [==============================] - 1086s 766ms/step - loss: 0.5703 - precision: 0.6823 - recall: 0.6909 - accuracy: 0.0000e+00 - val_loss: 0.5539 - val_precision: 0.6996 - val_recall: 0.6936 - val_accuracy: 0.0000e+00\n"
          ],
          "name": "stdout"
        },
        {
          "output_type": "execute_result",
          "data": {
            "text/plain": [
              "<tensorflow.python.keras.callbacks.History at 0x7fc4e88b07b8>"
            ]
          },
          "metadata": {
            "tags": []
          },
          "execution_count": 45
        }
      ]
    },
    {
      "cell_type": "markdown",
      "metadata": {
        "id": "dzarFQtNA-QJ"
      },
      "source": [
        "III вариант: fasttext эмбеддинги обучаются на всем корпусе с нуля -> biLSTM -> линейный слой -> выходной слой\r\n",
        "\r\n",
        "https://stackoverflow.com/questions/62743531/using-gensim-fasttext-model-with-lstm-nn-in-keras"
      ]
    },
    {
      "cell_type": "code",
      "metadata": {
        "id": "hevpQxmUM7Qo"
      },
      "source": [
        "from gensim.models import FastText"
      ],
      "execution_count": 46,
      "outputs": []
    },
    {
      "cell_type": "code",
      "metadata": {
        "id": "TO-FlIcZHaQW"
      },
      "source": [
        "texts = [text.split() for text in data.prep_text]\r\n",
        "ft_model = FastText(sentences=texts, size=100, window=3, iter=3, min_count=5)\r\n",
        "#ft_emb = np.zeros((len(word2id), 100))"
      ],
      "execution_count": 47,
      "outputs": []
    },
    {
      "cell_type": "code",
      "metadata": {
        "colab": {
          "base_uri": "https://localhost:8080/"
        },
        "id": "zFY_EyWKQNgx",
        "outputId": "b931fe4a-13d9-42d1-f1d3-2b622d4c9a99"
      },
      "source": [
        "ft_weights = {0: np.zeros(100), 1: np.zeros(100)}\r\n",
        "for i in range(2, len(id2word)):\r\n",
        "    word = id2word[i]\r\n",
        "    vec = ft_model.wv[word]\r\n",
        "    ft_weights[i] = vec\r\n",
        "\r\n",
        "ft_weights_matrix = np.array(list(ft_weights.values()))\r\n",
        "ft_weights_matrix.shape"
      ],
      "execution_count": 48,
      "outputs": [
        {
          "output_type": "execute_result",
          "data": {
            "text/plain": [
              "(15276, 100)"
            ]
          },
          "metadata": {
            "tags": []
          },
          "execution_count": 48
        }
      ]
    },
    {
      "cell_type": "code",
      "metadata": {
        "colab": {
          "base_uri": "https://localhost:8080/",
          "height": 533
        },
        "id": "XUPU5vY4BGDg",
        "outputId": "a23593bf-bab0-4c8e-f4bb-fc01b16a49bb"
      },
      "source": [
        "word_in3 = Input(shape=(tweet_max_len))\r\n",
        "emb_word3 = Embedding(input_dim=len(word2id), output_dim=100, trainable=False, weights=[ft_weights_matrix])(word_in3)\r\n",
        "lstm3 = Bidirectional(LSTM(units=128, return_sequences=False, recurrent_dropout=0.2))(emb_word3)\r\n",
        "lin3 = Dense(100, activation=\"relu\")(lstm3)\r\n",
        "out3 = Dense(1, activation=\"sigmoid\")(lin3)\r\n",
        "\r\n",
        "model3 = Model(inputs=word_in3, outputs=out3)\r\n",
        "\r\n",
        "optimizer3 = optimizers.Adam(learning_rate=0.001)\r\n",
        "model3.compile(optimizer=optimizer3, loss=\"binary_crossentropy\", \r\n",
        "              metrics = [Precision(), Recall(), Accuracy()])\r\n",
        "\r\n",
        "plot_model(model3, show_shapes=True, show_layer_names=False)"
      ],
      "execution_count": 49,
      "outputs": [
        {
          "output_type": "execute_result",
          "data": {
            "image/png": "[encoded data removed]",
            "text/plain": [
              "<IPython.core.display.Image object>"
            ]
          },
          "metadata": {
            "tags": []
          },
          "execution_count": 49
        }
      ]
    },
    {
      "cell_type": "code",
      "metadata": {
        "colab": {
          "base_uri": "https://localhost:8080/"
        },
        "id": "8i3XVMvNd5aK",
        "outputId": "45357eb1-6d72-479f-f909-181b842a156a"
      },
      "source": [
        "model3.fit(X_train, class_train, validation_data=(X_test, class_test), batch_size=128, epochs=3, verbose=1)"
      ],
      "execution_count": 50,
      "outputs": [
        {
          "output_type": "stream",
          "text": [
            "Epoch 1/3\n",
            "1418/1418 [==============================] - 740s 519ms/step - loss: 0.6408 - precision_1: 0.6081 - recall_1: 0.5430 - accuracy: 0.0000e+00 - val_loss: 0.5947 - val_precision_1: 0.6687 - val_recall_1: 0.6227 - val_accuracy: 0.0000e+00\n",
            "Epoch 2/3\n",
            "1418/1418 [==============================] - 736s 519ms/step - loss: 0.5861 - precision_1: 0.6740 - recall_1: 0.6637 - accuracy: 0.0000e+00 - val_loss: 0.5656 - val_precision_1: 0.7331 - val_recall_1: 0.5893 - val_accuracy: 0.0000e+00\n",
            "Epoch 3/3\n",
            "1418/1418 [==============================] - 736s 519ms/step - loss: 0.5573 - precision_1: 0.6991 - recall_1: 0.6972 - accuracy: 0.0000e+00 - val_loss: 0.5476 - val_precision_1: 0.7058 - val_recall_1: 0.7051 - val_accuracy: 0.0000e+00\n"
          ],
          "name": "stdout"
        },
        {
          "output_type": "execute_result",
          "data": {
            "text/plain": [
              "<tensorflow.python.keras.callbacks.History at 0x7fc4c6a014e0>"
            ]
          },
          "metadata": {
            "tags": []
          },
          "execution_count": 50
        }
      ]
    },
    {
      "cell_type": "markdown",
      "metadata": {
        "id": "jNAU7O9YELcW"
      },
      "source": [
        "По метрикам лучше всего себя показал III вариант, на следующем шаге будем использовать именно его"
      ]
    },
    {
      "cell_type": "markdown",
      "metadata": {
        "id": "urowfoYuBf4j"
      },
      "source": [
        "### Архитектура с двумя входами\r\n",
        "\r\n",
        "эмбеддинги -> biLSTM\r\n",
        "\r\n",
        "CharCNN -> biLSTM\r\n",
        "\r\n",
        "выходы обеих biLSTM конкатенируются -> линейный слой -> выходной слой"
      ]
    },
    {
      "cell_type": "code",
      "metadata": {
        "colab": {
          "base_uri": "https://localhost:8080/",
          "height": 865
        },
        "id": "BJhoJ9HeBjo8",
        "outputId": "5f0a69ee-ae46-4a37-cc05-c4af2a05d71c"
      },
      "source": [
        "# один вход для слов\r\n",
        "word_in = Input(shape=(tweet_max_len))\r\n",
        "emb_word = Embedding(input_dim=len(word2id), output_dim=100, trainable=False, weights=[ft_weights_matrix])(word_in)\r\n",
        "word_lstm = Bidirectional(LSTM(units=128, return_sequences=False,\r\n",
        "                               recurrent_dropout=0.2))(emb_word)\r\n",
        "\r\n",
        "# другой вход для символов\r\n",
        "char_in = Input(shape=(tweet_max_len, char_max_len))\r\n",
        "emb_char = TimeDistributed(Embedding(input_dim=len(char2id), output_dim=10, input_length=char_max_len))(char_in)\r\n",
        "# свертка на символах (CharCNN) применяется к каждому слову отдельно\r\n",
        "char_enc = TimeDistributed(Conv1D(filters=12, kernel_size=3))(emb_char)\r\n",
        "char_flat = TimeDistributed(Flatten())(char_enc)\r\n",
        "char_lstm = Bidirectional(LSTM(units=50, return_sequences=False,\r\n",
        "                               recurrent_dropout=0.2))(char_flat)\r\n",
        "\r\n",
        "x = concatenate([word_lstm, char_lstm])\r\n",
        "lin = Dense(100, activation=\"relu\")(x)\r\n",
        "out = Dense(1, activation=\"sigmoid\")(lin)\r\n",
        "\r\n",
        "model = Model(inputs=[char_in, word_in], outputs=out)\r\n",
        "\r\n",
        "\r\n",
        "optimizer = optimizers.Adam(learning_rate=0.001)\r\n",
        "model.compile(optimizer=optimizer, loss=\"binary_crossentropy\",\r\n",
        "               metrics = [Precision(), Recall(), Accuracy()])\r\n",
        "plot_model(model, show_shapes=True, show_layer_names=False)"
      ],
      "execution_count": 55,
      "outputs": [
        {
          "output_type": "execute_result",
          "data": {
            "image/png": "[encoded data removed]",
            "text/plain": [
              "<IPython.core.display.Image object>"
            ]
          },
          "metadata": {
            "tags": []
          },
          "execution_count": 55
        }
      ]
    },
    {
      "cell_type": "code",
      "metadata": {
        "id": "Dp4RwaFeDv5j",
        "colab": {
          "base_uri": "https://localhost:8080/"
        },
        "outputId": "44816a21-7ffb-4176-af66-27666127c808"
      },
      "source": [
        "model.fit([X_char_train, X_train], class_train, validation_data=([X_char_test, X_test], class_test), batch_size=128, epochs=3, verbose=1)"
      ],
      "execution_count": null,
      "outputs": [
        {
          "output_type": "stream",
          "text": [
            "Epoch 1/3\n",
            " 199/1418 [===>..........................] - ETA: 17:01 - loss: 0.6737 - precision_3: 0.5600 - recall_3: 0.5449 - accuracy: 0.0000e+00"
          ],
          "name": "stdout"
        }
      ]
    },
    {
      "cell_type": "code",
      "metadata": {
        "id": "LagFOPqsm2i5"
      },
      "source": [
        ""
      ],
      "execution_count": null,
      "outputs": []
    }
  ]
}